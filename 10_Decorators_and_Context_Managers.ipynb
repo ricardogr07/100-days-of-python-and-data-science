{
 "cells": [
  {
   "cell_type": "markdown",
   "id": "993ba561",
   "metadata": {},
   "source": [
    "# Day 10 - Decorators and Context Managers in Python"
   ]
  },
  {
   "cell_type": "markdown",
   "id": "f423ec36",
   "metadata": {},
   "source": [
    "## Why Are Decorators and Context Managers Important?\n",
    "Decorators are powerful tools in Python that allow you to extend or enhance the behavior of existing functions or methods in a clean and reusable manner. They are especially useful for adding functionality like performance monitoring, access control, and logging, without modifying the original function's body. This leads to more maintainable and understandable code.\n",
    "\n",
    "Context managers, on the other hand, are essential for proper resource management. They provide a structured way to allocate and release resources—whether it's file streams, database connections, or network connections—when needed. By ensuring resources are released after use, context managers help prevent resource leaks and make your code safer and cleaner."
   ]
  },
  {
   "cell_type": "markdown",
   "id": "264c92b3",
   "metadata": {},
   "source": [
    "## Understanding Decorators and Context Managers\n",
    "Decorators allow you to wrap a function with additional functionality. They are commonly used for logging, access control, memoization, and more.\n",
    "A decorator is applied using the `@decorator_name` syntax above the function definition."
   ]
  },
  {
   "cell_type": "code",
   "execution_count": 2,
   "id": "ac19b24f",
   "metadata": {},
   "outputs": [
    {
     "name": "stdout",
     "output_type": "stream",
     "text": [
      "Something is happening before the function is called.\n",
      "Hello!\n",
      "Something is happening after the function is called.\n"
     ]
    }
   ],
   "source": [
    "# Define the decorator function\n",
    "def my_decorator(func):\n",
    "    def wrapper():\n",
    "        print(\"Something is happening before the function is called.\")\n",
    "        func()\n",
    "        print(\"Something is happening after the function is called.\")\n",
    "    return wrapper\n",
    "\n",
    "@my_decorator\n",
    "def say_hello():\n",
    "    print(\"Hello!\")\n",
    "\n",
    "say_hello()"
   ]
  },
  {
   "cell_type": "markdown",
   "id": "4b0d71a9",
   "metadata": {},
   "source": [
    "### Explanation:\n",
    "- **`my_decorator(func)`**: This is the decorator function. It takes a single argument, which is another function (`func`).\n",
    "- **`wrapper()`**: Inside `my_decorator`, we define another function called `wrapper()`. This function wraps the execution of the original function `func()`. It will be responsible for adding extra functionality.\n",
    "- **`return wrapper`**: The decorator function (`my_decorator`) does not return the original function itself but returns the `wrapper` function."
   ]
  },
  {
   "cell_type": "markdown",
   "id": "56494189",
   "metadata": {},
   "source": [
    "## Context Managers\n",
    "A context manager is an object that manages resources (like files or connections) during a code block.  \n",
    "The most common use case is with the `with` statement, which ensures resources are properly allocated and released."
   ]
  },
  {
   "cell_type": "code",
   "execution_count": 3,
   "id": "b9131e9f",
   "metadata": {},
   "outputs": [
    {
     "name": "stdout",
     "output_type": "stream",
     "text": [
      "Opening file example.txt\n",
      "Closing file example.txt\n",
      "Exception occurred: <class 'Exception'>, An error occurred while writing to the file\n"
     ]
    }
   ],
   "source": [
    "class ManagedFile:\n",
    "    def __init__(self, filename):\n",
    "        # Initialize with the name of the file\n",
    "        self.filename = filename\n",
    "\n",
    "    def __enter__(self):\n",
    "        # Open the file and return the file object to be used in the 'with' block\n",
    "        self.file = open(self.filename, 'w')\n",
    "        print(f\"Opening file {self.filename}\")\n",
    "        return self.file\n",
    "\n",
    "    def __exit__(self, exc_type, exc_val, exc_tb):\n",
    "        # Ensure the file is closed no matter what happens in the 'with' block\n",
    "        if self.file:\n",
    "            self.file.close()\n",
    "            print(f\"Closing file {self.filename}\")\n",
    "        # Handle any exceptions (if necessary)\n",
    "        if exc_type is not None:\n",
    "            print(f\"Exception occurred: {exc_type}, {exc_val}\")\n",
    "        return True\n",
    "\n",
    "with ManagedFile('example.txt') as f:\n",
    "    f.write('Hello, world!')\n",
    "    raise Exception(\"An error occurred while writing to the file\")"
   ]
  },
  {
   "cell_type": "markdown",
   "id": "522302fd",
   "metadata": {},
   "source": [
    "### Explanation of the Code:\n",
    "- **`__enter__()`**: This method is called at the start of the `with` block. It opens the file in write mode and returns the file object to be used.\n",
    "- **`__exit__()`**: This method is called after the code block is done, even if an exception occurs. It closes the file and prints a message."
   ]
  },
  {
   "cell_type": "markdown",
   "id": "091584ab",
   "metadata": {},
   "source": [
    "## Step-by-Step Explanation: Creating a Logging Decorator\n",
    "The goal of the logging decorator is to measure and log the execution time of any function it wraps."
   ]
  },
  {
   "cell_type": "code",
   "execution_count": 4,
   "id": "fcfbff9a",
   "metadata": {},
   "outputs": [
    {
     "name": "stdout",
     "output_type": "stream",
     "text": [
      "Executed slow_function in 2.0009 seconds\n",
      "Slept for 2 seconds\n"
     ]
    }
   ],
   "source": [
    "import time\n",
    "\n",
    "def log_execution_time(func):\n",
    "    def wrapper(*args, **kwargs):\n",
    "        # Record the start time\n",
    "        start_time = time.time()\n",
    "\n",
    "        # Execute the original function\n",
    "        result = func(*args, **kwargs)\n",
    "\n",
    "        # Record the end time and calculate the duration\n",
    "        end_time = time.time()\n",
    "        execution_time = end_time - start_time\n",
    "\n",
    "        # Log the execution time\n",
    "        print(f\"Executed {func.__name__} in {execution_time:.4f} seconds\")\n",
    "\n",
    "        return result\n",
    "    return wrapper\n",
    "\n",
    "@log_execution_time\n",
    "def slow_function(seconds):\n",
    "    \"\"\"Simulates a slow function by sleeping for a given number of seconds.\"\"\"\n",
    "    time.sleep(seconds)\n",
    "    return f\"Slept for {seconds} seconds\"\n",
    "\n",
    "print(slow_function(2))"
   ]
  },
  {
   "cell_type": "markdown",
   "id": "2eac4ce1",
   "metadata": {},
   "source": [
    "## Adding a Context Manager for Logging to a File:\n",
    "This context manager ensures the log file is opened before writing and is properly closed afterward."
   ]
  },
  {
   "cell_type": "code",
   "execution_count": 5,
   "id": "027c73d0",
   "metadata": {},
   "outputs": [],
   "source": [
    "class LogFileManager:\n",
    "    def __init__(self, log_file):\n",
    "        self.log_file = log_file\n",
    "\n",
    "    def __enter__(self):\n",
    "        self.file = open(self.log_file, 'a')  # Open the log file in append mode\n",
    "        return self.file\n",
    "\n",
    "    def __exit__(self, exc_type, exc_value, exc_traceback):\n",
    "        if self.file:\n",
    "            self.file.close()  # Ensure the file is closed"
   ]
  },
  {
   "cell_type": "code",
   "execution_count": 6,
   "id": "29cc6698",
   "metadata": {},
   "outputs": [
    {
     "name": "stdout",
     "output_type": "stream",
     "text": [
      "Executed slow_function in 2.0010 seconds\n",
      "Slept for 2 seconds\n"
     ]
    }
   ],
   "source": [
    "def log_execution_time_to_file(log_file):\n",
    "    def decorator(func):\n",
    "        def wrapper(*args, **kwargs):\n",
    "            start_time = time.time()\n",
    "            result = func(*args, **kwargs)\n",
    "            end_time = time.time()\n",
    "            execution_time = end_time - start_time\n",
    "\n",
    "            # Log execution time to both console and log file\n",
    "            print(f\"Executed {func.__name__} in {execution_time:.4f} seconds\")\n",
    "            \n",
    "            # Using context manager to write to log file\n",
    "            with LogFileManager(log_file) as log:\n",
    "                log.write(f\"Executed {func.__name__} in {execution_time:.4f} seconds\\n\")\n",
    "\n",
    "            return result\n",
    "        return wrapper\n",
    "    return decorator\n",
    "\n",
    "@log_execution_time_to_file('execution_times.log')\n",
    "def slow_function(seconds):\n",
    "    \"\"\"Simulates a slow function by sleeping for a given number of seconds.\"\"\"\n",
    "    time.sleep(seconds)\n",
    "    return f\"Slept for {seconds} seconds\"\n",
    "\n",
    "# Run the function to test logging\n",
    "print(slow_function(2))"
   ]
  }
 ],
 "metadata": {
  "kernelspec": {
   "display_name": "Python 3",
   "language": "python",
   "name": "python3"
  },
  "language_info": {
   "codemirror_mode": {
    "name": "ipython",
    "version": 3
   },
   "file_extension": ".py",
   "mimetype": "text/x-python",
   "name": "python",
   "nbconvert_exporter": "python",
   "version": "3.8.5"
  }
 },
 "nbformat": 4,
 "nbformat_minor": 5
}
