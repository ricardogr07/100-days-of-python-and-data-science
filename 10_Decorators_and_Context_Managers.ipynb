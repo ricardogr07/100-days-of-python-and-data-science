{
 "cells": [
  {
   "cell_type": "markdown",
   "id": "ad10165e",
   "metadata": {},
   "source": [
    "# Day 10 - Decorators and Context Managers in Python"
   ]
  },
  {
   "cell_type": "markdown",
   "id": "79522db8",
   "metadata": {},
   "source": [
    "## Why Are Decorators and Context Managers Important?\n",
    "\n",
    "Decorators are powerful tools in Python that allow you to enhance the functionality of existing functions or methods in a clean, elegant, and reusable manner. They are particularly useful for adding common \"wrapper\" functionalities, such as performance monitoring, access control, or logging operations, without altering the original function body. This can greatly simplify your code and make it easier to maintain.\n",
    "\n",
    "Context managers, on the other hand, play a crucial role in resource management. They provide a structured way to allocate and release resources precisely when you need to. Whether it's dealing with file operations, network connections, or ensuring that locks are properly handled, context managers help prevent resource leaks and ensure that your application runs more reliably. By encapsulating the setup and teardown logic for resources, context managers make your code both safer and cleaner.\n"
   ]
  },
  {
   "cell_type": "markdown",
   "id": "0440ea39",
   "metadata": {},
   "source": [
    "## Basic Theory: Understanding Decorators and Context Managers\n",
    "\n",
    "### Decorators:\n",
    "\n",
    "Decorators enhance the functionality of existing functions or methods in a clean and reusable way. Decorators are often used for logging, access control, memoization, and more. They are implemented using the @decorator_name syntax above a function definition.\n",
    "\n",
    "Here's a basic syntax example:\n",
    "\n",
    "```python\n",
    "def my_decorator(func):\n",
    "    def wrapper():\n",
    "        print(\"Something is happening before the function is called.\")\n",
    "        func()\n",
    "        print(\"Something is happening after the function is called.\")\n",
    "    return wrapper\n",
    "\n",
    "@my_decorator\n",
    "def say_hello():\n",
    "    print(\"Hello!\")\n",
    "\n",
    "say_hello()\n",
    "```\n",
    "\n",
    "Let's break down the last code snippet:\n",
    "- `my_decorator` is a function that takes another function as its argument.\n",
    "- Inside `my_decorator`, the `wrapper` function is defined. It wraps the execution of the input function (`func`) with additional code before and after its call.\n",
    "- The `@my_decorator` syntax is syntactic sugar that applies the decorator to the `say_hello` function.\n"
   ]
  },
  {
   "cell_type": "markdown",
   "id": "91d01bcf",
   "metadata": {},
   "source": [
    "### Context Managers:\n",
    "\n",
    "A context manager is an object that defines the runtime context to be established when executing a `with` statement.\n",
    "\n",
    "Context managers are used to manage resources such as file streams or network connections.\n",
    "\n",
    "They ensure that resources are properly cleaned up after use, preventing resource leaks.\n",
    "\n",
    "Here's how you can define one using a class:\n",
    "\n",
    "```python\n",
    "class ManagedFile:\n",
    "    def __init__(self, filename):\n",
    "        self.filename = filename\n",
    "\n",
    "    def __enter__(self):\n",
    "        self.file = open(self.filename, 'w')\n",
    "        return self.file\n",
    "\n",
    "    def __exit__(self, exc_type, exc_val, exc_tb):\n",
    "        if self.file:\n",
    "            self.file.close()\n",
    "\n",
    "with ManagedFile('hello.txt') as f:\n",
    "    f.write('Hello, world!')\n",
    "```\n",
    "\n",
    "Let's now break down the above code:\n",
    "- The `ManagedFile` class defines how to open and close a file. It uses the special methods `__enter__` and `__exit__` to implement the context management protocol.\n",
    "- The `__enter__` method is called when the execution enters the context of the `with` statement and it opens the file and returns it.\n",
    "- The `__exit__` method ensures that the file is closed when the block inside the `with` statement is exited, even if an exception occurs.\n"
   ]
  },
  {
   "cell_type": "code",
   "execution_count": null,
   "id": "a1e99dc5",
   "metadata": {},
   "outputs": [],
   "source": [
    "# Example: Implementing a Simple Logging Decorator\n",
    "import time\n",
    "\n",
    "def log_execution_time(func):\n",
    "    \"\"\"Decorator that logs the execution time of a function.\"\"\"\n",
    "    def wrapper(*args, **kwargs):\n",
    "        start_time = time.time()\n",
    "        result = func(*args, **kwargs)\n",
    "        end_time = time.time()\n",
    "        execution_time = end_time - start_time\n",
    "        print(f\"Executed {func.__name__} in {execution_time:.4f} seconds\")\n",
    "        return result\n",
    "    return wrapper\n",
    "\n",
    "@log_execution_time\n",
    "def slow_function(seconds):\n",
    "    \"\"\"Simulates a slow function by sleeping for a given number of seconds.\"\"\"\n",
    "    time.sleep(seconds)\n",
    "    return f\"Slept for {seconds} seconds\"\n",
    "\n",
    "print(slow_function(2))\n"
   ]
  },
  {
   "cell_type": "code",
   "execution_count": null,
   "id": "260d1079",
   "metadata": {},
   "outputs": [],
   "source": [
    "# Example: Managing Resource Usage with Context Managers\n",
    "class ManagedFile:\n",
    "    def __init__(self, filename):\n",
    "        self.filename = filename\n",
    "\n",
    "    def __enter__(self):\n",
    "        self.file = open(self.filename, 'w')\n",
    "        return self.file\n",
    "\n",
    "    def __exit__(self, exc_type, exc_value, exc_traceback):\n",
    "        if self.file:\n",
    "            self.file.close()\n",
    "\n",
    "# Using the context manager\n",
    "with ManagedFile('example.txt') as f:\n",
    "    f.write('Hello, world!')\n"
   ]
  }
 ],
 "metadata": {
  "kernelspec": {
   "display_name": "Python 3",
   "language": "python",
   "name": "python3"
  },
  "language_info": {
   "codemirror_mode": {
    "name": "ipython",
    "version": 3
   },
   "file_extension": ".py",
   "mimetype": "text/x-python",
   "name": "python",
   "nbconvert_exporter": "python",
   "pygments_lexer": "ipython3",
   "version": "3.12.2"
  }
 },
 "nbformat": 4,
 "nbformat_minor": 5
}
