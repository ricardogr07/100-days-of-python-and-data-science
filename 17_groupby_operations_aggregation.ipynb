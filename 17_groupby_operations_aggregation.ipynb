{
 "cells": [
  {
   "cell_type": "markdown",
   "id": "2b884e49",
   "metadata": {},
   "source": [
    "\n",
    "# Day 17 - GroupBy Operations for Aggregation\n",
    "    "
   ]
  },
  {
   "cell_type": "markdown",
   "id": "fe40429b",
   "metadata": {},
   "source": [
    "\n",
    "### Why Are GroupBy Operations Important?\n",
    "\n",
    "GroupBy operations are crucial for data analysis because they allow you to split your data into meaningful groups and perform aggregate calculations, such as sums, averages, and counts. This is particularly useful when analyzing sales data, customer data, or any dataset where you need to understand the distribution or total of certain metrics across different categories.\n",
    "    "
   ]
  },
  {
   "cell_type": "markdown",
   "id": "a070c4b2",
   "metadata": {},
   "source": [
    "\n",
    "### Tutorial: Grouping Data and Calculating Statistics\n",
    "\n",
    "Let's start by understanding how to use the `groupby` function in Pandas to group data and then perform aggregate operations on those groups.\n",
    "    "
   ]
  },
  {
   "cell_type": "code",
   "execution_count": null,
   "id": "d5a9f8a0",
   "metadata": {},
   "outputs": [],
   "source": [
    "!pip install pandas"
   ]
  },
  {
   "cell_type": "code",
   "execution_count": null,
   "id": "d64a3bf0",
   "metadata": {},
   "outputs": [],
   "source": [
    "import pandas as pd\n",
    "\n",
    "# Example DataFrame\n",
    "data = {\n",
    "    'Region': ['North', 'South', 'East', 'West', 'North', 'South', 'East', 'West'],\n",
    "    'Sales': [250, 150, 200, 300, 400, 350, 100, 450],\n",
    "    'Profit': [50, 40, 60, 80, 70, 90, 30, 100]\n",
    "}\n",
    "df = pd.DataFrame(data)\n",
    "\n",
    "# Grouping by 'Region'\n",
    "grouped = df.groupby('Region')\n",
    "print(grouped.head())\n",
    "    "
   ]
  },
  {
   "cell_type": "markdown",
   "id": "fd6f7a42",
   "metadata": {},
   "source": [
    "\n",
    "### Calculating Aggregate Statistics\n",
    "\n",
    "Once you've grouped your data, you can calculate various aggregate statistics, such as the sum, mean, or count, using functions like `sum()`, `mean()`, `count()`, etc.\n",
    "    "
   ]
  },
  {
   "cell_type": "code",
   "execution_count": null,
   "id": "91b0d6dc",
   "metadata": {},
   "outputs": [],
   "source": [
    "\n",
    "# Calculating the sum of Sales and Profit by Region\n",
    "aggregated = grouped.sum()\n",
    "print(\"Sum of Sales and Profit by Region:\")\n",
    "print(aggregated)\n",
    "    "
   ]
  },
  {
   "cell_type": "markdown",
   "id": "1889a88e",
   "metadata": {},
   "source": [
    "\n",
    "### Applying Multiple Aggregations\n",
    "\n",
    "You can also apply multiple aggregation functions simultaneously using the `agg()` function.\n",
    "    "
   ]
  },
  {
   "cell_type": "code",
   "execution_count": null,
   "id": "8833dd0c",
   "metadata": {},
   "outputs": [],
   "source": [
    "\n",
    "# Applying multiple aggregate functions\n",
    "multiple_aggregations = grouped.agg({'Sales': ['sum', 'mean'], 'Profit': ['sum', 'mean']})\n",
    "print(\"Multiple Aggregations (sum and mean) for Sales and Profit by Region:\")\n",
    "print(multiple_aggregations)\n",
    "    "
   ]
  },
  {
   "cell_type": "markdown",
   "id": "aa88860f",
   "metadata": {},
   "source": [
    "\n",
    "## Use Case: Aggregating Sales Data by Region\n",
    "\n",
    "In this use case, we will aggregate sales data by region to understand the distribution of sales and profits across different regions. This will help in identifying which regions are performing well and which may need improvement.\n",
    "    "
   ]
  },
  {
   "cell_type": "markdown",
   "id": "46057f5b",
   "metadata": {},
   "source": [
    "\n",
    "### Step 1: Preparing the Dataset\n",
    "\n",
    "Suppose you have a dataset containing sales transactions with columns for the region, sales amount, and profit.\n",
    "    "
   ]
  },
  {
   "cell_type": "code",
   "execution_count": null,
   "id": "7445f9b8",
   "metadata": {},
   "outputs": [],
   "source": [
    "\n",
    "import pandas as pd\n",
    "import numpy as np\n",
    "\n",
    "# Sales data\n",
    "np.random.seed(42)\n",
    "data = {\n",
    "    'Transaction ID': range(1, 101),\n",
    "    'Region': pd.Categorical(np.random.choice(['North', 'South', 'East', 'West'], size=100)),\n",
    "    'Sales': np.random.randint(100, 500, size=100),\n",
    "    'Profit': np.random.randint(10, 100, size=100)\n",
    "}\n",
    "sales_df = pd.DataFrame(data)\n",
    "\n",
    "# Display the first few rows of the dataset\n",
    "print(\"First few rows of the sales dataset:\")\n",
    "print(sales_df.head())\n",
    "    "
   ]
  },
  {
   "cell_type": "markdown",
   "id": "a95060d3",
   "metadata": {},
   "source": [
    "\n",
    "### Step 2: Grouping Sales Data by Region\n",
    "\n",
    "We will group the sales data by region and calculate the total sales and profit for each region.\n",
    "    "
   ]
  },
  {
   "cell_type": "code",
   "execution_count": null,
   "id": "f2fb76e7",
   "metadata": {},
   "outputs": [],
   "source": [
    "\n",
    "# Grouping by Region and calculating the sum of Sales and Profit\n",
    "regional_sales = sales_df.groupby('Region').sum()\n",
    "\n",
    "print(\"Total Sales and Profit by Region:\")\n",
    "print(regional_sales[['Sales','Profit']])\n",
    "    "
   ]
  },
  {
   "cell_type": "markdown",
   "id": "becd2f51",
   "metadata": {},
   "source": [
    "\n",
    "### Step 3: Analyzing the Data\n",
    "\n",
    "Let's take this a step further by calculating additional statistics like the average sales and profit per transaction in each region.\n",
    "    "
   ]
  },
  {
   "cell_type": "code",
   "execution_count": null,
   "id": "caf80f8b",
   "metadata": {},
   "outputs": [],
   "source": [
    "\n",
    "# Grouping by Region and calculating the mean of Sales and Profit\n",
    "regional_sales_mean = sales_df.groupby('Region').mean()\n",
    "\n",
    "print(\"Average Sales and Profit per Transaction by Region:\")\n",
    "print(regional_sales_mean[['Sales','Profit']])\n",
    "    "
   ]
  },
  {
   "cell_type": "markdown",
   "id": "d147b27b",
   "metadata": {},
   "source": [
    "\n",
    "### Step 4: Visualizing the Results\n",
    "\n",
    "To better understand the distribution of sales and profits across regions, you can visualize the aggregated data using a bar plot.\n",
    "    "
   ]
  },
  {
   "cell_type": "code",
   "execution_count": null,
   "id": "eae63067",
   "metadata": {},
   "outputs": [],
   "source": [
    "!pip install matplotlib"
   ]
  },
  {
   "cell_type": "code",
   "execution_count": null,
   "id": "7e1a7f11",
   "metadata": {},
   "outputs": [],
   "source": [
    "\n",
    "import matplotlib.pyplot as plt\n",
    "\n",
    "# Plotting the total sales by region\n",
    "regional_sales['Sales'].plot(kind='bar', title='Total Sales by Region', ylabel='Total Sales', xlabel='Region')\n",
    "plt.show()\n",
    "\n",
    "# Plotting the average profit by region\n",
    "regional_sales_mean['Profit'].plot(kind='bar', \n",
    "                                   title='Average Profit per Transaction by Region', \n",
    "                                   ylabel='Average Profit', \n",
    "                                   xlabel='Region', \n",
    "                                   color='orange')\n",
    "plt.show()\n",
    "    "
   ]
  }
 ],
 "metadata": {
  "kernelspec": {
   "display_name": "Python 3",
   "language": "python",
   "name": "python3"
  },
  "language_info": {
   "codemirror_mode": {
    "name": "ipython",
    "version": 3
   },
   "file_extension": ".py",
   "mimetype": "text/x-python",
   "name": "python",
   "nbconvert_exporter": "python",
   "pygments_lexer": "ipython3",
   "version": "3.12.2"
  }
 },
 "nbformat": 4,
 "nbformat_minor": 5
}
