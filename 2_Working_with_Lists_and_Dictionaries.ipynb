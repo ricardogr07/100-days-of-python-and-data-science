{
 "cells": [
  {
   "cell_type": "markdown",
   "id": "f6ea2c06",
   "metadata": {},
   "source": [
    "# Day 2 - Working with Lists and Dictionaries in Python\n"
   ]
  },
  {
   "cell_type": "markdown",
   "id": "dd997159",
   "metadata": {},
   "source": [
    "## Why Are Lists and Dictionaries Important?\n",
    "\n",
    "Lists in Python are ordered collections of items, which can be of any data type. They are versatile and allow for efficient storage and manipulation of data sequences.\n",
    "\n",
    "Dictionaries are unordered collections that store data in key-value pairs. They are perfect for managing associative arrays, making them an essential tool for many data science tasks.\n",
    "\n",
    "Understanding how to use lists and dictionaries effectively will significantly enhance your ability to handle and manipulate data in Python.\n"
   ]
  },
  {
   "cell_type": "markdown",
   "id": "aca379a6",
   "metadata": {},
   "source": [
    "## Understanding Lists and Dictionaries"
   ]
  },
  {
   "cell_type": "code",
   "execution_count": 1,
   "id": "f0938c50",
   "metadata": {},
   "outputs": [
    {
     "data": {
      "text/plain": [
       "[1, 2, 3, 'a', 'b', 'c']"
      ]
     },
     "execution_count": 1,
     "metadata": {},
     "output_type": "execute_result"
    }
   ],
   "source": [
    "# Lists are created using square brackets [] and can contain any number of elements.\n",
    "my_list = [1, 2, 3, 'a', 'b', 'c']\n",
    "my_list"
   ]
  },
  {
   "cell_type": "code",
   "execution_count": 2,
   "id": "ec01958c",
   "metadata": {},
   "outputs": [
    {
     "data": {
      "text/plain": [
       "[1, 2, 3, 'a', 'b', 'c', 4]"
      ]
     },
     "execution_count": 2,
     "metadata": {},
     "output_type": "execute_result"
    }
   ],
   "source": [
    "# You can access elements using indexes, add elements with the append() method, and remove elements with the remove() method.\n",
    "my_list.append(4)\n",
    "my_list"
   ]
  },
  {
   "cell_type": "code",
   "execution_count": 3,
   "id": "4ea666d5",
   "metadata": {},
   "outputs": [
    {
     "data": {
      "text/plain": [
       "[1, 2, 3, 'b', 'c', 4]"
      ]
     },
     "execution_count": 3,
     "metadata": {},
     "output_type": "execute_result"
    }
   ],
   "source": [
    "my_list.remove('a')\n",
    "my_list"
   ]
  },
  {
   "cell_type": "markdown",
   "id": "bd2ad0f1",
   "metadata": {},
   "source": [
    "### List Operations"
   ]
  },
  {
   "cell_type": "code",
   "execution_count": 4,
   "id": "40319c2b",
   "metadata": {},
   "outputs": [
    {
     "data": {
      "text/plain": [
       "[1, 'a', 2, 3]"
      ]
     },
     "execution_count": 4,
     "metadata": {},
     "output_type": "execute_result"
    }
   ],
   "source": [
    "# insert() Method:\n",
    "my_list = [1, 2, 3] \n",
    "my_list.insert(1, 'a')  # Inserts 'a' at index 1\n",
    "my_list"
   ]
  },
  {
   "cell_type": "code",
   "execution_count": 5,
   "id": "6ee49f6e",
   "metadata": {},
   "outputs": [
    {
     "data": {
      "text/plain": [
       "('a', [1, 2, 3])"
      ]
     },
     "execution_count": 5,
     "metadata": {},
     "output_type": "execute_result"
    }
   ],
   "source": [
    "# pop() Method:\n",
    "item = my_list.pop(1)  # Removes and returns the item at index 1\n",
    "item, my_list"
   ]
  },
  {
   "cell_type": "code",
   "execution_count": 6,
   "id": "720f5738",
   "metadata": {},
   "outputs": [
    {
     "data": {
      "text/plain": [
       "[1, 3, 5, 9]"
      ]
     },
     "execution_count": 6,
     "metadata": {},
     "output_type": "execute_result"
    }
   ],
   "source": [
    "# sort() Method: Lists can be sorted in-place, which rearranges the elements:\n",
    "random_list = [5, 3, 9, 1]\n",
    "random_list.sort()\n",
    "random_list"
   ]
  },
  {
   "cell_type": "markdown",
   "id": "14ebb929",
   "metadata": {},
   "source": [
    "## Working with Dictionaries"
   ]
  },
  {
   "cell_type": "code",
   "execution_count": 7,
   "id": "ce71c510",
   "metadata": {},
   "outputs": [
    {
     "data": {
      "text/plain": [
       "{'name': 'Alice', 'age': 30, 'city': 'New York'}"
      ]
     },
     "execution_count": 7,
     "metadata": {},
     "output_type": "execute_result"
    }
   ],
   "source": [
    "# Dictionaries are created using curly braces {} and store data as key-value pairs.\n",
    "my_dict = {'name': 'Alice', 'age': 30, 'city': 'New York'}\n",
    "my_dict"
   ]
  },
  {
   "cell_type": "code",
   "execution_count": 8,
   "id": "1bc84c85",
   "metadata": {},
   "outputs": [
    {
     "data": {
      "text/plain": [
       "'Alice'"
      ]
     },
     "execution_count": 8,
     "metadata": {},
     "output_type": "execute_result"
    }
   ],
   "source": [
    "# You can access values by their keys, add new key-value pairs, and remove items using the del keyword.\n",
    "my_dict['name']"
   ]
  },
  {
   "cell_type": "code",
   "execution_count": 9,
   "id": "b22e6870",
   "metadata": {},
   "outputs": [
    {
     "data": {
      "text/plain": [
       "{'name': 'Alice', 'age': 30, 'city': 'New York', 'email': 'alice@example.com'}"
      ]
     },
     "execution_count": 9,
     "metadata": {},
     "output_type": "execute_result"
    }
   ],
   "source": [
    "my_dict['email'] = 'alice@example.com'\n",
    "my_dict"
   ]
  },
  {
   "cell_type": "code",
   "execution_count": 10,
   "id": "a3f44cf3",
   "metadata": {},
   "outputs": [
    {
     "data": {
      "text/plain": [
       "{'name': 'Alice', 'age': 30, 'email': 'alice@example.com'}"
      ]
     },
     "execution_count": 10,
     "metadata": {},
     "output_type": "execute_result"
    }
   ],
   "source": [
    "del my_dict['city']\n",
    "my_dict"
   ]
  },
  {
   "cell_type": "code",
   "execution_count": 11,
   "id": "0bb93682",
   "metadata": {},
   "outputs": [
    {
     "data": {
      "text/plain": [
       "'Alice'"
      ]
     },
     "execution_count": 11,
     "metadata": {},
     "output_type": "execute_result"
    }
   ],
   "source": [
    "# get() Method: Safely access values by keys without raising an error if the key does not exist:\n",
    "my_dict.get('name', 'Default Name')"
   ]
  },
  {
   "cell_type": "code",
   "execution_count": 12,
   "id": "ebbffbe8",
   "metadata": {},
   "outputs": [
    {
     "data": {
      "text/plain": [
       "{'name': 'Alice',\n",
       " 'age': 32,\n",
       " 'email': 'alice@example.com',\n",
       " 'occupation': 'Developer'}"
      ]
     },
     "execution_count": 12,
     "metadata": {},
     "output_type": "execute_result"
    }
   ],
   "source": [
    "# update() Method: Merge one dictionary with another:\n",
    "additional_info = {'occupation': 'Developer', 'age': 32}\n",
    "my_dict.update(additional_info)\n",
    "my_dict"
   ]
  },
  {
   "cell_type": "markdown",
   "id": "dd325d1e",
   "metadata": {},
   "source": [
    "## Managing a To-Do List with Lists and Dictionaries\n",
    "\n",
    "Let's apply what we've learned by creating a simple to-do list manager. We'll use a list to store tasks and a dictionary to manage task details like priority and completion status.\n"
   ]
  },
  {
   "cell_type": "code",
   "execution_count": 13,
   "id": "c49aae0a",
   "metadata": {},
   "outputs": [],
   "source": [
    "# Define an empty to-do list\n",
    "to_do_list = []"
   ]
  },
  {
   "cell_type": "code",
   "execution_count": 14,
   "id": "81f41a72",
   "metadata": {},
   "outputs": [],
   "source": [
    "# Function to add a task\n",
    "def add_task(task_name, priority='low'):\n",
    "    task = {'name': task_name, 'priority': priority, 'completed': False}\n",
    "    to_do_list.append(task)"
   ]
  },
  {
   "cell_type": "code",
   "execution_count": 15,
   "id": "e893bcf6",
   "metadata": {},
   "outputs": [],
   "source": [
    "# Function to mark a task as completed\n",
    "def complete_task(task_name):\n",
    "    for task in to_do_list:\n",
    "        if task['name'] == task_name:\n",
    "            task['completed'] = True\n",
    "            break"
   ]
  },
  {
   "cell_type": "code",
   "execution_count": 16,
   "id": "dccd7116",
   "metadata": {},
   "outputs": [],
   "source": [
    "# Function to display tasks\n",
    "def display_tasks():\n",
    "    for task in to_do_list:\n",
    "        status = 'Done' if task['completed'] else 'Pending'\n",
    "        print(f\"Task: {task['name']}, Priority: {task['priority']}, Status: {status}\")"
   ]
  },
  {
   "cell_type": "code",
   "execution_count": 17,
   "id": "e9c24c21",
   "metadata": {},
   "outputs": [
    {
     "name": "stdout",
     "output_type": "stream",
     "text": [
      "Task: Write blog post, Priority: high, Status: Done\n",
      "Task: Complete Python assignment, Priority: low, Status: Pending\n",
      "Task: Read Data Science article, Priority: medium, Status: Pending\n"
     ]
    }
   ],
   "source": [
    "# Adding tasks to the to-do list\n",
    "add_task('Write blog post', 'high')\n",
    "add_task('Complete Python assignment')\n",
    "add_task('Read Data Science article', 'medium')\n",
    "\n",
    "# Completing a task\n",
    "complete_task('Write blog post')\n",
    "\n",
    "# Displaying all tasks\n",
    "display_tasks()"
   ]
  },
  {
   "cell_type": "markdown",
   "id": "c5cc8645",
   "metadata": {},
   "source": [
    "## Real-life scenario: Parsing JSON Data from a Web Service\n",
    "\n",
    "Lists and dictionaries are handy when working with JSON data, a common format for data exchanged between web services. In this example, we'll fetch JSON data from a public API and parse it into a list of dictionaries.\n"
   ]
  },
  {
   "cell_type": "code",
   "execution_count": 18,
   "id": "ab1bed1b",
   "metadata": {},
   "outputs": [],
   "source": [
    "import requests\n",
    "\n",
    "url = \"https://jsonplaceholder.typicode.com/posts\"\n",
    "response = requests.get(url)\n",
    "posts = response.json()  # Convert the response to a list of dictionaries"
   ]
  },
  {
   "cell_type": "code",
   "execution_count": 19,
   "id": "04f40336",
   "metadata": {},
   "outputs": [
    {
     "name": "stdout",
     "output_type": "stream",
     "text": [
      "Title: sunt aut facere repellat provident occaecati excepturi optio reprehenderit\n",
      "Title: qui est esse\n",
      "Title: ea molestias quasi exercitationem repellat qui ipsa sit aut\n",
      "Title: eum et est occaecati\n",
      "Title: nesciunt quas odio\n",
      "Title: dolorem eum magni eos aperiam quia\n",
      "Title: magnam facilis autem\n",
      "Title: dolorem dolore est ipsam\n",
      "Title: nesciunt iure omnis dolorem tempora et accusantium\n",
      "Title: optio molestias id quia eum\n",
      "Title: et ea vero quia laudantium autem\n",
      "Title: in quibusdam tempore odit est dolorem\n",
      "Title: dolorum ut in voluptas mollitia et saepe quo animi\n",
      "Title: voluptatem eligendi optio\n",
      "Title: eveniet quod temporibus\n",
      "Title: sint suscipit perspiciatis velit dolorum rerum ipsa laboriosam odio\n",
      "Title: fugit voluptas sed molestias voluptatem provident\n",
      "Title: voluptate et itaque vero tempora molestiae\n",
      "Title: adipisci placeat illum aut reiciendis qui\n",
      "Title: doloribus ad provident suscipit at\n",
      "Title: asperiores ea ipsam voluptatibus modi minima quia sint\n",
      "Title: dolor sint quo a velit explicabo quia nam\n",
      "Title: maxime id vitae nihil numquam\n",
      "Title: autem hic labore sunt dolores incidunt\n",
      "Title: rem alias distinctio quo quis\n",
      "Title: est et quae odit qui non\n",
      "Title: quasi id et eos tenetur aut quo autem\n",
      "Title: delectus ullam et corporis nulla voluptas sequi\n",
      "Title: iusto eius quod necessitatibus culpa ea\n",
      "Title: a quo magni similique perferendis\n",
      "Title: ullam ut quidem id aut vel consequuntur\n",
      "Title: doloremque illum aliquid sunt\n",
      "Title: qui explicabo molestiae dolorem\n",
      "Title: magnam ut rerum iure\n",
      "Title: id nihil consequatur molestias animi provident\n",
      "Title: fuga nam accusamus voluptas reiciendis itaque\n",
      "Title: provident vel ut sit ratione est\n",
      "Title: explicabo et eos deleniti nostrum ab id repellendus\n",
      "Title: eos dolorem iste accusantium est eaque quam\n",
      "Title: enim quo cumque\n",
      "Title: non est facere\n",
      "Title: commodi ullam sint et excepturi error explicabo praesentium voluptas\n",
      "Title: eligendi iste nostrum consequuntur adipisci praesentium sit beatae perferendis\n",
      "Title: optio dolor molestias sit\n",
      "Title: ut numquam possimus omnis eius suscipit laudantium iure\n",
      "Title: aut quo modi neque nostrum ducimus\n",
      "Title: quibusdam cumque rem aut deserunt\n",
      "Title: ut voluptatem illum ea doloribus itaque eos\n",
      "Title: laborum non sunt aut ut assumenda perspiciatis voluptas\n",
      "Title: repellendus qui recusandae incidunt voluptates tenetur qui omnis exercitationem\n",
      "Title: soluta aliquam aperiam consequatur illo quis voluptas\n",
      "Title: qui enim et consequuntur quia animi quis voluptate quibusdam\n",
      "Title: ut quo aut ducimus alias\n",
      "Title: sit asperiores ipsam eveniet odio non quia\n",
      "Title: sit vel voluptatem et non libero\n",
      "Title: qui et at rerum necessitatibus\n",
      "Title: sed ab est est\n",
      "Title: voluptatum itaque dolores nisi et quasi\n",
      "Title: qui commodi dolor at maiores et quis id accusantium\n",
      "Title: consequatur placeat omnis quisquam quia reprehenderit fugit veritatis facere\n",
      "Title: voluptatem doloribus consectetur est ut ducimus\n",
      "Title: beatae enim quia vel\n",
      "Title: voluptas blanditiis repellendus animi ducimus error sapiente et suscipit\n",
      "Title: et fugit quas eum in in aperiam quod\n",
      "Title: consequatur id enim sunt et et\n",
      "Title: repudiandae ea animi iusto\n",
      "Title: aliquid eos sed fuga est maxime repellendus\n",
      "Title: odio quis facere architecto reiciendis optio\n",
      "Title: fugiat quod pariatur odit minima\n",
      "Title: voluptatem laborum magni\n",
      "Title: et iusto veniam et illum aut fuga\n",
      "Title: sint hic doloribus consequatur eos non id\n",
      "Title: consequuntur deleniti eos quia temporibus ab aliquid at\n",
      "Title: enim unde ratione doloribus quas enim ut sit sapiente\n",
      "Title: dignissimos eum dolor ut enim et delectus in\n",
      "Title: doloremque officiis ad et non perferendis\n",
      "Title: necessitatibus quasi exercitationem odio\n",
      "Title: quam voluptatibus rerum veritatis\n",
      "Title: pariatur consequatur quia magnam autem omnis non amet\n",
      "Title: labore in ex et explicabo corporis aut quas\n",
      "Title: tempora rem veritatis voluptas quo dolores vero\n",
      "Title: laudantium voluptate suscipit sunt enim enim\n",
      "Title: odit et voluptates doloribus alias odio et\n",
      "Title: optio ipsam molestias necessitatibus occaecati facilis veritatis dolores aut\n",
      "Title: dolore veritatis porro provident adipisci blanditiis et sunt\n",
      "Title: placeat quia et porro iste\n",
      "Title: nostrum quis quasi placeat\n",
      "Title: sapiente omnis fugit eos\n",
      "Title: sint soluta et vel magnam aut ut sed qui\n",
      "Title: ad iusto omnis odit dolor voluptatibus\n",
      "Title: aut amet sed\n",
      "Title: ratione ex tenetur perferendis\n",
      "Title: beatae soluta recusandae\n",
      "Title: qui qui voluptates illo iste minima\n",
      "Title: id minus libero illum nam ad officiis\n",
      "Title: quaerat velit veniam amet cupiditate aut numquam ut sequi\n",
      "Title: quas fugiat ut perspiciatis vero provident\n",
      "Title: laboriosam dolor voluptates\n",
      "Title: temporibus sit alias delectus eligendi possimus magni\n",
      "Title: at nam consequatur ea labore ea harum\n"
     ]
    }
   ],
   "source": [
    "# Display the title of each post\n",
    "for post in posts:\n",
    "    print(f\"Title: {post['title']}\")"
   ]
  },
  {
   "cell_type": "code",
   "execution_count": 20,
   "id": "ce36aab2",
   "metadata": {},
   "outputs": [
    {
     "name": "stdout",
     "output_type": "stream",
     "text": [
      "User 1 Post Title: sunt aut facere repellat provident occaecati excepturi optio reprehenderit\n",
      "User 1 Post Title: qui est esse\n",
      "User 1 Post Title: ea molestias quasi exercitationem repellat qui ipsa sit aut\n",
      "User 1 Post Title: eum et est occaecati\n",
      "User 1 Post Title: nesciunt quas odio\n",
      "User 1 Post Title: dolorem eum magni eos aperiam quia\n",
      "User 1 Post Title: magnam facilis autem\n",
      "User 1 Post Title: dolorem dolore est ipsam\n",
      "User 1 Post Title: nesciunt iure omnis dolorem tempora et accusantium\n",
      "User 1 Post Title: optio molestias id quia eum\n"
     ]
    }
   ],
   "source": [
    "# Filtering Posts by User: We can also filter the posts by a specific user, demonstrating how to work with lists and dictionaries together.\n",
    "user_id = 1\n",
    "user_posts = [post for post in posts if post['userId'] == user_id]\n",
    "\n",
    "# Display titles of the user's posts\n",
    "for post in user_posts:\n",
    "    print(f\"User {user_id} Post Title: {post['title']}\")"
   ]
  }
 ],
 "metadata": {
  "kernelspec": {
   "display_name": "Python 3",
   "language": "python",
   "name": "python3"
  },
  "language_info": {
   "codemirror_mode": {
    "name": "ipython",
    "version": 3
   },
   "file_extension": ".py",
   "mimetype": "text/x-python",
   "name": "python",
   "nbconvert_exporter": "python",
   "pygments_lexer": "ipython3",
   "version": "3.12.2"
  }
 },
 "nbformat": 4,
 "nbformat_minor": 5
}
