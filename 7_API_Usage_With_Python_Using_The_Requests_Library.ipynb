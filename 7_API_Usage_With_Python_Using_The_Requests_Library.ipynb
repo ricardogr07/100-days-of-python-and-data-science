{
 "cells": [
  {
   "cell_type": "markdown",
   "metadata": {},
   "source": [
    "# API Usage with Python: Using the `requests` Library\n",
    "\n",
    "Welcome to this notebook where we'll explore how to use the `requests` library in Python to interact with APIs. This is part of the 100 posts in 100 days series, where I share daily insights from my Master's in Data Science journey. Today, we'll focus on making GET requests and handling responses from public APIs."
   ]
  },
  {
   "cell_type": "markdown",
   "metadata": {},
   "source": [
    "\n",
    "To use the `requests` library, you need to install it. You can do this using pip:\n",
    "```python"
   ]
  },
  {
   "cell_type": "code",
   "execution_count": 1,
   "metadata": {},
   "outputs": [
    {
     "name": "stdout",
     "output_type": "stream",
     "text": [
      "Requirement already satisfied: requests in c:\\users\\ricar\\appdata\\local\\programs\\python\\python312\\lib\\site-packages (2.31.0)\n",
      "Requirement already satisfied: charset-normalizer<4,>=2 in c:\\users\\ricar\\appdata\\local\\programs\\python\\python312\\lib\\site-packages (from requests) (3.3.2)\n",
      "Requirement already satisfied: idna<4,>=2.5 in c:\\users\\ricar\\appdata\\local\\programs\\python\\python312\\lib\\site-packages (from requests) (3.6)\n",
      "Requirement already satisfied: urllib3<3,>=1.21.1 in c:\\users\\ricar\\appdata\\local\\programs\\python\\python312\\lib\\site-packages (from requests) (2.2.1)\n",
      "Requirement already satisfied: certifi>=2017.4.17 in c:\\users\\ricar\\appdata\\local\\programs\\python\\python312\\lib\\site-packages (from requests) (2024.2.2)\n"
     ]
    }
   ],
   "source": [
    "!pip install requests"
   ]
  },
  {
   "cell_type": "markdown",
   "metadata": {},
   "source": [
    "## Basic Example\n",
    "\n",
    "Let's start with a basic example of how to use the `requests` library to make a GET request."
   ]
  },
  {
   "cell_type": "code",
   "execution_count": 2,
   "metadata": {},
   "outputs": [],
   "source": [
    "import requests"
   ]
  },
  {
   "cell_type": "code",
   "execution_count": 3,
   "metadata": {},
   "outputs": [
    {
     "name": "stdout",
     "output_type": "stream",
     "text": [
      "JSONPlaceholder Post Data:\n",
      "{'userId': 1, 'id': 1, 'title': 'sunt aut facere repellat provident occaecati excepturi optio reprehenderit', 'body': 'quia et suscipit\\nsuscipit recusandae consequuntur expedita et cum\\nreprehenderit molestiae ut ut quas totam\\nnostrum rerum est autem sunt rem eveniet architecto'}\n"
     ]
    }
   ],
   "source": [
    "# Define the endpoint URL\n",
    "url = 'https://jsonplaceholder.typicode.com/posts/1'\n",
    "\n",
    "# Make a GET request to the API\n",
    "response = requests.get(url)\n",
    "\n",
    "# Convert the response to a Python dictionary\n",
    "data = response.json()\n",
    "\n",
    "# Print the data\n",
    "print(\"JSONPlaceholder Post Data:\")\n",
    "print(data)"
   ]
  },
  {
   "cell_type": "markdown",
   "metadata": {},
   "source": [
    "## Additional Examples\n",
    "\n",
    "### Example 1: Dog API"
   ]
  },
  {
   "cell_type": "code",
   "execution_count": 4,
   "metadata": {},
   "outputs": [
    {
     "name": "stdout",
     "output_type": "stream",
     "text": [
      "Random Dog Image URL:\n",
      "https://images.dog.ceo/breeds/poodle-medium/WhatsApp_Image_2022-08-06_at_4.48.38_PM.jpg\n"
     ]
    }
   ],
   "source": [
    "# Define the endpoint URL\n",
    "url = 'https://dog.ceo/api/breeds/image/random'\n",
    "\n",
    "# Make a GET request to the API\n",
    "response = requests.get(url)\n",
    "\n",
    "# Convert the response to a Python dictionary\n",
    "data = response.json()\n",
    "\n",
    "# Print the data\n",
    "print(\"Random Dog Image URL:\")\n",
    "print(data['message'])"
   ]
  },
  {
   "cell_type": "markdown",
   "metadata": {},
   "source": [
    "### Example 2: Open Trivia Database"
   ]
  },
  {
   "cell_type": "code",
   "execution_count": 5,
   "metadata": {},
   "outputs": [
    {
     "name": "stdout",
     "output_type": "stream",
     "text": [
      "Trivia Question Data:\n",
      "What is the most preferred image format used for logos in the Wikimedia database?\n",
      "Options:\n",
      "- .png\n",
      "- .jpeg\n",
      "- .gif\n",
      "- .svg (Correct Answer)\n"
     ]
    }
   ],
   "source": [
    "# Define the endpoint URL\n",
    "url = 'https://opentdb.com/api.php?amount=1&type=multiple'\n",
    "\n",
    "# Make a GET request to the API\n",
    "response = requests.get(url)\n",
    "\n",
    "# Convert the response to a Python dictionary\n",
    "data = response.json()\n",
    "\n",
    "# Print the data\n",
    "print(\"Trivia Question Data:\")\n",
    "print(data['results'][0]['question'])\n",
    "print(\"Options:\")\n",
    "for option in data['results'][0]['incorrect_answers']:\n",
    "    print(f\"- {option}\")\n",
    "print(f\"- {data['results'][0]['correct_answer']} (Correct Answer)\")\n"
   ]
  },
  {
   "cell_type": "markdown",
   "metadata": {},
   "source": [
    "## Real-life Example: Fetching Weather Data with the OpenWeatherMap API"
   ]
  },
  {
   "cell_type": "code",
   "execution_count": 6,
   "metadata": {},
   "outputs": [
    {
     "name": "stdout",
     "output_type": "stream",
     "text": [
      "Weather in Monterrey:\n",
      "Temperature: 29.37°C\n",
      "Description: Clear sky\n"
     ]
    }
   ],
   "source": [
    "# Define your API key and endpoint\n",
    "api_key = \"API_KEY\"\n",
    "base_url = \"http://api.openweathermap.org/data/2.5/weather\"\n",
    "city = \"Monterrey\"\n",
    "\n",
    "# Construct the API request URL\n",
    "complete_url = f\"{base_url}?q={city}&appid={api_key}\"\n",
    "# Fetch the data\n",
    "response = requests.get(complete_url)\n",
    "data = response.json()\n",
    "# Handle the response\n",
    "if data[\"cod\"] == 200:\n",
    "    main = data[\"main\"]\n",
    "    temperature = main[\"temp\"] - 273.15  # Convert from Kelvin to Celsius\n",
    "    weather = data[\"weather\"][0][\"description\"]\n",
    "    print(f\"Weather in {city}:\")\n",
    "    print(f\"Temperature: {temperature:.2f}°C\")\n",
    "    print(f\"Description: {weather.capitalize()}\")\n",
    "else:\n",
    "    print(\"City not found.\")"
   ]
  }
 ],
 "metadata": {
  "kernelspec": {
   "display_name": "Python 3",
   "language": "python",
   "name": "python3"
  },
  "language_info": {
   "codemirror_mode": {
    "name": "ipython",
    "version": 3
   },
   "file_extension": ".py",
   "mimetype": "text/x-python",
   "name": "python",
   "nbconvert_exporter": "python",
   "pygments_lexer": "ipython3",
   "version": "3.12.2"
  }
 },
 "nbformat": 4,
 "nbformat_minor": 2
}
