{
 "cells": [
  {
   "cell_type": "markdown",
   "id": "277e3880",
   "metadata": {},
   "source": [
    "# Day 5 - Handling Exceptions and Errors in Python"
   ]
  },
  {
   "cell_type": "markdown",
   "id": "5442752f",
   "metadata": {},
   "source": [
    "## Understanding Exceptions and Errors\n",
    "In Python, errors are typically classified into two types: syntax errors and exceptions. Syntax errors occur when the parser detects an incorrect statement which prevents the script from running. Exceptions, on the other hand, occur during the execution of a correct statement and can be caught and handled.\n",
    "\n",
    "Exceptions in Python are objects that represent an error condition in a running program. When an error occurs within a block of code, Python creates an exception object. If this exception is not handled, the program will terminate abruptly. To manage these exceptions, Python provides several keywords: try, except, finally, and raise."
   ]
  },
  {
   "cell_type": "code",
   "execution_count": null,
   "id": "dc6a9f33",
   "metadata": {},
   "outputs": [],
   "source": [
    "def divide(x, y):\n",
    "    try:\n",
    "        # Try block attempts to perform division which might raise a ZeroDivisionError.\n",
    "        result = x / y\n",
    "    except ZeroDivisionError:\n",
    "        # Except block catches the ZeroDivisionError and executes this print statement.\n",
    "        print('Error: Division by zero is not allowed.')\n",
    "    else:\n",
    "        # Else block runs if the try block did not raise an exception.\n",
    "        print('Result is', result)\n",
    "    finally:\n",
    "        # Finally block always executes, regardless of whether an exception was raised or not.\n",
    "        # Useful for performing clean-up actions.\n",
    "        print('Executing finally clause.')"
   ]
  },
  {
   "cell_type": "markdown",
   "id": "d5c9d297",
   "metadata": {},
   "source": [
    "## Tutorial: Implementing Error Handling in a Calculator App\n",
    "In this part of the tutorial, we'll create a simple calculator app that performs basic arithmetic operations. We'll implement error handling to manage situations like division by zero and invalid input."
   ]
  },
  {
   "cell_type": "code",
   "execution_count": null,
   "id": "f0529113",
   "metadata": {},
   "outputs": [],
   "source": [
    "def calculator():\n",
    "    try:\n",
    "        num1 = float(input('Enter first number: '))\n",
    "        operator = input('Enter operator (+, -, *, /): ')\n",
    "        num2 = float(input('Enter second number: '))\n",
    "        if operator == '+':\n",
    "            result = num1 + num2\n",
    "        elif operator == '-':\n",
    "            result = num1 - num2\n",
    "        elif operator == '*':\n",
    "            result = num1 * num2\n",
    "        elif operator == '/':\n",
    "            result = num1 / num2\n",
    "        else:\n",
    "            raise ValueError('Invalid operator')\n",
    "        print(f'The result is: {result}')\n",
    "    except ValueError as ve:\n",
    "        print(f'Error: {ve}')\n",
    "    except ZeroDivisionError:\n",
    "        print('Error: Division by zero is not allowed!')\n",
    "    except Exception as e:\n",
    "        print(f'An unexpected error occurred: {e}')\n",
    "calculator()"
   ]
  },
  {
   "cell_type": "markdown",
   "id": "70407f8b",
   "metadata": {},
   "source": [
    "## Real-Life Example: Downloading Files and Managing Potential Errors\n",
    "Let's explore how to handle exceptions while downloading files from the internet. Common issues like network errors, incorrect URLs, and timeouts will be managed."
   ]
  },
  {
   "cell_type": "code",
   "execution_count": null,
   "id": "46526aa5",
   "metadata": {},
   "outputs": [],
   "source": [
    "import requests\n",
    "\n",
    "def download_file(url, filename):\n",
    "    try:\n",
    "        response = requests.get(url, timeout=10)\n",
    "        response.raise_for_status()  # Raises an HTTPError for bad responses\n",
    "\n",
    "        with open(filename, 'wb') as file:\n",
    "            file.write(response.content)\n",
    "        print(f'File downloaded successfully: {filename}')\n",
    "\n",
    "    except requests.exceptions.HTTPError as http_err:\n",
    "        print(f'HTTP error occurred: {http_err}')\n",
    "    except requests.exceptions.ConnectionError:\n",
    "        print('Error: Failed to establish a connection.')\n",
    "    except requests.exceptions.Timeout:\n",
    "        print('Error: The request timed out.')\n",
    "    except Exception as err:\n",
    "        print(f'An error occurred: {err}')\n",
    "\n",
    "url = 'https://raw.githubusercontent.com/cs109/2014_data/master/countries.csv'\n",
    "filename = 'downloaded_countries.csv'\n",
    "download_file(url, filename)"
   ]
  },
  {
   "cell_type": "markdown",
   "id": "71dbfaa7",
   "metadata": {},
   "source": [
    "## Conclusion:\n",
    "In today's post, we delved into the importance of handling exceptions and errors in Python. We walked through a tutorial to build a calculator app with basic error handling and applied these concepts in a real-life example of downloading files from the internet.\n",
    "\n",
    "These error-handling techniques are essential for building robust and user-friendly applications. Make sure to practice these concepts, as they will be invaluable as you progress in your coding journey."
   ]
  }
 ],
 "metadata": {
  "language_info": {
   "name": "python"
  }
 },
 "nbformat": 4,
 "nbformat_minor": 5
}
