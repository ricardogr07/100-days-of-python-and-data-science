{
 "cells": [
  {
   "cell_type": "markdown",
   "id": "53663a6f",
   "metadata": {},
   "source": [
    "# Day 21 - Creating Basic Plots in Python: Line, Bar, and Scatter\n",
    "\n",
    "\n",
    "### Why Are Basic Plots Important?\n",
    "Basic plots like line, bar, and scatter plots are the building blocks of data visualization. They provide a simple yet powerful way to understand your data at a glance. Whether you're comparing data over time, visualizing distributions, or identifying correlations, these plots are invaluable tools in your data science toolkit.\n"
   ]
  },
  {
   "cell_type": "code",
   "execution_count": null,
   "id": "2fa04fe1",
   "metadata": {},
   "outputs": [],
   "source": [
    "import pandas as pd\n",
    "import matplotlib.pyplot as plt"
   ]
  },
  {
   "cell_type": "markdown",
   "id": "d0e7cae0",
   "metadata": {},
   "source": [
    "## Line Plot\n",
    "Line plots are ideal for visualizing data trends over time.\n"
   ]
  },
  {
   "cell_type": "code",
   "execution_count": null,
   "id": "2e9b6bd5",
   "metadata": {},
   "outputs": [],
   "source": [
    "# Example data\n",
    "data = {\n",
    "    'Year': [2010, 2012, 2014, 2016, 2018, 2020],\n",
    "    'Population': [2.5, 2.7, 2.9, 3.0, 3.3, 3.5]\n",
    "}\n",
    "df = pd.DataFrame(data)\n",
    "\n",
    "# Creating a line plot\n",
    "plt.figure(figsize=(10, 6))\n",
    "plt.plot(df['Year'], df['Population'], marker='o')\n",
    "plt.title('Population Growth Over Years')\n",
    "plt.xlabel('Year')\n",
    "plt.ylabel('Population (in billions)')\n",
    "plt.grid(True)\n",
    "plt.show()"
   ]
  },
  {
   "cell_type": "markdown",
   "id": "4fe6b341",
   "metadata": {},
   "source": [
    "## Bar Plot\n",
    "Bar plots are useful for comparing quantities among different groups.\n"
   ]
  },
  {
   "cell_type": "code",
   "execution_count": null,
   "id": "3b42f28e",
   "metadata": {},
   "outputs": [],
   "source": [
    "# Example data\n",
    "data = {\n",
    "    'Country': ['USA', 'China', 'India', 'Brazil', 'Russia'],\n",
    "    'GDP': [21.4, 14.3, 2.9, 2.1, 1.6]\n",
    "}\n",
    "df = pd.DataFrame(data)\n",
    "\n",
    "# Creating a bar plot\n",
    "plt.figure(figsize=(10, 6))\n",
    "plt.bar(df['Country'], df['GDP'], color='skyblue')\n",
    "plt.title('GDP by Country')\n",
    "plt.xlabel('Country')\n",
    "plt.ylabel('GDP (in Trillions USD)')\n",
    "plt.grid(True)\n",
    "plt.show()"
   ]
  },
  {
   "cell_type": "markdown",
   "id": "a63da50f",
   "metadata": {},
   "source": [
    "## Scatter Plot\n",
    "Scatter plots are excellent for identifying relationships between two variables.\n"
   ]
  },
  {
   "cell_type": "code",
   "execution_count": null,
   "id": "08ab9307",
   "metadata": {},
   "outputs": [],
   "source": [
    "# Example data\n",
    "data = {\n",
    "    'Height': [150, 160, 170, 180, 190],\n",
    "    'Weight': [50, 60, 65, 70, 80]\n",
    "}\n",
    "df = pd.DataFrame(data)\n",
    "\n",
    "# Creating a scatter plot\n",
    "plt.figure(figsize=(10, 6))\n",
    "plt.scatter(df['Height'], df['Weight'], color='red')\n",
    "plt.title('Height vs. Weight')\n",
    "plt.xlabel('Height (cm)')\n",
    "plt.ylabel('Weight (kg)')\n",
    "plt.grid(True)\n",
    "plt.show()"
   ]
  },
  {
   "cell_type": "markdown",
   "id": "c469a8a8",
   "metadata": {},
   "source": [
    "## Use Case: Visualizing Population Data from a Public Dataset\n",
    "For this use case, we'll use the `pandas-datareader` library to fetch population data from the World Bank. We'll visualize this data using line, bar, and scatter plots.\n",
    "\n",
    "### Step 1: Install the Required Libraries\n",
    "First, make sure you have the necessary libraries installed. You can install them using `pip`:\n",
    "```sh\n",
    "pip install pandas-datareader matplotlib\n",
    "```"
   ]
  },
  {
   "cell_type": "code",
   "execution_count": null,
   "id": "3345f101",
   "metadata": {},
   "outputs": [],
   "source": [
    "import pandas_datareader as pdr\n",
    "\n",
    "# Fetching the population data from the World Bank for the years 2000 to 2020\n",
    "population_data = pdr.get_data_wb(\n",
    "    indicator='SP.POP.TOTL',  # Total population indicator\n",
    "    country=['US', 'CN', 'IN', 'BR', 'RU'],  # Countries: USA, China, India, Brazil, Russia\n",
    "    start=2000,\n",
    "    end=2020\n",
    ")\n",
    "\n",
    "# Reshaping the data\n",
    "population_data = population_data.reset_index()\n",
    "population_df = population_data.pivot(index='year', columns='country', values='SP.POP.TOTL')\n",
    "\n",
    "# Display the first few rows of the dataset\n",
    "print(population_df.head())"
   ]
  },
  {
   "cell_type": "markdown",
   "id": "41ad40cd",
   "metadata": {},
   "source": [
    "### Step 3: Creating Visualizations\n",
    "#### Line Plot: Visualizing Population Growth Over Time\n"
   ]
  },
  {
   "cell_type": "code",
   "execution_count": null,
   "id": "d4376438",
   "metadata": {},
   "outputs": [],
   "source": [
    "plt.figure(figsize=(10, 6))\n",
    "for country in population_df.columns:\n",
    "    plt.plot(population_df.index, population_df[country], marker='o', label=country)\n",
    "plt.title('Population Growth Over Time')\n",
    "plt.xlabel('Year')\n",
    "plt.ylabel('Population')\n",
    "plt.legend()\n",
    "plt.grid(True)\n",
    "plt.show()"
   ]
  },
  {
   "cell_type": "markdown",
   "id": "ffe322fc",
   "metadata": {},
   "source": [
    "#### Bar Plot: Comparing Population by Country for a Specific Year (e.g., 2020)\n"
   ]
  },
  {
   "cell_type": "code",
   "execution_count": null,
   "id": "82e4675b",
   "metadata": {},
   "outputs": [],
   "source": [
    "plt.figure(figsize=(10, 6))\n",
    "population_2020 = population_df.loc[2020]\n",
    "plt.bar(population_2020.index, population_2020.values, color='skyblue')\n",
    "plt.title('Population by Country in 2020')\n",
    "plt.xlabel('Country')\n",
    "plt.ylabel('Population')\n",
    "plt.grid(True)\n",
    "plt.show()"
   ]
  },
  {
   "cell_type": "markdown",
   "id": "ce3c3567",
   "metadata": {},
   "source": [
    "#### Scatter Plot: Population vs. GDP\n"
   ]
  },
  {
   "cell_type": "code",
   "execution_count": null,
   "id": "457b8dd0",
   "metadata": {},
   "outputs": [],
   "source": [
    "# Simulating GDP data for illustration purposes\n",
    "gdp_data = {\n",
    "    'US': 21.43e12,\n",
    "    'CN': 14.34e12,\n",
    "    'IN': 2.87e12,\n",
    "    'BR': 2.05e12,\n",
    "    'RU': 1.7e12\n",
    "}\n",
    "gdp_df = pd.Series(gdp_data, name='GDP')\n",
    "\n",
    "# Create a scatter plot\n",
    "plt.figure(figsize=(10, 6))\n",
    "plt.scatter(population_2020, gdp_df, color='purple')\n",
    "plt.title('Population vs. GDP in 2020')\n",
    "plt.xlabel('Population')\n",
    "plt.ylabel('GDP (USD)')\n",
    "for i, country in enumerate(population_2020.index):\n",
    "    plt.text(population_2020[i], gdp_df[i], country)\n",
    "plt.grid(True)\n",
    "plt.show()"
   ]
  },
  {
   "cell_type": "markdown",
   "id": "ac282f16",
   "metadata": {},
   "source": [
    "## Conclusion\n",
    "In today's post, we learned how to create basic plots using Matplotlib and Pandas. We applied these skills to visualize population data, demonstrating how different types of plots can reveal different aspects of your data. Visualizing your data is a key step in any data analysis process, allowing you to communicate your findings effectively.\n",
    "\n",
    "Stay tuned as we continue to explore more advanced visualization techniques in the upcoming posts!\n"
   ]
  }
 ],
 "metadata": {
  "language_info": {
   "name": "python"
  }
 },
 "nbformat": 4,
 "nbformat_minor": 5
}
