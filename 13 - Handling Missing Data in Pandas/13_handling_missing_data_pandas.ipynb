{
 "cells": [
  {
   "cell_type": "markdown",
   "id": "a944344e",
   "metadata": {},
   "source": [
    "# Day 13 - Handling Missing Data in Pandas"
   ]
  },
  {
   "cell_type": "markdown",
   "id": "616aef79",
   "metadata": {},
   "source": [
    "\n",
    "## Why is Handling Missing Data Important?\n",
    "\n",
    "Missing data can introduce bias, reduce the representativeness of your sample, and lead to inaccurate conclusions. Therefore, it's essential to handle missing data appropriately, whether by filling it in a meaningful way or by dropping incomplete records altogether. Pandas provides powerful tools to address missing data, enabling you to prepare your datasets for analysis.\n"
   ]
  },
  {
   "cell_type": "markdown",
   "id": "05480fd9",
   "metadata": {},
   "source": [
    "## Tutorial: Filling and Dropping Missing Values"
   ]
  },
  {
   "cell_type": "code",
   "execution_count": null,
   "id": "5f8de5eb",
   "metadata": {},
   "outputs": [],
   "source": [
    "!pip install pandas"
   ]
  },
  {
   "cell_type": "markdown",
   "id": "2090c5f3",
   "metadata": {},
   "source": [
    "### Detecting Missing Data"
   ]
  },
  {
   "cell_type": "code",
   "execution_count": null,
   "id": "34721ace",
   "metadata": {},
   "outputs": [],
   "source": [
    "\n",
    "import pandas as pd\n",
    "\n",
    "# Example DataFrame with missing values\n",
    "data = {\n",
    "    'Name': ['Alice', 'Bob', 'Charlie', 'David'],\n",
    "    'Age': [25, None, 30, 22],\n",
    "    'City': ['New York', 'Los Angeles', None, 'Chicago']\n",
    "}\n",
    "df = pd.DataFrame(data)\n",
    "\n",
    "# Detect missing values\n",
    "print(\"Missing values in the DataFrame:\")\n",
    "print(df.isnull())\n"
   ]
  },
  {
   "cell_type": "markdown",
   "id": "fc13f4ad",
   "metadata": {},
   "source": [
    "### Filling Missing Values"
   ]
  },
  {
   "cell_type": "code",
   "execution_count": null,
   "id": "2af530a8",
   "metadata": {},
   "outputs": [],
   "source": [
    "\n",
    "# Filling missing values with a specific value\n",
    "df_filled = df.fillna({\n",
    "    'Age': df['Age'].mean(),  # Fill missing ages with the mean age\n",
    "    'City': 'Unknown'          # Fill missing cities with 'Unknown'\n",
    "})\n",
    "\n",
    "print(\"\n",
    "DataFrame after filling missing values:\")\n",
    "print(df_filled)\n"
   ]
  },
  {
   "cell_type": "markdown",
   "id": "23adb5c3",
   "metadata": {},
   "source": [
    "### Dropping Missing Values"
   ]
  },
  {
   "cell_type": "code",
   "execution_count": null,
   "id": "78a70c28",
   "metadata": {},
   "outputs": [],
   "source": [
    "\n",
    "# Dropping rows with any missing values\n",
    "df_dropped = df.dropna()\n",
    "\n",
    "print(\"DataFrame after dropping rows with missing values:\")\n",
    "print(df_dropped)\n"
   ]
  },
  {
   "cell_type": "markdown",
   "id": "67a7aff1",
   "metadata": {},
   "source": [
    "### Interpolating Missing Values"
   ]
  },
  {
   "cell_type": "code",
   "execution_count": null,
   "id": "8ff5d67a",
   "metadata": {},
   "outputs": [],
   "source": [
    "\n",
    "# Example of interpolation in a time series\n",
    "data = {\n",
    "    'Date': pd.date_range(start='2023-01-01', periods=5),\n",
    "    'Temperature': [30, None, 28, None, 27]\n",
    "}\n",
    "df_ts = pd.DataFrame(data)\n",
    "\n",
    "# Interpolating missing values\n",
    "df_ts['Temperature'] = df_ts['Temperature'].interpolate()\n",
    "\n",
    "print(\"DataFrame after interpolating missing values:\")\n",
    "print(df_ts)\n"
   ]
  },
  {
   "cell_type": "markdown",
   "id": "60398612",
   "metadata": {},
   "source": [
    "## Use Case: Cleaning a Dataset of Public Health Records"
   ]
  },
  {
   "cell_type": "markdown",
   "id": "1d387034",
   "metadata": {},
   "source": [
    "### Step 1: Loading the Dataset"
   ]
  },
  {
   "cell_type": "code",
   "execution_count": null,
   "id": "b70b84e4",
   "metadata": {},
   "outputs": [],
   "source": [
    "\n",
    "# Loading the dataset\n",
    "url = 'https://raw.githubusercontent.com/ricardogr07/100-days-of-python-and-data-science/main/13%20-%20Handling%20Missing%20Data%20in%20Pandas/public_health_records.csv'\n",
    "health_df = pd.read_csv(url)\n",
    "\n",
    "# Display the first few rows of the dataset\n",
    "print(\"First few rows of the public health records dataset:\")\n",
    "print(health_df.head())\n"
   ]
  },
  {
   "cell_type": "markdown",
   "id": "83f96712",
   "metadata": {},
   "source": [
    "### Step 2: Detecting Missing Data"
   ]
  },
  {
   "cell_type": "code",
   "execution_count": null,
   "id": "efbc7825",
   "metadata": {},
   "outputs": [],
   "source": [
    "\n",
    "# Checking for missing values\n",
    "print(\"Missing values in the public health records dataset:\")\n",
    "print(health_df.isnull().sum())\n"
   ]
  },
  {
   "cell_type": "markdown",
   "id": "718d3b42",
   "metadata": {},
   "source": [
    "### Step 3: Filling Missing Values"
   ]
  },
  {
   "cell_type": "code",
   "execution_count": null,
   "id": "a95a5fe6",
   "metadata": {},
   "outputs": [],
   "source": [
    "\n",
    "# Filling missing numerical values with the mean\n",
    "health_df['Age'] = health_df['Age'].fillna(health_df['Age'].mean())\n",
    "\n",
    "# Filling missing categorical values with the most frequent value\n",
    "health_df['Diagnosis'] = health_df['Diagnosis'].fillna(health_df['Diagnosis'].mode()[0])\n",
    "\n",
    "print(\"Dataset after filling missing values:\")\n",
    "print(health_df.head())\n"
   ]
  },
  {
   "cell_type": "markdown",
   "id": "e7495d1f",
   "metadata": {},
   "source": [
    "### Step 4: Dropping Rows with Missing Values"
   ]
  },
  {
   "cell_type": "code",
   "execution_count": null,
   "id": "acee6960",
   "metadata": {},
   "outputs": [],
   "source": [
    "\n",
    "# Dropping rows with any remaining missing values\n",
    "health_df_cleaned = health_df.dropna()\n",
    "\n",
    "print(\"Dataset after dropping rows with missing values:\")\n",
    "print(health_df_cleaned.head())\n"
   ]
  }
 ],
 "metadata": {
  "language_info": {
   "name": "python"
  }
 },
 "nbformat": 4,
 "nbformat_minor": 5
}
