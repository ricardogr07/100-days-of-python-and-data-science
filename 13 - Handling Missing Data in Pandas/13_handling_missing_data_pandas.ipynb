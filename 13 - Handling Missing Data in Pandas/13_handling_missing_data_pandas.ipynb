{
 "cells": [
  {
   "cell_type": "markdown",
   "id": "a944344e",
   "metadata": {},
   "source": [
    "# Day 13 - Handling Missing Data in Pandas"
   ]
  },
  {
   "cell_type": "markdown",
   "id": "616aef79",
   "metadata": {},
   "source": [
    "\n",
    "## Why is Handling Missing Data Important?\n",
    "\n",
    "Missing data can introduce bias, reduce the representativeness of your sample, and lead to inaccurate conclusions. Therefore, it's essential to handle missing data appropriately, whether by filling it in a meaningful way or by dropping incomplete records altogether. Pandas provides powerful tools to address missing data, enabling you to prepare your datasets for analysis.\n"
   ]
  },
  {
   "cell_type": "markdown",
   "id": "05480fd9",
   "metadata": {},
   "source": [
    "## Tutorial: Filling and Dropping Missing Values"
   ]
  },
  {
   "cell_type": "code",
   "execution_count": 1,
   "id": "5f8de5eb",
   "metadata": {},
   "outputs": [
    {
     "name": "stdout",
     "output_type": "stream",
     "text": [
      "Requirement already satisfied: pandas in c:\\users\\ricar\\appdata\\local\\programs\\python\\python312\\lib\\site-packages (2.2.0)\n",
      "Requirement already satisfied: numpy<2,>=1.26.0 in c:\\users\\ricar\\appdata\\local\\programs\\python\\python312\\lib\\site-packages (from pandas) (1.26.4)\n",
      "Requirement already satisfied: python-dateutil>=2.8.2 in c:\\users\\ricar\\appdata\\local\\programs\\python\\python312\\lib\\site-packages (from pandas) (2.8.2)\n",
      "Requirement already satisfied: pytz>=2020.1 in c:\\users\\ricar\\appdata\\local\\programs\\python\\python312\\lib\\site-packages (from pandas) (2024.1)\n",
      "Requirement already satisfied: tzdata>=2022.7 in c:\\users\\ricar\\appdata\\local\\programs\\python\\python312\\lib\\site-packages (from pandas) (2024.1)\n",
      "Requirement already satisfied: six>=1.5 in c:\\users\\ricar\\appdata\\local\\programs\\python\\python312\\lib\\site-packages (from python-dateutil>=2.8.2->pandas) (1.16.0)\n"
     ]
    }
   ],
   "source": [
    "!pip install pandas"
   ]
  },
  {
   "cell_type": "markdown",
   "id": "2090c5f3",
   "metadata": {},
   "source": [
    "### Detecting Missing Data"
   ]
  },
  {
   "cell_type": "code",
   "execution_count": 2,
   "id": "34721ace",
   "metadata": {},
   "outputs": [
    {
     "name": "stdout",
     "output_type": "stream",
     "text": [
      "Missing values in the DataFrame:\n",
      "    Name    Age   City\n",
      "0  False  False  False\n",
      "1  False   True  False\n",
      "2  False  False   True\n",
      "3  False  False  False\n"
     ]
    }
   ],
   "source": [
    "\n",
    "import pandas as pd\n",
    "\n",
    "# Example DataFrame with missing values\n",
    "data = {\n",
    "    'Name': ['Alice', 'Bob', 'Charlie', 'David'],\n",
    "    'Age': [25, None, 30, 22],\n",
    "    'City': ['New York', 'Los Angeles', None, 'Chicago']\n",
    "}\n",
    "df = pd.DataFrame(data)\n",
    "\n",
    "# Detect missing values\n",
    "print(\"Missing values in the DataFrame:\")\n",
    "print(df.isnull())\n"
   ]
  },
  {
   "cell_type": "markdown",
   "id": "fc13f4ad",
   "metadata": {},
   "source": [
    "### Filling Missing Values"
   ]
  },
  {
   "cell_type": "code",
   "execution_count": 3,
   "id": "2af530a8",
   "metadata": {},
   "outputs": [
    {
     "name": "stdout",
     "output_type": "stream",
     "text": [
      "DataFrame after filling missing values:\n",
      "      Name        Age         City\n",
      "0    Alice  25.000000     New York\n",
      "1      Bob  25.666667  Los Angeles\n",
      "2  Charlie  30.000000      Unknown\n",
      "3    David  22.000000      Chicago\n"
     ]
    }
   ],
   "source": [
    "\n",
    "# Filling missing values with a specific value\n",
    "df_filled = df.fillna({\n",
    "    'Age': df['Age'].mean(),  # Fill missing ages with the mean age\n",
    "    'City': 'Unknown'          # Fill missing cities with 'Unknown'\n",
    "})\n",
    "\n",
    "print(\"DataFrame after filling missing values:\")\n",
    "print(df_filled)"
   ]
  },
  {
   "cell_type": "markdown",
   "id": "23adb5c3",
   "metadata": {},
   "source": [
    "### Dropping Missing Values"
   ]
  },
  {
   "cell_type": "code",
   "execution_count": 4,
   "id": "78a70c28",
   "metadata": {},
   "outputs": [
    {
     "name": "stdout",
     "output_type": "stream",
     "text": [
      "DataFrame after dropping rows with missing values:\n",
      "    Name   Age      City\n",
      "0  Alice  25.0  New York\n",
      "3  David  22.0   Chicago\n"
     ]
    }
   ],
   "source": [
    "\n",
    "# Dropping rows with any missing values\n",
    "df_dropped = df.dropna()\n",
    "\n",
    "print(\"DataFrame after dropping rows with missing values:\")\n",
    "print(df_dropped)\n"
   ]
  },
  {
   "cell_type": "markdown",
   "id": "67a7aff1",
   "metadata": {},
   "source": [
    "### Interpolating Missing Values"
   ]
  },
  {
   "cell_type": "code",
   "execution_count": 5,
   "id": "8ff5d67a",
   "metadata": {},
   "outputs": [
    {
     "name": "stdout",
     "output_type": "stream",
     "text": [
      "DataFrame after interpolating missing values:\n",
      "        Date  Temperature\n",
      "0 2023-01-01         30.0\n",
      "1 2023-01-02         29.0\n",
      "2 2023-01-03         28.0\n",
      "3 2023-01-04         27.5\n",
      "4 2023-01-05         27.0\n"
     ]
    }
   ],
   "source": [
    "\n",
    "# Example of interpolation in a time series\n",
    "data = {\n",
    "    'Date': pd.date_range(start='2023-01-01', periods=5),\n",
    "    'Temperature': [30, None, 28, None, 27]\n",
    "}\n",
    "df_ts = pd.DataFrame(data)\n",
    "\n",
    "# Interpolating missing values\n",
    "df_ts['Temperature'] = df_ts['Temperature'].interpolate()\n",
    "\n",
    "print(\"DataFrame after interpolating missing values:\")\n",
    "print(df_ts)\n"
   ]
  },
  {
   "cell_type": "markdown",
   "id": "60398612",
   "metadata": {},
   "source": [
    "## Use Case: Cleaning a Dataset of Public Health Records"
   ]
  },
  {
   "cell_type": "markdown",
   "id": "1d387034",
   "metadata": {},
   "source": [
    "### Step 1: Loading the Dataset"
   ]
  },
  {
   "cell_type": "code",
   "execution_count": 9,
   "id": "b70b84e4",
   "metadata": {},
   "outputs": [
    {
     "name": "stdout",
     "output_type": "stream",
     "text": [
      "First few rows of the public health records dataset:\n",
      "   PatientID   Age  Gender Diagnosis        Treatment\n",
      "0          1  58.0  Female    Asthma       Medication\n",
      "1          2  71.0  Female    Asthma             Rest\n",
      "2          3  48.0    Male  COVID-19              NaN\n",
      "3          4  34.0    Male    Asthma       Medication\n",
      "4          5  62.0  Female    Asthma  Hospitalization\n"
     ]
    }
   ],
   "source": [
    "\n",
    "# Loading the dataset\n",
    "#url = 'https://raw.githubusercontent.com/ricardogr07/100-days-of-python-and-data-science/main/13%20-%20Handling%20Missing%20Data%20in%20Pandas/public_health_records.csv'\n",
    "url = f'https://raw.githubusercontent.com/ricardogr07/100-days-of-python-and-data-science/main/13%E2%80%8A-%E2%80%8AHandling%20Missing%20Data%20in%C2%A0Pandas/public_health_records.csv'\n",
    "health_df = pd.read_csv(url)\n",
    "\n",
    "# Display the first few rows of the dataset\n",
    "print(\"First few rows of the public health records dataset:\")\n",
    "print(health_df.head())\n"
   ]
  },
  {
   "cell_type": "markdown",
   "id": "83f96712",
   "metadata": {},
   "source": [
    "### Step 2: Detecting Missing Data"
   ]
  },
  {
   "cell_type": "code",
   "execution_count": 10,
   "id": "efbc7825",
   "metadata": {},
   "outputs": [
    {
     "name": "stdout",
     "output_type": "stream",
     "text": [
      "Missing values in the public health records dataset:\n",
      "PatientID     0\n",
      "Age          20\n",
      "Gender       10\n",
      "Diagnosis     0\n",
      "Treatment    15\n",
      "dtype: int64\n"
     ]
    }
   ],
   "source": [
    "# Checking for missing values\n",
    "print(\"Missing values in the public health records dataset:\")\n",
    "print(health_df.isnull().sum())"
   ]
  },
  {
   "cell_type": "markdown",
   "id": "718d3b42",
   "metadata": {},
   "source": [
    "### Step 3: Filling Missing Values"
   ]
  },
  {
   "cell_type": "code",
   "execution_count": 11,
   "id": "a95a5fe6",
   "metadata": {},
   "outputs": [
    {
     "name": "stdout",
     "output_type": "stream",
     "text": [
      "Dataset after filling missing values:\n",
      "   PatientID   Age  Gender Diagnosis        Treatment\n",
      "0          1  58.0  Female    Asthma       Medication\n",
      "1          2  71.0  Female    Asthma             Rest\n",
      "2          3  48.0    Male  COVID-19              NaN\n",
      "3          4  34.0    Male    Asthma       Medication\n",
      "4          5  62.0  Female    Asthma  Hospitalization\n"
     ]
    }
   ],
   "source": [
    "# Filling missing numerical values with the mean\n",
    "health_df['Age'] = health_df['Age'].fillna(health_df['Age'].mean())\n",
    "\n",
    "# Filling missing categorical values with the most frequent value\n",
    "health_df['Diagnosis'] = health_df['Diagnosis'].fillna(health_df['Diagnosis'].mode()[0])\n",
    "\n",
    "print(\"Dataset after filling missing values:\")\n",
    "print(health_df.head())"
   ]
  },
  {
   "cell_type": "markdown",
   "id": "e7495d1f",
   "metadata": {},
   "source": [
    "### Step 4: Dropping Rows with Missing Values"
   ]
  },
  {
   "cell_type": "code",
   "execution_count": 12,
   "id": "acee6960",
   "metadata": {},
   "outputs": [
    {
     "name": "stdout",
     "output_type": "stream",
     "text": [
      "Dataset after dropping rows with missing values:\n",
      "   PatientID   Age  Gender Diagnosis        Treatment\n",
      "0          1  58.0  Female    Asthma       Medication\n",
      "1          2  71.0  Female    Asthma             Rest\n",
      "3          4  34.0    Male    Asthma       Medication\n",
      "4          5  62.0  Female    Asthma  Hospitalization\n",
      "5          6  50.8  Female  COVID-19             Rest\n"
     ]
    }
   ],
   "source": [
    "# Dropping rows with any remaining missing values\n",
    "health_df_cleaned = health_df.dropna()\n",
    "\n",
    "print(\"Dataset after dropping rows with missing values:\")\n",
    "print(health_df_cleaned.head())"
   ]
  }
 ],
 "metadata": {
  "kernelspec": {
   "display_name": "Python 3",
   "language": "python",
   "name": "python3"
  },
  "language_info": {
   "codemirror_mode": {
    "name": "ipython",
    "version": 3
   },
   "file_extension": ".py",
   "mimetype": "text/x-python",
   "name": "python",
   "nbconvert_exporter": "python",
   "pygments_lexer": "ipython3",
   "version": "3.12.2"
  }
 },
 "nbformat": 4,
 "nbformat_minor": 5
}
