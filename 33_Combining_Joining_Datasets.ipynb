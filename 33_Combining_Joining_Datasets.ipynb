{
 "cells": [
  {
   "cell_type": "markdown",
   "id": "77818ced",
   "metadata": {},
   "source": [
    "# Day 33 – Combining and Joining Datasets in Python"
   ]
  },
  {
   "cell_type": "markdown",
   "id": "35503bd9",
   "metadata": {},
   "source": [
    "In today’s post, we’ll explore techniques for merging datasets with different structures. This is a crucial skill when working with data from multiple sources, allowing us to perform comprehensive analyses by bringing related data together. Whether you’re handling business intelligence data, building machine learning models, or conducting research, merging datasets is a fundamental task."
   ]
  },
  {
   "cell_type": "markdown",
   "id": "6f8ef646",
   "metadata": {},
   "source": [
    "## Why Combining and Joining Datasets Is Important"
   ]
  },
  {
   "cell_type": "markdown",
   "id": "2f3f4a6c",
   "metadata": {},
   "source": [
    "Data is often stored in multiple files or tables, each representing a different aspect of the overall picture. Combining datasets enables you to:"
   ]
  },
  {
   "cell_type": "markdown",
   "id": "83123ccb",
   "metadata": {},
   "source": [
    "- Gain a complete view: Merging related data sources provides a holistic perspective, which is essential for thorough analysis."
   ]
  },
  {
   "cell_type": "markdown",
   "id": "398a514c",
   "metadata": {},
   "source": [
    "- Enhance analysis: Merging datasets allows you to calculate key metrics, create detailed reports, and gain actionable insights."
   ]
  },
  {
   "cell_type": "markdown",
   "id": "7917eab6",
   "metadata": {},
   "source": [
    "- Simplify data preparation: By combining datasets early in your analysis workflow, you create a unified dataset that’s easier to work with."
   ]
  },
  {
   "cell_type": "markdown",
   "id": "5d4e7b94",
   "metadata": {},
   "source": [
    "## Types of Joins in Pandas"
   ]
  },
  {
   "cell_type": "markdown",
   "id": "d3f13b87",
   "metadata": {},
   "source": [
    "Pandas provides several ways to combine dataframes, each suited to specific use cases:"
   ]
  },
  {
   "cell_type": "markdown",
   "id": "f2db6a34",
   "metadata": {},
   "source": [
    "- `merge()`: Used to join datasets based on common columns, similar to SQL joins."
   ]
  },
  {
   "cell_type": "markdown",
   "id": "880aad55",
   "metadata": {},
   "source": [
    "- `join()`: Designed for joining on the index, often used when datasets share the same index."
   ]
  },
  {
   "cell_type": "markdown",
   "id": "ac95fd28",
   "metadata": {},
   "source": [
    "**Common Types of Joins:**"
   ]
  },
  {
   "cell_type": "markdown",
   "id": "4f11efbc",
   "metadata": {},
   "source": [
    "- Inner Join: Returns only the rows where there is a match in both dataframes."
   ]
  },
  {
   "cell_type": "markdown",
   "id": "5f7596ed",
   "metadata": {},
   "source": [
    "- Outer Join: Returns all rows from both dataframes, filling in NaN where there’s no match."
   ]
  },
  {
   "cell_type": "markdown",
   "id": "61b4a186",
   "metadata": {},
   "source": [
    "- Left Join: Returns all rows from the left dataframe and the matching rows from the right."
   ]
  },
  {
   "cell_type": "markdown",
   "id": "0a2ef161",
   "metadata": {},
   "source": [
    "- Right Join: Returns all rows from the right dataframe and the matching rows from the left."
   ]
  },
  {
   "cell_type": "markdown",
   "id": "cc9104ad",
   "metadata": {},
   "source": [
    "Each type of join serves a specific purpose, allowing you to merge datasets in the way that best suits your analysis needs."
   ]
  },
  {
   "cell_type": "markdown",
   "id": "c8be8a1b",
   "metadata": {},
   "source": [
    "## Example Data"
   ]
  },
  {
   "cell_type": "markdown",
   "id": "d883658c",
   "metadata": {},
   "source": [
    "We’ll use two sample dataframes to demonstrate these joins:"
   ]
  },
  {
   "cell_type": "markdown",
   "id": "ecca2506",
   "metadata": {},
   "source": [
    "- Customers: Contains basic customer information."
   ]
  },
  {
   "cell_type": "markdown",
   "id": "d8e67aa9",
   "metadata": {},
   "source": [
    "- Transactions: Contains transaction data, including amounts spent."
   ]
  },
  {
   "cell_type": "code",
   "execution_count": null,
   "id": "828ed573",
   "metadata": {},
   "outputs": [],
   "source": [
    "import pandas as pd\n",
    "\n",
    "# Sample DataFrames\n",
    "customers = pd.DataFrame({\n",
    "    'CustomerID': [1, 2, 3, 4],\n",
    "    'Name': ['Alice', 'Bob', 'Charlie', 'David']\n",
    "})\n",
    "\n",
    "transactions = pd.DataFrame({\n",
    "    'TransactionID': [101, 102, 103, 104],\n",
    "    'CustomerID': [1, 2, 2, 4],\n",
    "    'Amount': [250, 150, 200, 300]\n",
    "})\n",
    "\n",
    "# Displaying the dataframes\n",
    "print(\"Customers DataFrame:\")\n",
    "print(customers)\n",
    "\n",
    "print(\"\\nTransactions DataFrame:\")\n",
    "print(transactions)"
   ]
  },
  {
   "cell_type": "markdown",
   "id": "a77115b1",
   "metadata": {},
   "source": [
    "## Merging DataFrames Using `merge()`"
   ]
  },
  {
   "cell_type": "markdown",
   "id": "74a46adb",
   "metadata": {},
   "source": [
    "The merge() function in Pandas allows you to combine datasets on shared columns. Here, we’ll merge the customers and transactions dataframes using the CustomerID column."
   ]
  },
  {
   "cell_type": "code",
   "execution_count": null,
   "id": "153e3a2b",
   "metadata": {},
   "outputs": [],
   "source": [
    "# Merging on 'CustomerID'\n",
    "merged_df = pd.merge(customers, transactions, on='CustomerID')\n",
    "\n",
    "# Displaying the merged DataFrame\n",
    "print(\"Merged DataFrame:\")\n",
    "print(merged_df)"
   ]
  },
  {
   "cell_type": "markdown",
   "id": "2a2aff45",
   "metadata": {},
   "source": [
    "**Explanation:** We’ve performed an inner join on CustomerID, resulting in a new dataframe that combines customer details with their corresponding transactions."
   ]
  },
  {
   "cell_type": "markdown",
   "id": "1db0836c",
   "metadata": {},
   "source": [
    "## Exploring Different Types of Joins"
   ]
  },
  {
   "cell_type": "markdown",
   "id": "54c2737a",
   "metadata": {},
   "source": [
    "You can specify the type of join by using the `how` parameter in the `merge()` function. Let’s explore each join type with our sample data."
   ]
  },
  {
   "cell_type": "markdown",
   "id": "a6e095ab",
   "metadata": {},
   "source": [
    "**Inner Join (default):** Only keeps rows where there’s a match in both dataframes."
   ]
  },
  {
   "cell_type": "code",
   "execution_count": null,
   "id": "c8f1d9f4",
   "metadata": {},
   "outputs": [],
   "source": [
    "inner_join_df = pd.merge(customers, transactions, on='CustomerID', how='inner')\n",
    "print(\"\\nInner Join Result:\")\n",
    "print(inner_join_df)"
   ]
  },
  {
   "cell_type": "markdown",
   "id": "141860a2",
   "metadata": {},
   "source": [
    "**Left Join:** Keeps all rows from the left dataframe (customers), adding data from the right dataframe (transactions) where available."
   ]
  },
  {
   "cell_type": "code",
   "execution_count": null,
   "id": "8c08d586",
   "metadata": {},
   "outputs": [],
   "source": [
    "left_join_df = pd.merge(customers, transactions, on='CustomerID', how='left')\n",
    "print(\"\\nLeft Join Result:\")\n",
    "print(left_join_df)"
   ]
  },
  {
   "cell_type": "markdown",
   "id": "08418bea",
   "metadata": {},
   "source": [
    "**Right Join:** Keeps all rows from the right dataframe (transactions), adding data from the left dataframe (customers) where available."
   ]
  },
  {
   "cell_type": "code",
   "execution_count": null,
   "id": "a6001c87",
   "metadata": {},
   "outputs": [],
   "source": [
    "right_join_df = pd.merge(customers, transactions, on='CustomerID', how='right')\n",
    "print(\"\\nRight Join Result:\")\n",
    "print(right_join_df)"
   ]
  },
  {
   "cell_type": "markdown",
   "id": "8dce6370",
   "metadata": {},
   "source": [
    "**Outer Join:** Returns all rows from both dataframes, filling in missing values where there’s no match."
   ]
  },
  {
   "cell_type": "code",
   "execution_count": null,
   "id": "f2c09c9d",
   "metadata": {},
   "outputs": [],
   "source": [
    "outer_join_df = pd.merge(customers, transactions, on='CustomerID', how='outer')\n",
    "print(\"\\nOuter Join Result:\")\n",
    "print(outer_join_df)"
   ]
  },
  {
   "cell_type": "markdown",
   "id": "1d02b496",
   "metadata": {},
   "source": [
    "**Explanation:** Different join types allow you to handle missing data and maintain specific rows in the result, depending on your analysis needs."
   ]
  },
  {
   "cell_type": "markdown",
   "id": "a94a0090",
   "metadata": {},
   "source": [
    "## Joining DataFrames with `.join()`"
   ]
  },
  {
   "cell_type": "markdown",
   "id": "dc4dba7c",
   "metadata": {},
   "source": [
    "The .join() method is used for index-based joins, typically when both datasets are indexed by the same key. Let’s reset the index to CustomerID and perform a join."
   ]
  },
  {
   "cell_type": "code",
   "execution_count": null,
   "id": "a6e96a1a",
   "metadata": {},
   "outputs": [],
   "source": [
    "# Setting 'CustomerID' as the index\n",
    "customers.set_index('CustomerID', inplace=True)\n",
    "transactions.set_index('CustomerID', inplace=True)\n",
    "\n",
    "# Joining the DataFrames\n",
    "joined_df = customers.join(transactions)\n",
    "\n",
    "# Displaying the joined DataFrame\n",
    "print(\"\\nJoined DataFrame:\")\n",
    "print(joined_df)"
   ]
  },
  {
   "cell_type": "markdown",
   "id": "8a49727b",
   "metadata": {},
   "source": [
    "**Explanation:** The .join() method merges the data based on the index rather than a specific column."
   ]
  },
  {
   "cell_type": "markdown",
   "id": "ee26196f",
   "metadata": {},
   "source": [
    "## Use Case: Combining Data from Multiple Sources"
   ]
  },
  {
   "cell_type": "markdown",
   "id": "829defe5",
   "metadata": {},
   "source": [
    "Let’s apply these techniques to a practical use case. Imagine you’re working on a project where you need to combine customer information with their transaction data, which are stored in separate CSV files. You’ll use these files to calculate key insights, such as total customer spending."
   ]
  },
  {
   "cell_type": "markdown",
   "id": "70a76f96",
   "metadata": {},
   "source": [
    "### Step 1: Loading the Datasets"
   ]
  },
  {
   "cell_type": "markdown",
   "id": "6159aff7",
   "metadata": {},
   "source": [
    "We’ll load two CSV files: one containing customer information and the other containing transaction data."
   ]
  },
  {
   "cell_type": "code",
   "execution_count": null,
   "id": "12bb1d65",
   "metadata": {},
   "outputs": [],
   "source": [
    "# Loading customer and transaction data\n",
    "customers_df = pd.read_csv('customers.csv')\n",
    "transactions_df = pd.read_csv('transactions.csv')\n",
    "\n",
    "# Displaying the first few rows of each dataset\n",
    "print(\"Customers DataFrame:\")\n",
    "print(customers_df.head())\n",
    "\n",
    "print(\"\\nTransactions DataFrame:\")\n",
    "print(transactions_df.head())"
   ]
  },
  {
   "cell_type": "markdown",
   "id": "281284d2",
   "metadata": {},
   "source": [
    "### Step 2: Merging the Datasets"
   ]
  },
  {
   "cell_type": "markdown",
   "id": "0af3557f",
   "metadata": {},
   "source": [
    "Next, we’ll merge the datasets on the CustomerID column to create a unified dataset."
   ]
  },
  {
   "cell_type": "code",
   "execution_count": null,
   "id": "a7878ee0",
   "metadata": {},
   "outputs": [],
   "source": [
    "# Merging the DataFrames on 'CustomerID'\n",
    "merged_data = pd.merge(customers_df, transactions_df, on='CustomerID')\n",
    "\n",
    "# Displaying the merged DataFrame\n",
    "print(\"\\nMerged Customer and Transaction Data:\")\n",
    "print(merged_data.head())"
   ]
  },
  {
   "cell_type": "markdown",
   "id": "bd1bdd0b",
   "metadata": {},
   "source": [
    "### Step 3: Analyzing the Combined Data"
   ]
  },
  {
   "cell_type": "markdown",
   "id": "13b93573",
   "metadata": {},
   "source": [
    "With the datasets combined, you can now analyze the data to extract insights. For example, let’s calculate the total spending per customer and identify customers with the highest number of transactions."
   ]
  },
  {
   "cell_type": "code",
   "execution_count": null,
   "id": "24e5d55b",
   "metadata": {},
   "outputs": [],
   "source": [
    "# Calculating total spending per customer\n",
    "total_spending = merged_data.groupby('Name')['Amount'].sum().reset_index()\n",
    "\n",
    "print(\"\\nTotal Spending per Customer:\")\n",
    "print(total_spending)\n",
    "\n",
    "# Calculating transaction counts per customer\n",
    "transaction_count = merged_data.groupby('Name')['TransactionID'].count().reset_index()\n",
    "transaction_count.columns = ['Name', 'TransactionCount']\n",
    "\n",
    "print(\"\\nTransaction Count per Customer:\")\n",
    "print(transaction_count)"
   ]
  },
  {
   "cell_type": "markdown",
   "id": "5aaba7bc",
   "metadata": {},
   "source": [
    "**Explanation:** After merging, you can use Pandas functions to group, sum, or count specific data points. In this case, we calculated:"
   ]
  },
  {
   "cell_type": "markdown",
   "id": "e3b03147",
   "metadata": {},
   "source": [
    "- Total spending per customer: Summing the transaction Amount for each customer."
   ]
  },
  {
   "cell_type": "markdown",
   "id": "96527460",
   "metadata": {},
   "source": [
    "- Transaction count per customer: Counting the number of transactions each customer made."
   ]
  },
  {
   "cell_type": "markdown",
   "id": "9630c85f",
   "metadata": {},
   "source": [
    "## Conclusion"
   ]
  },
  {
   "cell_type": "markdown",
   "id": "f9c8a28a",
   "metadata": {},
   "source": [
    "In today’s post, we explored how to combine datasets using Pandas, with a focus on `merge()` and `.join()` methods. These tools are fundamental for merging data from multiple sources, enabling you to create comprehensive datasets for analysis. By mastering these techniques, you can easily unify disparate data, generate meaningful insights, and prepare datasets for more advanced analysis."
   ]
  },
  {
   "cell_type": "markdown",
   "id": "99739e96",
   "metadata": {},
   "source": [
    "**Key Takeaways:**"
   ]
  },
  {
   "cell_type": "markdown",
   "id": "8a04869a",
   "metadata": {},
   "source": [
    "- Use `merge()` to join dataframes based on common columns."
   ]
  },
  {
   "cell_type": "markdown",
   "id": "a0a93b2a",
   "metadata": {},
   "source": [
    "- Use `.join()` for index-based joins, when both dataframes share a common index."
   ]
  },
  {
   "cell_type": "markdown",
   "id": "18cb31cf",
   "metadata": {},
   "source": [
    "- Practice using different types of joins (inner, outer, left, right) based on the data and the analysis goal."
   ]
  },
  {
   "cell_type": "markdown",
   "id": "cf07777d",
   "metadata": {},
   "source": [
    "Stay tuned for tomorrow’s post, where we’ll dive into Advanced Data Aggregation Techniques!"
   ]
  }
 ],
 "metadata": {
  "language_info": {
   "name": "python"
  }
 },
 "nbformat": 4,
 "nbformat_minor": 5
}
