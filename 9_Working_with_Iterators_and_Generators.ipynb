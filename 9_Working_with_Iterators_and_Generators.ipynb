{
 "cells": [
  {
   "cell_type": "markdown",
   "id": "192a659a",
   "metadata": {},
   "source": [
    "# Day 9 - Working with Iterators and Generators in Python"
   ]
  },
  {
   "cell_type": "markdown",
   "id": "08d6c3a0",
   "metadata": {},
   "source": [
    "\n",
    "## Why are Iterators and Generators Important?\n",
    "Iterators and generators allow you to handle data in a more memory-efficient way, especially when dealing with \n",
    "large datasets or continuous data streams. Generators, in particular, enable you to produce data on-the-fly, \n",
    "yielding one item at a time, which is essential when working with real-time data or when memory constraints are a concern.\n"
   ]
  },
  {
   "cell_type": "markdown",
   "id": "fe5b5aaf",
   "metadata": {},
   "source": [
    "\n",
    "## Basic Theory: Understanding Iterators and Generators\n",
    "\n",
    "### Iterators:\n",
    "An iterator is an object in Python that enables one to traverse through all the elements of a collection, \n",
    "such as lists or strings. The iterator protocol in Python involves implementing two methods: `__iter__()` and `__next__()`.\n",
    "\n",
    "The `__iter__()` method, which returns the iterator object itself, is called once; it is usually required to allow Python containers to return a fresh iterator each time.\n",
    "\n",
    "The `__next__()` method must return the next item in the sequence and should raise a StopIteration exception when there are no more elements.\n"
   ]
  },
  {
   "cell_type": "code",
   "execution_count": null,
   "id": "caa7b62e",
   "metadata": {},
   "outputs": [],
   "source": [
    "\n",
    "class CountDown:\n",
    "    def __init__(self, start):\n",
    "        self.current = start\n",
    "    def __iter__(self):\n",
    "        return self\n",
    "    def __next__(self):\n",
    "        if self.current <= 0:\n",
    "            raise StopIteration\n",
    "        else:\n",
    "            num = self.current\n",
    "            self.current -= 1\n",
    "            return num\n",
    "\n",
    "# Example usage:\n",
    "for number in CountDown(3):\n",
    "    print(number)\n"
   ]
  },
  {
   "cell_type": "markdown",
   "id": "fb356fdc",
   "metadata": {},
   "source": [
    "\n",
    "### Generators:\n",
    "Generators are a simpler way to create iterators using functions and the yield keyword. A generator function automatically handles the state management, suspending and resuming its context around each yield to produce a series of values over time. This is especially useful for large datasets or infinite sequences, as it allows for the efficient consumption of parts of the data without loading everything into memory.\n"
   ]
  },
  {
   "cell_type": "code",
   "execution_count": null,
   "id": "835bda78",
   "metadata": {},
   "outputs": [],
   "source": [
    "\n",
    "def count_down(start):\n",
    "    while start > 0:\n",
    "        yield start\n",
    "        start -= 1\n",
    "\n",
    "# Example usage:\n",
    "for number in count_down(3):\n",
    "    print(number)\n"
   ]
  },
  {
   "cell_type": "markdown",
   "id": "95a41738",
   "metadata": {},
   "source": [
    "\n",
    "## Example: Line-by-Line File Reader\n",
    "This example showcases the creation of a generator that efficiently reads a large file line by line. Generators are a practical solution for processing large files without loading the entire file into memory, which can be critical for handling large datasets in data science and machine learning applications.\n"
   ]
  },
  {
   "cell_type": "code",
   "execution_count": null,
   "id": "a63e5617",
   "metadata": {},
   "outputs": [],
   "source": [
    "\n",
    "def read_large_file(file_path):\n",
    "    \"\"\"Generator function to read a large file line by line.\"\"\"\n",
    "    with open(file_path, 'r') as file:\n",
    "        for line in file:\n",
    "            yield line.strip()\n",
    "\n",
    "# Using the generator\n",
    "file_path = 'large_file.txt'\n",
    "for line in read_large_file(file_path):\n",
    "    print(line)\n"
   ]
  },
  {
   "cell_type": "markdown",
   "id": "db0b592c",
   "metadata": {},
   "source": [
    "\n",
    "## Real-Life Example: Streaming Data from a Real-Time API\n",
    "Now, let's apply the concept of generators to stream data from a real-time API. Suppose we want to continuously monitor a live feed of cryptocurrency prices from an API. We'll build a generator to handle the streaming data efficiently.\n"
   ]
  },
  {
   "cell_type": "code",
   "execution_count": null,
   "id": "074104d3",
   "metadata": {},
   "outputs": [],
   "source": [
    "\n",
    "import requests\n",
    "import time\n",
    "\n",
    "def crypto_price_stream(interval=5):\n",
    "    \"\"\"Generator function to stream Bitcoin prices.\"\"\"\n",
    "    base_url = \"https://api.coindesk.com/v1/bpi/currentprice.json\"\n",
    "    while True:\n",
    "        response = requests.get(base_url)\n",
    "        data = response.json()\n",
    "        price = data['bpi']['USD']['rate']\n",
    "        yield f\"Current BTC price: ${price}\"\n",
    "        time.sleep(interval)\n",
    "\n",
    "# Using the generator to stream data\n",
    "for price_info in crypto_price_stream():\n",
    "    print(price_info)\n"
   ]
  }
 ],
 "metadata": {
  "kernelspec": {
   "display_name": "Python 3",
   "language": "python",
   "name": "python3"
  },
  "language_info": {
   "codemirror_mode": {
    "name": "ipython",
    "version": 3
   },
   "file_extension": ".py",
   "mimetype": "text/x-python",
   "name": "python",
   "nbconvert_exporter": "python",
   "pygments_lexer": "ipython3",
   "version": "3.12.2"
  }
 },
 "nbformat": 4,
 "nbformat_minor": 5
}
