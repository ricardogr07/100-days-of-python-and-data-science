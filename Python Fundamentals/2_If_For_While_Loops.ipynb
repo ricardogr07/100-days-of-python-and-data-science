{
 "cells": [
  {
   "cell_type": "code",
   "execution_count": null,
   "metadata": {},
   "outputs": [],
   "source": [
    "import random\n",
    "\n",
    "# Generate a random number between 1 and 100\n",
    "number_to_guess = random.randint(1, 100)\n",
    "attempts = 0\n",
    "\n",
    "print(\"Welcome to the Number Guessing Game!\")\n",
    "print(\"Guess a number between 1 and 100.\")\n",
    "\n",
    "while True:\n",
    "    guess = int(input(\"Enter your guess: \"))\n",
    "    attempts += 1\n",
    "\n",
    "    if guess < number_to_guess:\n",
    "        print(\"Too low! Try again.\")\n",
    "    elif guess > number_to_guess:\n",
    "        print(\"Too high! Try again.\")\n",
    "    else:\n",
    "        print(f\"Congratulations! You've guessed the number in {attempts} attempts.\")\n",
    "        break\n"
   ]
  },
  {
   "cell_type": "code",
   "execution_count": 12,
   "metadata": {},
   "outputs": [
    {
     "name": "stdout",
     "output_type": "stream",
     "text": [
      "Number of cold days (<15°C): 0\n",
      "Number of mild days (15°C - 25°C): 0\n",
      "Number of hot days (>25°C): 7\n"
     ]
    }
   ],
   "source": [
    "import requests\n",
    "from datetime import datetime, timedelta\n",
    "\n",
    "# Define your API key and endpoint\n",
    "api_key = \"API_KEY\"\n",
    "base_url = \"https://api.openweathermap.org/data/3.0/onecall/day_summary\"\n",
    "latitude = 25.6866\n",
    "longitude = -100.3161\n",
    "\n",
    "# Function to fetch historical temperature\n",
    "def fetch_historical_temperature(lat, lon, date, api_key):\n",
    "    # Construct the API request URL\n",
    "    complete_url = f\"{base_url}?lat={lat}&lon={lon}&date={date}&appid={api_key}\"\n",
    "    # Fetch the data\n",
    "    response = requests.get(complete_url)\n",
    "    data = response.json()\n",
    "    # Handle the response\n",
    "    if 'temperature' in data:\n",
    "        temperature = data['temperature']['max'] - 273.15\n",
    "        return temperature\n",
    "    else:\n",
    "        print(f\"No data found for date: {date}\")\n",
    "        return None\n",
    "\n",
    "# Fetch temperature data for the last 7 days\n",
    "temperatures = []\n",
    "for i in range(7):\n",
    "    # Get the date for 'i' days ago\n",
    "    date = (datetime.now() - timedelta(days=i)).strftime('%Y-%m-%d')\n",
    "    temp = fetch_historical_temperature(latitude, longitude, date, api_key)\n",
    "    if temp is not None:\n",
    "        temperatures.append(temp)\n",
    "\n",
    "# Classify temperatures\n",
    "cold_days = 0\n",
    "mild_days = 0\n",
    "hot_days = 0\n",
    "\n",
    "for temp in temperatures:\n",
    "    if temp < 15:\n",
    "        cold_days += 1\n",
    "    elif 15 <= temp < 25:\n",
    "        mild_days += 1\n",
    "    else:\n",
    "        hot_days += 1\n",
    "\n",
    "# Output the classification results\n",
    "print(f\"Number of cold days (<15°C): {cold_days}\")\n",
    "print(f\"Number of mild days (15°C - 25°C): {mild_days}\")\n",
    "print(f\"Number of hot days (>25°C): {hot_days}\")\n"
   ]
  }
 ],
 "metadata": {
  "kernelspec": {
   "display_name": "Python 3",
   "language": "python",
   "name": "python3"
  },
  "language_info": {
   "codemirror_mode": {
    "name": "ipython",
    "version": 3
   },
   "file_extension": ".py",
   "mimetype": "text/x-python",
   "name": "python",
   "nbconvert_exporter": "python",
   "pygments_lexer": "ipython3",
   "version": "3.12.2"
  }
 },
 "nbformat": 4,
 "nbformat_minor": 2
}
