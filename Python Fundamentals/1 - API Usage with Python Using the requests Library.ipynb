{
 "cells": [
  {
   "cell_type": "markdown",
   "metadata": {},
   "source": [
    "# API Usage with Python: Using the `requests` Library\n",
    "\n",
    "Welcome to this notebook where we'll explore how to use the `requests` library in Python to interact with APIs. This is part of the 100 posts in 100 days series, where I share daily insights from my Master's in Data Science journey. Today, we'll focus on making GET requests and handling responses from public APIs."
   ]
  },
  {
   "cell_type": "markdown",
   "metadata": {},
   "source": [
    "\n",
    "To use the `requests` library, you need to install it. You can do this using pip:\n",
    "```python"
   ]
  },
  {
   "cell_type": "code",
   "execution_count": null,
   "metadata": {},
   "outputs": [],
   "source": [
    "!pip install requests"
   ]
  },
  {
   "cell_type": "markdown",
   "metadata": {},
   "source": [
    "## Basic Example\n",
    "\n",
    "Let's start with a basic example of how to use the `requests` library to make a GET request."
   ]
  },
  {
   "cell_type": "code",
   "execution_count": null,
   "metadata": {},
   "outputs": [],
   "source": [
    "import requests"
   ]
  },
  {
   "cell_type": "code",
   "execution_count": null,
   "metadata": {},
   "outputs": [],
   "source": [
    "# Define the endpoint URL\n",
    "url = 'https://jsonplaceholder.typicode.com/posts/1'\n",
    "\n",
    "# Make a GET request to the API\n",
    "response = requests.get(url)\n",
    "\n",
    "# Convert the response to a Python dictionary\n",
    "data = response.json()\n",
    "\n",
    "# Print the data\n",
    "print(\"JSONPlaceholder Post Data:\")\n",
    "print(data)"
   ]
  },
  {
   "cell_type": "markdown",
   "metadata": {},
   "source": [
    "## Additional Examples\n",
    "\n",
    "### Example 1: Dog API"
   ]
  },
  {
   "cell_type": "code",
   "execution_count": null,
   "metadata": {},
   "outputs": [],
   "source": [
    "# Define the endpoint URL\n",
    "url = 'https://dog.ceo/api/breeds/image/random'\n",
    "\n",
    "# Make a GET request to the API\n",
    "response = requests.get(url)\n",
    "\n",
    "# Convert the response to a Python dictionary\n",
    "data = response.json()\n",
    "\n",
    "# Print the data\n",
    "print(\"Random Dog Image URL:\")\n",
    "print(data['message'])"
   ]
  },
  {
   "cell_type": "markdown",
   "metadata": {},
   "source": [
    "### Example 2: Open Trivia Database"
   ]
  },
  {
   "cell_type": "code",
   "execution_count": null,
   "metadata": {},
   "outputs": [],
   "source": [
    "# Define the endpoint URL\n",
    "url = 'https://opentdb.com/api.php?amount=1&type=multiple'\n",
    "\n",
    "# Make a GET request to the API\n",
    "response = requests.get(url)\n",
    "\n",
    "# Convert the response to a Python dictionary\n",
    "data = response.json()\n",
    "\n",
    "# Print the data\n",
    "print(\"Trivia Question Data:\")\n",
    "print(data['results'][0]['question'])\n",
    "print(\"Options:\")\n",
    "for option in data['results'][0]['incorrect_answers']:\n",
    "    print(f\"- {option}\")\n",
    "print(f\"- {data['results'][0]['correct_answer']} (Correct Answer)\")\n"
   ]
  },
  {
   "cell_type": "markdown",
   "metadata": {},
   "source": [
    "## Real-life Example: Fetching Weather Data with the OpenWeatherMap API"
   ]
  },
  {
   "cell_type": "code",
   "execution_count": null,
   "metadata": {},
   "outputs": [],
   "source": [
    "# Define your API key and endpoint\n",
    "api_key = \"YOUR_API_KEY\"\n",
    "base_url = \"http://api.openweathermap.org/data/2.5/weather\"\n",
    "city = \"London\"\n",
    "\n",
    "# Construct the API request URL\n",
    "complete_url = f\"{base_url}?q={city}&appid={api_key}\"\n",
    "# Fetch the data\n",
    "response = requests.get(complete_url)\n",
    "data = response.json()\n",
    "# Handle the response\n",
    "if data[\"cod\"] == 200:\n",
    "    main = data[\"main\"]\n",
    "    temperature = main[\"temp\"] - 273.15  # Convert from Kelvin to Celsius\n",
    "    weather = data[\"weather\"][0][\"description\"]\n",
    "    print(f\"Weather in {city}:\")\n",
    "    print(f\"Temperature: {temperature:.2f}°C\")\n",
    "    print(f\"Description: {weather.capitalize()}\")\n",
    "else:\n",
    "    print(\"City not found.\")"
   ]
  }
 ],
 "metadata": {
  "kernelspec": {
   "display_name": "Python 3",
   "language": "python",
   "name": "python3"
  },
  "language_info": {
   "codemirror_mode": {
    "name": "ipython",
    "version": 3
   },
   "file_extension": ".py",
   "mimetype": "text/x-python",
   "name": "python",
   "nbconvert_exporter": "python",
   "pygments_lexer": "ipython3",
   "version": "3.12.2"
  }
 },
 "nbformat": 4,
 "nbformat_minor": 2
}
