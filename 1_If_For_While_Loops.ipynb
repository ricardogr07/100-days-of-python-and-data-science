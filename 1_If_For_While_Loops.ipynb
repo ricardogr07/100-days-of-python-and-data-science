{
  "cells": [
    {
      "cell_type": "markdown",
      "metadata": {
        "id": "view-in-github",
        "colab_type": "text"
      },
      "source": [
        "<a href=\"https://colab.research.google.com/github/ricardogr07/100-days-of-python-and-data-science/blob/main/1_If_For_While_Loops.ipynb\" target=\"_parent\"><img src=\"https://colab.research.google.com/assets/colab-badge.svg\" alt=\"Open In Colab\"/></a>"
      ]
    },
    {
      "cell_type": "markdown",
      "id": "945da586",
      "metadata": {
        "id": "945da586"
      },
      "source": [
        "# Day 1 - If Statements, For Loops, and While Loops in Python"
      ]
    },
    {
      "cell_type": "markdown",
      "id": "f4eb3475",
      "metadata": {
        "id": "f4eb3475"
      },
      "source": [
        "# If Statements, For Loops, and While Loops\n",
        "Today, we'll dive into the essentials of control flow in Python — specifically, how to use if statements, for loops, and while loops to direct the flow of your programs.\n",
        "\n",
        "Control flow is the backbone of any programming language. It allows you to make decisions, repeat actions, and perform different operations based on varying conditions. Mastering these basic structures is crucial whether you're processing data, developing algorithms, or building applications."
      ]
    },
    {
      "cell_type": "markdown",
      "id": "8d09e11a",
      "metadata": {
        "id": "8d09e11a"
      },
      "source": [
        "## If Statements\n",
        "If statements allow you to control the flow of your program by executing a block of code only when a specified condition is true. This is essential for making decisions within your code, enabling it to respond differently based on varying inputs or conditions.\n",
        "\n",
        "Here is the basic syntax:\n",
        "```python\n",
        "if condition:\n",
        "    # code to execute if condition is true\n",
        "elif condition2:\n",
        "    # code to execute if condition2 is true\n",
        "else:\n",
        "    # code to execute if conditions were not met\n",
        "```"
      ]
    },
    {
      "cell_type": "markdown",
      "id": "b61ba92b",
      "metadata": {
        "id": "b61ba92b"
      },
      "source": [
        "### Explanation:\n",
        "- `condition`: A boolean expression (an expression that evaluates to True or False).\n",
        "- If the condition evaluates to True, the indented block of code underneath the if statement is executed.\n",
        "- If the condition evaluates to False, the block of code is skipped."
      ]
    },
    {
      "cell_type": "markdown",
      "id": "eb5d4360",
      "metadata": {
        "id": "eb5d4360"
      },
      "source": [
        "### Example 1:\n"
      ]
    },
    {
      "cell_type": "code",
      "execution_count": null,
      "id": "38ab3e68",
      "metadata": {
        "id": "38ab3e68",
        "outputId": "5e5924b7-38d9-432d-bcdb-898f8e101114"
      },
      "outputs": [
        {
          "name": "stdout",
          "output_type": "stream",
          "text": [
            "10 is a positive number.\n"
          ]
        }
      ],
      "source": [
        "number = 10\n",
        "\n",
        "if number > 0:\n",
        "    print(f\"{number} is a positive number.\")"
      ]
    },
    {
      "cell_type": "markdown",
      "id": "22717954",
      "metadata": {
        "id": "22717954"
      },
      "source": [
        "Output:\n",
        "\n",
        "```\n",
        "10 is a positive number.\n",
        "```"
      ]
    },
    {
      "cell_type": "markdown",
      "id": "8b24cd25",
      "metadata": {
        "id": "8b24cd25"
      },
      "source": [
        "### Example 2:\n"
      ]
    },
    {
      "cell_type": "code",
      "execution_count": null,
      "id": "4829428d",
      "metadata": {
        "id": "4829428d",
        "outputId": "f44e06fd-1c90-4514-ff50-a1103df29b39"
      },
      "outputs": [
        {
          "name": "stdout",
          "output_type": "stream",
          "text": [
            "Stop!\n"
          ]
        }
      ],
      "source": [
        "light = \"red\"\n",
        "\n",
        "if light == \"green\":\n",
        "    print(\"Go!\")\n",
        "elif light == \"yellow\":\n",
        "    print(\"Slow down!\")\n",
        "else:\n",
        "    print(\"Stop!\")"
      ]
    },
    {
      "cell_type": "markdown",
      "id": "40c84de0",
      "metadata": {
        "id": "40c84de0"
      },
      "source": [
        "Output:\n",
        "\n",
        "```\n",
        "Stop!\n",
        "```"
      ]
    },
    {
      "cell_type": "markdown",
      "id": "4534515a",
      "metadata": {
        "id": "4534515a"
      },
      "source": [
        "## For Loops\n",
        "For loops allow you to iterate over a sequence (such as a list, tuple, string, or range) and execute a block of code for each item in the sequence. This is useful for performing repetitive tasks, like processing each item in a list or generating a sequence of numbers.\n",
        "\n",
        "### Syntax:\n",
        "```python\n",
        "for item in sequence:\n",
        "    # code to execute for each item\n",
        "```"
      ]
    },
    {
      "cell_type": "markdown",
      "id": "b12800d9",
      "metadata": {
        "id": "b12800d9"
      },
      "source": [
        "### Explanation:\n",
        "- `item`: A variable that takes the value of each element in the sequence, one by one.\n",
        "- `sequence`: A collection of elements (like a list, tuple, or string) over which the loop iterates.\n",
        "The loop continues until it has gone through all items in the sequence."
      ]
    },
    {
      "cell_type": "markdown",
      "id": "5a106e64",
      "metadata": {
        "id": "5a106e64"
      },
      "source": [
        "### Example 1: Iterating Over a List\n"
      ]
    },
    {
      "cell_type": "code",
      "execution_count": null,
      "id": "070744a5",
      "metadata": {
        "id": "070744a5",
        "outputId": "dc97ebfc-4d75-40e7-b101-7f741bb8508d"
      },
      "outputs": [
        {
          "name": "stdout",
          "output_type": "stream",
          "text": [
            "I like apple\n",
            "I like banana\n",
            "I like cherry\n"
          ]
        }
      ],
      "source": [
        "fruits = [\"apple\", \"banana\", \"cherry\"]\n",
        "\n",
        "for fruit in fruits:\n",
        "    print(f\"I like {fruit}\")"
      ]
    },
    {
      "cell_type": "markdown",
      "id": "d79f29cd",
      "metadata": {
        "id": "d79f29cd"
      },
      "source": [
        "Output:\n",
        "\n",
        "```\n",
        "I like apple\n",
        "I like banana\n",
        "I like cherry\n",
        "```"
      ]
    },
    {
      "cell_type": "markdown",
      "id": "80eba9c9",
      "metadata": {
        "id": "80eba9c9"
      },
      "source": [
        "### Example 2: Using `range()` to Generate a Sequence of Numbers\n"
      ]
    },
    {
      "cell_type": "code",
      "execution_count": null,
      "id": "3b8f4b8d",
      "metadata": {
        "id": "3b8f4b8d",
        "outputId": "55afdcc7-6c9b-4b06-ca52-094c148ec8ff"
      },
      "outputs": [
        {
          "name": "stdout",
          "output_type": "stream",
          "text": [
            "Number: 1\n",
            "Number: 2\n",
            "Number: 3\n",
            "Number: 4\n",
            "Number: 5\n"
          ]
        }
      ],
      "source": [
        "for i in range(1, 6):\n",
        "    print(f\"Number: {i}\")"
      ]
    },
    {
      "cell_type": "markdown",
      "id": "ddaad538",
      "metadata": {
        "id": "ddaad538"
      },
      "source": [
        "Output:\n",
        "\n",
        "```\n",
        "Number: 1\n",
        "Number: 2\n",
        "Number: 3\n",
        "Number: 4\n",
        "Number: 5\n",
        "```"
      ]
    },
    {
      "cell_type": "markdown",
      "id": "c43f897e",
      "metadata": {
        "id": "c43f897e"
      },
      "source": [
        "## While Loops\n",
        "While loops allow you to repeat a block of code as long as a specified condition is true. This is useful for situations where you don't know beforehand how many times you need to repeat an action, but you do know the condition under which you want to keep repeating.\n",
        "\n",
        "### Syntax:\n",
        "```python\n",
        "while condition:\n",
        "    # code to execute while condition is true\n",
        "```"
      ]
    },
    {
      "cell_type": "markdown",
      "id": "9c8cddcc",
      "metadata": {
        "id": "9c8cddcc"
      },
      "source": [
        "### Explanation:\n",
        "- `condition`: A boolean expression that is checked before each iteration of the loop.\n",
        "- If the condition evaluates to True, the loop continues to execute the block of code.\n",
        "- If the condition evaluates to False, the loop stops."
      ]
    },
    {
      "cell_type": "markdown",
      "id": "033ec8fa",
      "metadata": {
        "id": "033ec8fa"
      },
      "source": [
        "### Example 1: Counting Down\n"
      ]
    },
    {
      "cell_type": "code",
      "execution_count": null,
      "id": "4c185a46",
      "metadata": {
        "id": "4c185a46",
        "outputId": "e6ad0943-e383-404c-8c2c-b5c1a55a0a6a"
      },
      "outputs": [
        {
          "name": "stdout",
          "output_type": "stream",
          "text": [
            "Counting down: 5\n",
            "Counting down: 4\n",
            "Counting down: 3\n",
            "Counting down: 2\n",
            "Counting down: 1\n"
          ]
        }
      ],
      "source": [
        "count = 5\n",
        "\n",
        "while count > 0:\n",
        "    print(f\"Counting down: {count}\")\n",
        "    count -= 1"
      ]
    },
    {
      "cell_type": "markdown",
      "id": "01b7d9fe",
      "metadata": {
        "id": "01b7d9fe"
      },
      "source": [
        "Output:\n",
        "\n",
        "```\n",
        "Counting down: 5\n",
        "Counting down: 4\n",
        "Counting down: 3\n",
        "Counting down: 2\n",
        "Counting down: 1\n",
        "```"
      ]
    },
    {
      "cell_type": "markdown",
      "id": "412f2b75",
      "metadata": {
        "id": "412f2b75"
      },
      "source": [
        "### Example 2: Validating User Input\n"
      ]
    },
    {
      "cell_type": "code",
      "execution_count": null,
      "id": "57b0afd8",
      "metadata": {
        "id": "57b0afd8",
        "outputId": "de448f68-2141-4bf4-da67-ecdbef37c1dc"
      },
      "outputs": [
        {
          "name": "stdout",
          "output_type": "stream",
          "text": [
            "Continuing the program...\n"
          ]
        }
      ],
      "source": [
        "user_input = \"\"\n",
        "\n",
        "while user_input.lower() != \"yes\":\n",
        "    user_input = input(\"Do you want to stop? (yes/no): \")\n",
        "    print(\"Continuing the program...\")\n",
        "\n",
        "print(\"Finishing the program.\")"
      ]
    },
    {
      "cell_type": "markdown",
      "id": "1a0a041b",
      "metadata": {
        "id": "1a0a041b"
      },
      "source": [
        "Output (Example):\n",
        "\n",
        "```\n",
        "Do you want to stop? (yes/no): no\n",
        "Continuing the program...\n",
        "Do you want to stop? (yes/no): yes\n",
        "Finishing the program.\n",
        "```"
      ]
    },
    {
      "cell_type": "markdown",
      "id": "86938d9d",
      "metadata": {
        "id": "86938d9d"
      },
      "source": [
        "# Real-Life Example: Analyzing and Processing Simple Datasets\n",
        "Now, let's apply what we have learned so far to a real-life scenario — let's analyze a simple dataset of weather temperatures.\n",
        "\n",
        "We'll use a dataset containing a list of temperatures from the past week, fetched from the Weather API, and analyze it using for loops and if statements. This example will help you understand how to work with real data and identify patterns that could be useful in various data science applications."
      ]
    },
    {
      "cell_type": "markdown",
      "id": "865dd99e",
      "metadata": {
        "id": "865dd99e"
      },
      "source": [
        "## Prerequisites\n",
        "1. **Python 3.x installed**: Make sure you have Python 3.x installed on your system.\n",
        "2. **Install the `requests` library**: You can install it using pip if you haven't already:\n",
        "\n",
        "```python\n",
        "!pip install requests\n",
        "```\n",
        "3. **Create an account on OpenWeather**: Sign up and get your API key (https://docs.openweather.co.uk/api)\n",
        "\n",
        "_Note: We'll discuss functions, libraries, modules, the `requests` library, and using APIs in future posts. For now, we'll combine them to gather some real data._"
      ]
    },
    {
      "cell_type": "code",
      "execution_count": null,
      "id": "d82f2036",
      "metadata": {
        "id": "d82f2036",
        "outputId": "2de5d4ab-8dab-4e76-aae7-7e842db48150"
      },
      "outputs": [
        {
          "name": "stdout",
          "output_type": "stream",
          "text": [
            "Requirement already satisfied: requests in c:\\users\\ricar\\appdata\\local\\programs\\python\\python312\\lib\\site-packages (2.31.0)\n",
            "Requirement already satisfied: charset-normalizer<4,>=2 in c:\\users\\ricar\\appdata\\local\\programs\\python\\python312\\lib\\site-packages (from requests) (3.3.2)\n",
            "Requirement already satisfied: idna<4,>=2.5 in c:\\users\\ricar\\appdata\\local\\programs\\python\\python312\\lib\\site-packages (from requests) (3.6)\n",
            "Requirement already satisfied: urllib3<3,>=1.21.1 in c:\\users\\ricar\\appdata\\local\\programs\\python\\python312\\lib\\site-packages (from requests) (2.2.1)\n",
            "Requirement already satisfied: certifi>=2017.4.17 in c:\\users\\ricar\\appdata\\local\\programs\\python\\python312\\lib\\site-packages (from requests) (2024.2.2)\n"
          ]
        }
      ],
      "source": [
        "!pip install requests"
      ]
    },
    {
      "cell_type": "markdown",
      "id": "ee9070a0",
      "metadata": {
        "id": "ee9070a0"
      },
      "source": [
        "## Step 1: Importing the Necessary Libraries\n",
        "\n",
        "First, we need to import the necessary libraries. The `requests` library will allow us to make HTTP requests to the Weather API, and `datetime` and `timedelta` from the `datetime` module will help us manipulate dates to fetch historical data."
      ]
    },
    {
      "cell_type": "code",
      "execution_count": null,
      "id": "a2006fce",
      "metadata": {
        "id": "a2006fce"
      },
      "outputs": [],
      "source": [
        "import requests\n",
        "from datetime import datetime, timedelta"
      ]
    },
    {
      "cell_type": "markdown",
      "id": "277efbb0",
      "metadata": {
        "id": "277efbb0"
      },
      "source": [
        "## Step 2: Setting Up the API Endpoint and Parameters\n",
        "Next, we'll set up the API endpoint and parameters, including your API key, the base URL, and the coordinates (latitude and longitude) of the location you're interested in. We'll use Monterrey, Mexico, for this example."
      ]
    },
    {
      "cell_type": "code",
      "execution_count": null,
      "id": "69b6b912",
      "metadata": {
        "id": "69b6b912"
      },
      "outputs": [],
      "source": [
        "api_key = \"YOUR_API_KEY\"\n",
        "base_url = \"https://api.openweathermap.org/data/3.0/onecall/day_summary\"\n",
        "latitude = 25.6866\n",
        "longitude = -100.3161"
      ]
    },
    {
      "cell_type": "markdown",
      "id": "c9ebf13e",
      "metadata": {
        "id": "c9ebf13e"
      },
      "source": [
        "## Step 3: Defining a Function to Fetch Historical Temperatures\n",
        "We'll create a function to fetch historical temperature data for a specific date. This function will construct the API request URL, make the request, and process the response."
      ]
    },
    {
      "cell_type": "code",
      "execution_count": null,
      "id": "71bc999c",
      "metadata": {
        "id": "71bc999c"
      },
      "outputs": [],
      "source": [
        "def fetch_historical_temperature(lat, lon, date, api_key):\n",
        "    # Construct the API request URL\n",
        "    complete_url = f\"{base_url}?lat={lat}&lon={lon}&date={date}&appid={api_key}\"\n",
        "    # Fetch the data\n",
        "    response = requests.get(complete_url)\n",
        "    data = response.json()\n",
        "    # Handle the response\n",
        "    if 'temperature' in data:\n",
        "        temperature = data['temperature']['max'] - 273.15  # Convert from Kelvin to Celsius\n",
        "        return temperature\n",
        "    else:\n",
        "        print(f\"No data found for date: {date}\")\n",
        "        return None"
      ]
    },
    {
      "cell_type": "markdown",
      "id": "b4bec24f",
      "metadata": {
        "id": "b4bec24f"
      },
      "source": [
        "## Step 4: Fetching Temperature Data for the Last 7 Days\n",
        "Now, let's fetch the temperature data for the last 7 days. We'll loop through the previous 7 days, call our `fetch_historical_temperature` function for each day, and store the results in a list."
      ]
    },
    {
      "cell_type": "code",
      "execution_count": null,
      "id": "9def0882",
      "metadata": {
        "id": "9def0882"
      },
      "outputs": [],
      "source": [
        "temperatures = []\n",
        "for i in range(7):\n",
        "    # Get the date for 'i' days ago\n",
        "    date = (datetime.now() - timedelta(days=i)).strftime('%Y-%m-%d')\n",
        "    temp = fetch_historical_temperature(latitude, longitude, date, api_key)\n",
        "    if temp is not None:\n",
        "        temperatures.append(temp)"
      ]
    },
    {
      "cell_type": "code",
      "execution_count": null,
      "id": "4e594b3f",
      "metadata": {
        "id": "4e594b3f",
        "outputId": "c5492580-0a30-468d-a4db-63a1fb5e59d9"
      },
      "outputs": [
        {
          "name": "stdout",
          "output_type": "stream",
          "text": [
            "The max temperature in Monterrey on 2024-08-16 was 34.4 °C\n",
            "The max temperature in Monterrey on 2024-08-15 was 32.54 °C\n",
            "The max temperature in Monterrey on 2024-08-14 was 36.05 °C\n",
            "The max temperature in Monterrey on 2024-08-13 was 35.49 °C\n",
            "The max temperature in Monterrey on 2024-08-12 was 36.6 °C\n",
            "The max temperature in Monterrey on 2024-08-11 was 34.38 °C\n",
            "The max temperature in Monterrey on 2024-08-10 was 34.93 °C\n"
          ]
        }
      ],
      "source": [
        "i = 0\n",
        "for temperature in temperatures:\n",
        "    date = (datetime.now() - timedelta(days=i)).strftime('%Y-%m-%d')\n",
        "    temperature = round(temperature,2)\n",
        "    print(f'The max temperature in Monterrey on {date} was {temperature} °C')\n",
        "    i += 1"
      ]
    },
    {
      "cell_type": "markdown",
      "id": "8305794c",
      "metadata": {
        "id": "8305794c"
      },
      "source": [
        "## Step 5: Classifying the Temperatures\n",
        "With the temperature data gathered, we can now classify the days into categories based on the temperature: cold, mild, or hot."
      ]
    },
    {
      "cell_type": "code",
      "execution_count": null,
      "id": "f27183c4",
      "metadata": {
        "id": "f27183c4"
      },
      "outputs": [],
      "source": [
        "cold_days = 0\n",
        "mild_days = 0\n",
        "hot_days = 0\n",
        "\n",
        "for temp in temperatures:\n",
        "    if temp < 15:\n",
        "        cold_days += 1\n",
        "    elif 15 <= temp < 25:\n",
        "        mild_days += 1\n",
        "    else:\n",
        "        hot_days += 1"
      ]
    },
    {
      "cell_type": "markdown",
      "id": "708c07a4",
      "metadata": {
        "id": "708c07a4"
      },
      "source": [
        "## Step 6: Outputting the Classification Results\n",
        "Finally, let's print the results to see how many days were cold, mild, or hot."
      ]
    },
    {
      "cell_type": "code",
      "execution_count": null,
      "id": "6d96f53f",
      "metadata": {
        "id": "6d96f53f",
        "outputId": "43c9628c-3f56-4c65-f7ba-1deaef187900"
      },
      "outputs": [
        {
          "name": "stdout",
          "output_type": "stream",
          "text": [
            "Number of cold days (<15°C): 0\n",
            "Number of mild days (15°C - 25°C): 0\n",
            "Number of hot days (>25°C): 7\n"
          ]
        }
      ],
      "source": [
        "print(f\"Number of cold days (<15°C): {cold_days}\")\n",
        "print(f\"Number of mild days (15°C - 25°C): {mild_days}\")\n",
        "print(f\"Number of hot days (>25°C): {hot_days}\")"
      ]
    },
    {
      "cell_type": "markdown",
      "id": "773ea058",
      "metadata": {
        "id": "773ea058"
      },
      "source": [
        "# Conclusion\n",
        "In this post, we delved into one of the most foundational aspects of programming in Python. By understanding the use of if statements, for loops, and while loops, you've equipped yourself with essential tools that allow you to create dynamic, responsive, and intelligent programs.\n"
      ]
    }
  ],
  "metadata": {
    "kernelspec": {
      "display_name": "Python 3",
      "language": "python",
      "name": "python3"
    },
    "language_info": {
      "codemirror_mode": {
        "name": "ipython",
        "version": 3
      },
      "file_extension": ".py",
      "mimetype": "text/x-python",
      "name": "python",
      "nbconvert_exporter": "python",
      "pygments_lexer": "ipython3",
      "version": "3.12.2"
    },
    "colab": {
      "provenance": [],
      "include_colab_link": true
    }
  },
  "nbformat": 4,
  "nbformat_minor": 5
}