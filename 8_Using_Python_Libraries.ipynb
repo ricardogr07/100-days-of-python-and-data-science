{
 "cells": [
  {
   "cell_type": "markdown",
   "id": "a8f337b3",
   "metadata": {},
   "source": [
    "# Day 8 - Using Python Libraries Effectively"
   ]
  },
  {
   "cell_type": "markdown",
   "id": "a3a6af50",
   "metadata": {},
   "source": [
    "## Why Are Python Libraries Important?\n",
    "Python's power and flexibility largely stem from its wide range of available libraries. These libraries enable you to use pre-built functions and tools to speed up your development process across various domains, including data analysis, web development, and machine learning. Effective use of these libraries is essential for any Python programmer looking to expedite their workflow."
   ]
  },
  {
   "cell_type": "markdown",
   "id": "11e66653",
   "metadata": {},
   "source": [
    "## Installing and Using Third-Party Libraries\n",
    "Python libraries are collections of pre-written code that you can include in your projects, providing functionalities from simple mathematical operations to complex machine learning algorithms.\n",
    "\n",
    "**Installing Libraries with pip:**\n",
    "Python's package installer, pip, is the standard method for installing libraries:\n",
    "```bash\n",
    "pip install library_name\n",
    "```\n",
    "\n",
    "**Importing and Using Libraries:**\n",
    "Once installed, you can import a library into your Python script and use its functions and classes:\n",
    "```python\n",
    "import library_name\n",
    "```"
   ]
  },
  {
   "cell_type": "code",
   "execution_count": null,
   "id": "5681cef9",
   "metadata": {},
   "outputs": [],
   "source": [
    "import requests\n",
    "\n",
    "# Example of making a GET request using the requests library\n",
    "url = 'https://jsonplaceholder.typicode.com/posts/1'\n",
    "response = requests.get(url)\n",
    "data = response.json()\n",
    "print('Post Data:')\n",
    "print(data)"
   ]
  },
  {
   "cell_type": "markdown",
   "id": "6efb3612",
   "metadata": {},
   "source": [
    "## Real-Life Example: Analyzing Data with the requests Library\n",
    "Let's take a step further and analyze some real-world data using the requests library. We'll fetch weather data from the OpenWeatherMap API and perform some basic analysis.\n",
    "\n",
    "**Set Up:**\n",
    "Install the requests library if you haven't already:\n",
    "\n"
   ]
  },
  {
   "cell_type": "code",
   "execution_count": null,
   "id": "3c303c42",
   "metadata": {},
   "outputs": [],
   "source": [
    "!pip install requests"
   ]
  },
  {
   "cell_type": "markdown",
   "id": "60b80cd6",
   "metadata": {},
   "source": [
    "**Fetching Data:**\n",
    "Use the OpenWeatherMap API to get weather data for a specific location:"
   ]
  },
  {
   "cell_type": "code",
   "execution_count": null,
   "id": "d9e0bc3d",
   "metadata": {},
   "outputs": [],
   "source": [
    "\n",
    "import requests\n",
    "\n",
    "api_key = 'YOUR_API_KEY'\n",
    "base_url = 'http://api.openweathermap.org/data/2.5/weather'\n",
    "city = 'Monterrey'\n",
    "complete_url = f'{base_url}?q={city}&appid={api_key}'\n",
    "\n",
    "response = requests.get(complete_url)\n",
    "data = response.json()\n",
    "\n",
    "if data['cod'] == 200:\n",
    "    main = data['main']\n",
    "    temperature = main['temp'] - 273.15  # Convert from Kelvin to Celsius\n",
    "    weather = data['weather'][0]['description']\n",
    "    print(f'Weather in {city}:')\n",
    "    print(f'Temperature: {temperature:.2f}')\n",
    "    print(f'Description: {weather.capitalize()}')\n",
    "else:\n",
    "    print('City not found.')"
   ]
  }
 ],
 "metadata": {
  "language_info": {
   "name": "python"
  }
 },
 "nbformat": 4,
 "nbformat_minor": 5
}
