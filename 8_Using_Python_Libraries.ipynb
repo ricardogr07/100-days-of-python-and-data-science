{
 "cells": [
  {
   "cell_type": "markdown",
   "metadata": {},
   "source": [
    "# Day 8 - Leveraging Python Libraries and Managing Them with `pip`\n",
    "\n",
    "In today’s post, we explore Python’s extensive ecosystem of libraries and learn how to manage them using Python’s package installer, `pip`. Libraries are crucial for streamlining your work, making tasks simpler, and extending Python’s basic functionality. By the end of this post, you'll have a solid understanding of Python’s third-party libraries, how to install them, and how to keep them up-to-date.\n",
    "\n",
    "We'll also walk through a practical example using the lesser-known `httpx` library, which is an alternative to the popular `requests` library."
   ]
  },
  {
   "cell_type": "markdown",
   "metadata": {},
   "source": [
    "## Why Are Python Libraries Important?\n",
    "\n",
    "One of the key reasons Python is so popular is its massive collection of libraries. These libraries contain pre-written code, allowing developers to avoid building functionality from scratch. Whether you’re doing data analysis, web development, machine learning, or network programming, Python libraries help speed up development and reduce bugs by reusing tested code.\n",
    "\n",
    "Some of the popular libraries include:\n",
    "- **NumPy** for numerical computations\n",
    "- **Pandas** for data manipulation\n",
    "- **Matplotlib** for data visualization\n",
    "- **Django** for web development\n",
    "- **TensorFlow** for machine learning\n",
    "\n",
    "By leveraging these libraries, you can focus on building the logic of your application instead of reinventing the wheel."
   ]
  },
  {
   "cell_type": "markdown",
   "metadata": {},
   "source": [
    "## What is `pip`?\n",
    "\n",
    "`pip` is the standard package manager for Python. It allows you to install, update, and remove Python packages from the Python Package Index (PyPI) or other repositories. Understanding how to use `pip` is essential for managing your project's dependencies and ensuring you have the right tools for the job.\n",
    "\n",
    "Here are some useful `pip` commands:"
   ]
  },
  {
   "cell_type": "markdown",
   "metadata": {},
   "source": [
    "### Basic `pip` Commands\n",
    "\n",
    "#### 1. Installing Libraries\n",
    "To install a library, use the following command:\n",
    "\n",
    "```bash\n",
    "pip install library_name\n",
    "```\n",
    "\n",
    "Example: To install the `httpx` library, you would run:\n",
    "\n",
    "```bash\n",
    "pip install httpx\n",
    "```"
   ]
  },
  {
   "cell_type": "markdown",
   "metadata": {},
   "source": [
    "#### 2. Installing Specific Versions\n",
    "You may want to install a specific version of a library if newer versions introduce changes that are incompatible with your project:\n",
    "\n",
    "```bash\n",
    "pip install library_name==1.2.3\n",
    "```\n",
    "\n",
    "Example: To install version 0.21.0 of `httpx`, you’d run:\n",
    "\n",
    "```bash\n",
    "pip install httpx==0.21.0\n",
    "```"
   ]
  },
  {
   "cell_type": "markdown",
   "metadata": {},
   "source": [
    "#### 3. Upgrading a Library\n",
    "To update an installed library to its latest version, use:\n",
    "\n",
    "```bash\n",
    "pip install --upgrade library_name\n",
    "```"
   ]
  },
  {
   "cell_type": "markdown",
   "metadata": {},
   "source": [
    "#### 4. Listing Installed Libraries\n",
    "To see a list of all installed libraries and their versions, use:\n",
    "\n",
    "```bash\n",
    "pip list\n",
    "```"
   ]
  },
  {
   "cell_type": "markdown",
   "metadata": {},
   "source": [
    "#### 5. Uninstalling a Library\n",
    "If you no longer need a library or want to remove a library that’s causing conflicts, use:\n",
    "\n",
    "```bash\n",
    "pip uninstall library_name\n",
    "```"
   ]
  },
  {
   "cell_type": "markdown",
   "metadata": {},
   "source": [
    "#### 6. Installing from a Requirements File\n",
    "A common way to share a Python project is by listing its dependencies in a `requirements.txt` file. You can then install all the required libraries by running:\n",
    "\n",
    "```bash\n",
    "pip install -r requirements.txt\n",
    "```"
   ]
  },
  {
   "cell_type": "markdown",
   "metadata": {},
   "source": [
    "## Managing Environments\n",
    "\n",
    "It’s important to manage dependencies in isolated environments to avoid conflicts between different projects. Tools like `virtualenv` or `conda` can create these isolated environments where you can install and manage libraries independently of your global Python setup.\n",
    "\n",
    "To use `virtualenv` to create an environment, follow these steps:\n",
    "\n",
    "1. Install `virtualenv`:\n",
    "   ```bash\n",
    "   pip install virtualenv\n",
    "   ```\n",
    "\n",
    "2. Create a new virtual environment:\n",
    "   ```bash\n",
    "   virtualenv venv\n",
    "   ```\n",
    "\n",
    "3. Activate the environment:\n",
    "   - On macOS/Linux:\n",
    "     ```bash\n",
    "     source venv/bin/activate\n",
    "     ```\n",
    "   - On Windows:\n",
    "     ```bash\n",
    "     .\\venv\\Scripts\\activate\n",
    "     ```\n",
    "\n",
    "4. Deactivate the environment when done:\n",
    "   ```bash\n",
    "   deactivate\n",
    "   ```"
   ]
  },
  {
   "cell_type": "markdown",
   "metadata": {},
   "source": [
    "## Real-Life Example: Using the `httpx` Library\n",
    "\n",
    "Now that we’ve covered the basics of Python libraries and `pip`, let's dive into a practical example of using a lesser-known library: `httpx`. This library is an alternative to `requests` for making HTTP requests and is especially useful because it supports both synchronous and asynchronous programming.\n",
    "\n",
    "### Step 1: Install the `httpx` Library\n",
    "\n",
    "First, install `httpx` by running:\n",
    "\n",
    "```bash\n",
    "pip install httpx\n",
    "```"
   ]
  },
  {
   "cell_type": "markdown",
   "metadata": {},
   "source": [
    "### Step 2: Fetching Data from an API Using `httpx`\n",
    "\n",
    "Let’s fetch data from a simple API using `httpx`. We’ll get a random quote from the [Quotable API](https://quotable.io/)."
   ]
  },
  {
   "cell_type": "markdown",
   "metadata": {},
   "source": [
    "### Step 3: Writing the Python Script"
   ]
  },
  {
   "cell_type": "code",
   "execution_count": 1,
   "metadata": {},
   "outputs": [
    {
     "name": "stdout",
     "output_type": "stream",
     "text": [
      "Quote: Whoever is happy will make others happy, too.\n",
      "Author: Mark Twain\n"
     ]
    }
   ],
   "source": [
    "import httpx\n",
    "\n",
    "# Define the API endpoint\n",
    "url = \"https://api.quotable.io/random\"\n",
    "\n",
    "# Send a GET request using httpx\n",
    "response = httpx.get(url)\n",
    "\n",
    "# Parse the JSON response\n",
    "data = response.json()\n",
    "\n",
    "# Print the random quote and its author\n",
    "print(f\"Quote: {data['content']}\")\n",
    "print(f\"Author: {data['author']}\")"
   ]
  },
  {
   "cell_type": "markdown",
   "metadata": {},
   "source": [
    "#### Explanation:\n",
    "\n",
    "- **Library:** We use `httpx` to send a GET request to the Quotable API.\n",
    "- **URL:** The Quotable API endpoint `https://api.quotable.io/random` returns a random quote each time we send a request.\n",
    "- **Response Handling:** After sending the request, we parse the JSON response and extract the quote and author.\n",
    "- **Output:** The quote and author are printed to the console.\n",
    "\n",
    "This simple example shows how easy it is to interact with web APIs using Python’s third-party libraries. The `httpx` library handles all the complexity behind the scenes, allowing us to focus on what matters most—working with the data."
   ]
  },
  {
   "cell_type": "markdown",
   "metadata": {},
   "source": [
    "## Conclusion\n",
    "\n",
    "Python’s rich ecosystem of libraries is one of the main reasons it’s so widely used in fields like data science, machine learning, and web development. Mastering how to use and manage these libraries with `pip` is an essential skill for any Python developer.\n",
    "\n",
    "Today, we covered the basics of managing libraries using `pip` and explored how to use the `httpx` library to interact with web APIs. The more comfortable you become with installing, updating, and removing libraries, the more efficiently you’ll be able to work on complex projects.\n",
    "\n",
    "Be sure to explore other libraries that can help in your specific field of interest. Join us tomorrow as we continue to expand our Python toolkit and explore more exciting libraries and concepts."
   ]
  }
 ],
 "metadata": {
  "kernelspec": {
   "display_name": "Python 3",
   "language": "python",
   "name": "python3"
  },
  "language_info": {
   "codemirror_mode": {
    "name": "ipython",
    "version": 3
   },
   "file_extension": ".py",
   "mimetype": "text/x-python",
   "name": "python",
   "nbconvert_exporter": "python",
   "pygments_lexer": "ipython3",
   "version": "3.12.2"
  }
 },
 "nbformat": 4,
 "nbformat_minor": 5
}
