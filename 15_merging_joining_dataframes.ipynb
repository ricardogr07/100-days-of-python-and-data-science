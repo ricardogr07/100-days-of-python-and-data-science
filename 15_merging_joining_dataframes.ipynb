{
 "cells": [
  {
   "cell_type": "markdown",
   "id": "68c74a2a",
   "metadata": {},
   "source": [
    "# Day 15 - Merging and Joining DataFrames"
   ]
  },
  {
   "cell_type": "markdown",
   "id": "d6f8f4c0",
   "metadata": {},
   "source": [
    "## Why Merging and Joining DataFrames is Important\n",
    "In data science, it's common to encounter data spread across multiple sources or files. For example, you might have customer information in one dataset and transaction records in another. Combining these datasets enables you to gain a complete view of your data, allowing for more in-depth analysis.\n",
    "\n",
    "Pandas provides tools for merging and joining DataFrames. These operations are useful for creating a unified dataset, allowing you to reveal insights that may not be apparent when the data is siloed. Whether you're performing business analysis or building machine learning models, merging datasets is an essential skill."
   ]
  },
  {
   "cell_type": "markdown",
   "id": "db0d66de",
   "metadata": {},
   "source": [
    "## Types of Joins in SQL used in Pandas\n",
    "Before we dive into examples, let's quickly recap the types of joins you can perform in SQL and how they compare to Pandas.\n",
    "\n",
    "Joins are a way to combine two DataFrames based on a common column (or index). Depending on the type of join, you may include all rows from both DataFrames or only those that have matching values in the join key(s). We use `merge` in the DataFrame to perform these operations.\n",
    "\n",
    "Here are the four main types of joins:\n",
    "- **Inner Join**: Returns only the rows where there is a match in both DataFrames.\n",
    "- **Outer Join**: Returns all rows from both DataFrames, filling in NaN where there are no matches.\n",
    "- **Left Join**: Returns all rows from the left DataFrame and the matching rows from the right. If no match is found, the result will contain NaN values for the right DataFrame columns.\n",
    "- **Right Join**: Returns all rows from the right DataFrame and the matching rows from the left. If no match is found, the result will contain NaN values for the left DataFrame columns."
   ]
  },
  {
   "cell_type": "markdown",
   "id": "90b320b2",
   "metadata": {},
   "source": [
    "### 1. Inner Join:\n",
    "An inner join returns only the rows where there are matching values in both DataFrames."
   ]
  },
  {
   "cell_type": "code",
   "execution_count": null,
   "id": "1c4010c6",
   "metadata": {},
   "outputs": [],
   "source": [
    "import pandas as pd\n",
    "\n",
    "# Example DataFrames\n",
    "df1 = pd.DataFrame({\n",
    "    'CustomerID': [1, 2, 3, 4],\n",
    "    'Name': ['Alice', 'Bob', 'Charlie', 'David']\n",
    "})\n",
    "\n",
    "df2 = pd.DataFrame({\n",
    "    'CustomerID': [1, 2, 5],\n",
    "    'Purchase': ['Laptop', 'Tablet', 'Phone']\n",
    "})\n",
    "\n",
    "# Inner Join\n",
    "inner_join = pd.merge(df1, df2, on='CustomerID', how='inner')\n",
    "print(\"Inner Join Result:\")\n",
    "print(inner_join)"
   ]
  },
  {
   "cell_type": "markdown",
   "id": "c7c55cb2",
   "metadata": {},
   "source": [
    "### 2. Outer Join:\n",
    "An outer join returns all rows from both DataFrames. Where there are no matches, NaN is inserted."
   ]
  },
  {
   "cell_type": "code",
   "execution_count": null,
   "id": "b7c5f9ad",
   "metadata": {},
   "outputs": [],
   "source": [
    "# Outer Join\n",
    "outer_join = pd.merge(df1, df2, on='CustomerID', how='outer')\n",
    "print(\"\\nOuter Join Result:\")\n",
    "print(outer_join)"
   ]
  },
  {
   "cell_type": "markdown",
   "id": "bc3653b4",
   "metadata": {},
   "source": [
    "### 3. Left Join:\n",
    "A left join returns all rows from the left DataFrame and the matching rows from the right DataFrame. Non-matching rows from the right are filled with NaN."
   ]
  },
  {
   "cell_type": "code",
   "execution_count": null,
   "id": "999bb802",
   "metadata": {},
   "outputs": [],
   "source": [
    "# Left Join\n",
    "left_join = pd.merge(df1, df2, on='CustomerID', how='left')\n",
    "print(\"\\nLeft Join Result:\")\n",
    "print(left_join)"
   ]
  },
  {
   "cell_type": "markdown",
   "id": "45db3df3",
   "metadata": {},
   "source": [
    "### 4. Right Join:\n",
    "A right join returns all rows from the right DataFrame and the matching rows from the left DataFrame. Non-matching rows from the left are filled with NaN."
   ]
  },
  {
   "cell_type": "code",
   "execution_count": null,
   "id": "be85a9b8",
   "metadata": {},
   "outputs": [],
   "source": [
    "# Right Join\n",
    "right_join = pd.merge(df1, df2, on='CustomerID', how='right')\n",
    "print(\"\\nRight Join Result:\")\n",
    "print(right_join)"
   ]
  },
  {
   "cell_type": "markdown",
   "id": "b5b7dd90",
   "metadata": {},
   "source": [
    "### Key Takeaways:\n",
    "- **Inner Join**: Best when you only need rows where there is a match between both DataFrames.\n",
    "- **Outer Join**: Useful for preserving all rows from both DataFrames, even if some data is missing.\n",
    "- **Left Join**: Ideal when you want to keep all rows from the left DataFrame, even if there are no matches in the right DataFrame.\n",
    "- **Right Join**: Similar to the left join, but prioritizes keeping all rows from the right DataFrame."
   ]
  },
  {
   "cell_type": "markdown",
   "id": "fcd35771",
   "metadata": {},
   "source": [
    "## Example: Combining Multiple DataFrames\n",
    "Pandas offers two main methods for combining DataFrames: `.merge()` and `.join()`. Both are useful depending on the structure of your data and how you want to align the datasets."
   ]
  },
  {
   "cell_type": "markdown",
   "id": "1e9860e3",
   "metadata": {},
   "source": [
    "### Merging DataFrames with `.merge()`\n",
    "The `.merge()` function allows you to combine two DataFrames based on one or more key columns, similar to SQL joins."
   ]
  },
  {
   "cell_type": "code",
   "execution_count": null,
   "id": "d8976fa0",
   "metadata": {},
   "outputs": [],
   "source": [
    "# Example DataFrames\n",
    "customers = pd.DataFrame({\n",
    "    'CustomerID': [1, 2, 3, 4],\n",
    "    'Name': ['Alice', 'Bob', 'Charlie', 'David']\n",
    "})\n",
    "\n",
    "transactions = pd.DataFrame({\n",
    "    'TransactionID': [101, 102, 103, 104],\n",
    "    'CustomerID': [1, 2, 2, 4],\n",
    "    'Amount': [250, 150, 200, 300]\n",
    "})\n",
    "\n",
    "# Merging on 'CustomerID'\n",
    "merged_df = pd.merge(customers, transactions, on='CustomerID')\n",
    "print(\"Merged DataFrame:\")\n",
    "print(merged_df)"
   ]
  },
  {
   "cell_type": "markdown",
   "id": "53c8094f",
   "metadata": {},
   "source": [
    "### Joining DataFrames with `.join()`\n",
    "The `.join()` method is used to combine DataFrames based on their index, making it useful when the DataFrames share the same index or when you want to perform index-based joins."
   ]
  },
  {
   "cell_type": "code",
   "execution_count": null,
   "id": "5c6d4b9d",
   "metadata": {},
   "outputs": [],
   "source": [
    "# Setting 'CustomerID' as the index\n",
    "customers.set_index('CustomerID', inplace=True)\n",
    "transactions.set_index('CustomerID', inplace=True)\n",
    "\n",
    "# Joining the DataFrames\n",
    "joined_df = customers.join(transactions)\n",
    "print(\"\\nJoined DataFrame:\")\n",
    "print(joined_df)"
   ]
  },
  {
   "cell_type": "markdown",
   "id": "df353e7e",
   "metadata": {},
   "source": [
    "## Use Case: Merging Customer Data with Transaction Records\n",
    "Let's apply these concepts to a real-world scenario. Imagine you're working with customer data and transaction records stored in two CSV files. We want to merge these files to create a unified dataset, allowing for a more comprehensive analysis."
   ]
  },
  {
   "cell_type": "markdown",
   "id": "13af6d93",
   "metadata": {},
   "source": [
    "### Step 1: Loading the Datasets\n",
    "We have two datasets: one containing customer information and another with transaction data. We'll load these datasets into Pandas DataFrames."
   ]
  },
  {
   "cell_type": "code",
   "execution_count": null,
   "id": "71e39bc4",
   "metadata": {},
   "outputs": [],
   "source": [
    "# Loading the customer data\n",
    "customers_df = pd.read_csv('customers.csv')\n",
    "\n",
    "# Loading the transaction data\n",
    "transactions_df = pd.read_csv('transactions.csv')\n",
    "\n",
    "# Display the first few rows of each DataFrame\n",
    "print(\"Customers DataFrame:\")\n",
    "print(customers_df.head())\n",
    "\n",
    "print(\"\\nTransactions DataFrame:\")\n",
    "print(transactions_df.head())"
   ]
  },
  {
   "cell_type": "markdown",
   "id": "38c04a33",
   "metadata": {},
   "source": [
    "### Step 2: Merging the Datasets\n",
    "Next, we'll merge these DataFrames on the `CustomerID` column to combine customer information with transaction history."
   ]
  },
  {
   "cell_type": "code",
   "execution_count": null,
   "id": "6da227e2",
   "metadata": {},
   "outputs": [],
   "source": [
    "# Merging the DataFrames on 'CustomerID'\n",
    "merged_data = pd.merge(customers_df, transactions_df, on='CustomerID')\n",
    "\n",
    "# Display the merged DataFrame\n",
    "print(\"\\nMerged Customer and Transaction Data:\")\n",
    "print(merged_data.head())"
   ]
  },
  {
   "cell_type": "markdown",
   "id": "d4d96e79",
   "metadata": {},
   "source": [
    "### Step 3: Analyzing the Merged Data\n",
    "Now that we've combined the data, we can perform analyses such as calculating the total spending per customer or identifying the customers with the most transactions."
   ]
  },
  {
   "cell_type": "code",
   "execution_count": null,
   "id": "c9619b69",
   "metadata": {},
   "outputs": [],
   "source": [
    "# Calculating total spending per customer\n",
    "total_spending = merged_data.groupby('Name')['Amount'].sum().reset_index()\n",
    "\n",
    "print(\"\\nTotal Spending per Customer:\")\n",
    "print(total_spending)"
   ]
  }
 ],
 "metadata": {
  "kernelspec": {
   "display_name": "Python 3",
   "language": "python",
   "name": "python3"
  },
  "language_info": {
   "codemirror_mode": {
    "name": "ipython",
    "version": 3
   },
   "file_extension": ".py",
   "mimetype": "text/x-python",
   "name": "python",
   "nbconvert_exporter": "python",
   "version": "3.9.7"
  }
 },
 "nbformat": 4,
 "nbformat_minor": 5
}
