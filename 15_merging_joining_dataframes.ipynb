{
 "cells": [
  {
   "cell_type": "markdown",
   "id": "b33c4fd8",
   "metadata": {},
   "source": [
    "# Day 15 - Merging and Joining DataFrames"
   ]
  },
  {
   "cell_type": "markdown",
   "id": "87585786",
   "metadata": {},
   "source": [
    "\n",
    "### Why Merging and Joining DataFrames is Important\n",
    "\n",
    "In data science, combining datasets from different sources is a common task. Whether you're merging customer data with sales transactions or integrating data from multiple experiments, the ability to merge and join DataFrames efficiently is vital. These operations allow you to create a unified dataset that can be analyzed holistically, revealing insights that might not be apparent when the data is siloed.\n"
   ]
  },
  {
   "cell_type": "markdown",
   "id": "13243c6d",
   "metadata": {},
   "source": [
    "### Tutorial: Combining Multiple DataFrames"
   ]
  },
  {
   "cell_type": "code",
   "execution_count": null,
   "id": "adb89d82",
   "metadata": {},
   "outputs": [],
   "source": [
    "!pip install pandas"
   ]
  },
  {
   "cell_type": "markdown",
   "id": "3c367384",
   "metadata": {},
   "source": [
    "#### Merging DataFrames with `merge()`"
   ]
  },
  {
   "cell_type": "code",
   "execution_count": null,
   "id": "e472d896",
   "metadata": {},
   "outputs": [],
   "source": [
    "\n",
    "import pandas as pd\n",
    "\n",
    "# Example DataFrames\n",
    "customers = pd.DataFrame({\n",
    "    'CustomerID': [1, 2, 3, 4],\n",
    "    'Name': ['Alice', 'Bob', 'Charlie', 'David']\n",
    "})\n",
    "\n",
    "transactions = pd.DataFrame({\n",
    "    'TransactionID': [101, 102, 103, 104],\n",
    "    'CustomerID': [1, 2, 2, 4],\n",
    "    'Amount': [250, 150, 200, 300]\n",
    "})\n",
    "\n",
    "# Merging on 'CustomerID'\n",
    "merged_df = pd.merge(customers, transactions, on='CustomerID')\n",
    "\n",
    "print(\"Merged DataFrame:\")\n",
    "print(merged_df)\n"
   ]
  },
  {
   "cell_type": "markdown",
   "id": "484eb563",
   "metadata": {},
   "source": [
    "#### Joining DataFrames with `join()`"
   ]
  },
  {
   "cell_type": "code",
   "execution_count": null,
   "id": "a9f51922",
   "metadata": {},
   "outputs": [],
   "source": [
    "\n",
    "# Setting 'CustomerID' as the index\n",
    "customers.set_index('CustomerID', inplace=True)\n",
    "transactions.set_index('CustomerID', inplace=True)\n",
    "\n",
    "# Joining the DataFrames\n",
    "joined_df = customers.join(transactions)\n",
    "\n",
    "print(\"\\nJoined DataFrame:\")\n",
    "print(joined_df)\n"
   ]
  },
  {
   "cell_type": "markdown",
   "id": "1d5466c0",
   "metadata": {},
   "source": [
    "\n",
    "### Use Case: Merging Customer Data with Transaction Records\n",
    "\n",
    "Let’s apply these concepts to a real-life scenario: merging customer data with transaction records. This is a common task in business analytics, where combining data from different departments (e.g., marketing and sales) provides a comprehensive view of customer behavior.\n"
   ]
  },
  {
   "cell_type": "markdown",
   "id": "c251c6c7",
   "metadata": {},
   "source": [
    "#### Step 1: Loading the Datasets"
   ]
  },
  {
   "cell_type": "code",
   "execution_count": null,
   "id": "14bb0483",
   "metadata": {},
   "outputs": [],
   "source": [
    "\n",
    "# Loading the customer data\n",
    "customers_df = pd.DataFrame({\n",
    "    'CustomerID': [1, 2, 3, 4],\n",
    "    'Name': ['Alice', 'Bob', 'Charlie', 'David'],\n",
    "    'Email': ['alice@example.com', 'bob@example.com', 'charlie@example.com', 'david@example.com']\n",
    "})\n",
    "\n",
    "# Loading the transaction data\n",
    "transactions_df = pd.DataFrame({\n",
    "    'TransactionID': [101, 102, 103, 104],\n",
    "    'CustomerID': [1, 2, 2, 4],\n",
    "    'Amount': [250, 150, 200, 300],\n",
    "    'Date': ['2023-08-01', '2023-08-02', '2023-08-03', '2023-08-04']\n",
    "})\n",
    "\n",
    "# Display the first few rows of each DataFrame\n",
    "print(\"Customers DataFrame:\")\n",
    "print(customers_df.head())\n",
    "\n",
    "print(\"\\nTransactions DataFrame:\")\n",
    "print(transactions_df.head())\n"
   ]
  },
  {
   "cell_type": "markdown",
   "id": "c2f3ad44",
   "metadata": {},
   "source": [
    "#### Step 2: Merging the Datasets"
   ]
  },
  {
   "cell_type": "code",
   "execution_count": null,
   "id": "f0d1411b",
   "metadata": {},
   "outputs": [],
   "source": [
    "\n",
    "# Merging the DataFrames on 'CustomerID'\n",
    "merged_data = pd.merge(customers_df, transactions_df, on='CustomerID')\n",
    "\n",
    "# Display the merged DataFrame\n",
    "print(\"\\nMerged Customer and Transaction Data:\")\n",
    "print(merged_data.head())\n"
   ]
  },
  {
   "cell_type": "markdown",
   "id": "78273ce9",
   "metadata": {},
   "source": [
    "#### Step 3: Analyzing the Merged Data"
   ]
  },
  {
   "cell_type": "code",
   "execution_count": null,
   "id": "ed166532",
   "metadata": {},
   "outputs": [],
   "source": [
    "\n",
    "# Calculating total spending per customer\n",
    "total_spending = merged_data.groupby('Name')['Amount'].sum().reset_index()\n",
    "\n",
    "print(\"\\nTotal Spending per Customer:\")\n",
    "print(total_spending)\n"
   ]
  }
 ],
 "metadata": {
  "kernelspec": {
   "display_name": "Python 3",
   "language": "python",
   "name": "python3"
  },
  "language_info": {
   "codemirror_mode": {
    "name": "ipython",
    "version": 3
   },
   "file_extension": ".py",
   "mimetype": "text/x-python",
   "name": "python",
   "nbconvert_exporter": "python",
   "pygments_lexer": "ipython3",
   "version": "3.12.2"
  }
 },
 "nbformat": 4,
 "nbformat_minor": 5
}
