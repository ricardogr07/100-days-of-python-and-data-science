{
 "cells": [
  {
   "cell_type": "markdown",
   "id": "b15cc4c7",
   "metadata": {},
   "source": [
    "# Day 6 - Object-Oriented Programming in Python: Classes and Objects"
   ]
  },
  {
   "cell_type": "markdown",
   "id": "8ea17e4e",
   "metadata": {},
   "source": [
    "## Why is Object-Oriented Programming Important?\n",
    "OOP allows you to structure your code by modeling real-world entities, making your programs easier to develop, maintain, and scale. Encapsulating data and behaviors in objects facilitates modular, reusable code components that integrate seamlessly across different parts of an application, enhancing maintainability and reducing error rates."
   ]
  },
  {
   "cell_type": "markdown",
   "id": "34ef8010",
   "metadata": {},
   "source": [
    "## Understanding Classes and Objects\n",
    "A class in Python serves as a blueprint for creating objects (instances), encapsulating data (attributes) and behaviors (methods) associated with that type of object."
   ]
  },
  {
   "cell_type": "code",
   "execution_count": 1,
   "id": "04060e57",
   "metadata": {},
   "outputs": [],
   "source": [
    "# Define a class named BankAccount\n",
    "class BankAccount:\n",
    "    # Constructor method with parameters for account holder's name and an optional balance\n",
    "    # The balance parameter has a default value of 0\n",
    "    def __init__(self, account_holder, balance=0):\n",
    "        # Attributes:\n",
    "        # self.account_holder stores the name of the account holder\n",
    "        # self.balance stores the balance of the account\n",
    "        self.account_holder = account_holder  # Assign the name of the account holder to the attribute\n",
    "        self.balance = balance  # Initialize the balance attribute with the provided balance"
   ]
  },
  {
   "cell_type": "markdown",
   "id": "8401258d",
   "metadata": {},
   "source": [
    "## Using the BankAccount Class\n",
    "Once the BankAccount class is defined, you can create objects (instances) from this class and use them to perform various banking operations such as depositing and withdrawing money. Here's how you can do it:"
   ]
  },
  {
   "cell_type": "code",
   "execution_count": 2,
   "id": "14d71eee",
   "metadata": {},
   "outputs": [
    {
     "name": "stdout",
     "output_type": "stream",
     "text": [
      "Initial balance for Alice: $100\n",
      "Balance after depositing $150: $250\n",
      "Balance after withdrawing $70: $180\n"
     ]
    }
   ],
   "source": [
    "# Create an instance of BankAccount for a new account holder\n",
    "alice_account = BankAccount('Alice', 100)  # Alice opens an account with an initial deposit of $100\n",
    "\n",
    "# Display the initial balance\n",
    "print(f'Initial balance for Alice: ${alice_account.balance}')\n",
    "\n",
    "# Perform a deposit operation\n",
    "deposit_amount = 150  # Amount Alice decides to deposit\n",
    "new_balance = alice_account.balance + deposit_amount  # Calculate new balance after deposit\n",
    "alice_account.balance = new_balance  # Update the balance attribute\n",
    "print(f'Balance after depositing ${deposit_amount}: ${alice_account.balance}')\n",
    "\n",
    "# Perform a withdrawal operation\n",
    "withdrawal_amount = 70  # Amount Alice decides to withdraw\n",
    "if withdrawal_amount > alice_account.balance:\n",
    "    print('Error: Insufficient funds.')\n",
    "else:\n",
    "    alice_account.balance -= withdrawal_amount  # Subtract the withdrawal amount from the balance\n",
    "    print(f'Balance after withdrawing ${withdrawal_amount}: ${alice_account.balance}')"
   ]
  },
  {
   "cell_type": "markdown",
   "id": "56a8041a",
   "metadata": {},
   "source": [
    "Let's enhance the BankAccount class so there are deposit and withdraw operations inside of it:"
   ]
  },
  {
   "cell_type": "code",
   "execution_count": 3,
   "id": "9cb8f7da",
   "metadata": {},
   "outputs": [],
   "source": [
    "class BankAccount:\n",
    "    def __init__(self, account_holder, balance=0):\n",
    "        self.account_holder = account_holder\n",
    "        self.balance = balance\n",
    "    def deposit(self, amount):\n",
    "        self.balance += amount\n",
    "        return f\"{amount} deposited. New balance: {self.balance}\"\n",
    "    def withdraw(self, amount):\n",
    "        if amount > self.balance:\n",
    "            return \"Insufficient funds.\"\n",
    "        self.balance -= amount\n",
    "        return f\"{amount} withdrawn. New balance: {self.balance}\"\n",
    "    def get_balance(self):\n",
    "        return f\"Account holder: {self.account_holder}, Balance: {self.balance}\""
   ]
  },
  {
   "cell_type": "code",
   "execution_count": 4,
   "id": "fac912bf",
   "metadata": {},
   "outputs": [
    {
     "name": "stdout",
     "output_type": "stream",
     "text": [
      "50 deposited. New balance: 150\n",
      "20 withdrawn. New balance: 130\n",
      "Account holder: Alice, Balance: 130\n"
     ]
    }
   ],
   "source": [
    "# Creating an instance of the BankAccount class\n",
    "account = BankAccount(\"Alice\", 100)\n",
    "# Depositing money\n",
    "print(account.deposit(50))  # Output: 50 deposited. New balance: 150\n",
    "# Withdrawing money\n",
    "print(account.withdraw(20))  # Output: 20 withdrawn. New balance: 130\n",
    "# Checking the balance\n",
    "print(account.get_balance())  # Output: Account holder: Alice, Balance: 130"
   ]
  },
  {
   "cell_type": "markdown",
   "id": "b9feba4a",
   "metadata": {},
   "source": [
    "## Real-Life Example: Modeling Data from an API Response\n",
    "Now let's apply OOP principles to a real-world scenario by modeling data from an API response. Suppose we receive weather data from an API, and we want to create a class to represent this data in a structured way."
   ]
  },
  {
   "cell_type": "code",
   "execution_count": 5,
   "id": "3edd8625",
   "metadata": {},
   "outputs": [
    {
     "name": "stdout",
     "output_type": "stream",
     "text": [
      "Requirement already satisfied: requests in c:\\users\\ricar\\appdata\\local\\programs\\python\\python312\\lib\\site-packages (2.31.0)\n",
      "Requirement already satisfied: charset-normalizer<4,>=2 in c:\\users\\ricar\\appdata\\local\\programs\\python\\python312\\lib\\site-packages (from requests) (3.3.2)\n",
      "Requirement already satisfied: idna<4,>=2.5 in c:\\users\\ricar\\appdata\\local\\programs\\python\\python312\\lib\\site-packages (from requests) (3.6)\n",
      "Requirement already satisfied: urllib3<3,>=1.21.1 in c:\\users\\ricar\\appdata\\local\\programs\\python\\python312\\lib\\site-packages (from requests) (2.2.1)\n",
      "Requirement already satisfied: certifi>=2017.4.17 in c:\\users\\ricar\\appdata\\local\\programs\\python\\python312\\lib\\site-packages (from requests) (2024.2.2)\n"
     ]
    }
   ],
   "source": [
    "!pip install requests"
   ]
  },
  {
   "cell_type": "code",
   "execution_count": 6,
   "id": "65f19df0",
   "metadata": {},
   "outputs": [],
   "source": [
    "import requests\n",
    "class WeatherData:\n",
    "    def __init__(self, city, api_key):\n",
    "        self.city = city\n",
    "        self.api_key = api_key\n",
    "        self.data = self.fetch_weather_data()\n",
    "    def fetch_weather_data(self):\n",
    "        base_url = 'http://api.openweathermap.org/data/2.5/weather'\n",
    "        complete_url = f'{base_url}?q={self.city}&appid={self.api_key}'\n",
    "        response = requests.get(complete_url)\n",
    "        return response.json()\n",
    "    def get_temperature(self):\n",
    "        temp_kelvin = self.data['main']['temp']\n",
    "        temp_celsius = temp_kelvin - 273.15  # Convert from Kelvin to Celsius\n",
    "        return f'Temperature in {self.city}: {temp_celsius:.2f} °C'\n",
    "    def get_weather_description(self):\n",
    "        return self.data['weather'][0]['description'].capitalize()"
   ]
  },
  {
   "cell_type": "code",
   "execution_count": 7,
   "id": "77f710d6",
   "metadata": {},
   "outputs": [
    {
     "name": "stdout",
     "output_type": "stream",
     "text": [
      "Temperature in Monterrey: 33.31 °C\n",
      "Scattered clouds\n"
     ]
    }
   ],
   "source": [
    "# Replace with your own API key\n",
    "api_key = \"YOUR_API_KEY\"\n",
    "# Creating an instance of the WeatherData class\n",
    "weather = WeatherData(\"Monterrey\", api_key)\n",
    "# Getting the temperature\n",
    "print(weather.get_temperature())\n",
    "# Getting the weather description\n",
    "print(weather.get_weather_description())"
   ]
  },
  {
   "cell_type": "markdown",
   "id": "56a2f928",
   "metadata": {},
   "source": [
    "## Conclusion:\n",
    "In today's post, we explored the fundamentals of Object-Oriented Programming in Python by creating a simple class for a bank account. We then applied these concepts to model data from an API response, demonstrating the power and flexibility of OOP in real-world applications.\n",
    "\n",
    "Object-Oriented Programming is a cornerstone of software development, and mastering it will greatly enhance your ability to write clean, maintainable, and scalable code. Be sure to check out our GitHub repository for the complete code and follow along with the exercises. Stay tuned for tomorrow's post, where we'll continue building our Data Science toolkit!"
   ]
  }
 ],
 "metadata": {
  "kernelspec": {
   "display_name": "Python 3",
   "language": "python",
   "name": "python3"
  },
  "language_info": {
   "codemirror_mode": {
    "name": "ipython",
    "version": 3
   },
   "file_extension": ".py",
   "mimetype": "text/x-python",
   "name": "python",
   "nbconvert_exporter": "python",
   "pygments_lexer": "ipython3",
   "version": "3.12.2"
  }
 },
 "nbformat": 4,
 "nbformat_minor": 5
}
