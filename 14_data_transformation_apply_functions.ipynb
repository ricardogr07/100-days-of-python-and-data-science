{
 "cells": [
  {
   "cell_type": "markdown",
   "id": "147d5c9f",
   "metadata": {},
   "source": [
    "\n",
    "## Day 14 - Data Transformation: Applying Functions\n",
    "\n",
    "### Why is Data Transformation Important?\n",
    "\n",
    "Data transformation is a critical step in the data analysis pipeline. It involves converting data into a format that is more suitable for analysis. Whether you're cleaning data, engineering features, or normalizing values, applying transformations is key to preparing your dataset for meaningful insights.\n"
   ]
  },
  {
   "cell_type": "markdown",
   "id": "8755b6af",
   "metadata": {},
   "source": [
    "\n",
    "### Example 1: Applying a Function to a Column\n",
    "\n",
    "Let's start with a simple example where we want to convert a column of temperatures from Celsius to Fahrenheit.\n"
   ]
  },
  {
   "cell_type": "code",
   "execution_count": null,
   "id": "ff461005",
   "metadata": {},
   "outputs": [],
   "source": [
    "!pip install pandas"
   ]
  },
  {
   "cell_type": "code",
   "execution_count": null,
   "id": "89f3feab",
   "metadata": {},
   "outputs": [],
   "source": [
    "\n",
    "import pandas as pd\n",
    "\n",
    "# Sample DataFrame with temperatures in Celsius\n",
    "data = {\n",
    "    'City': ['New York', 'Los Angeles', 'Chicago'],\n",
    "    'Temperature (C)': [25, 30, 20]\n",
    "}\n",
    "df = pd.DataFrame(data)\n",
    "\n",
    "# Function to convert Celsius to Fahrenheit\n",
    "def celsius_to_fahrenheit(celsius):\n",
    "    return (celsius * 9/5) + 32\n",
    "\n",
    "# Applying the function to the 'Temperature (C)' column\n",
    "df['Temperature (F)'] = df['Temperature (C)'].apply(celsius_to_fahrenheit)\n",
    "\n",
    "print(\"DataFrame after applying the conversion:\")\n",
    "print(df)\n"
   ]
  },
  {
   "cell_type": "markdown",
   "id": "83da526f",
   "metadata": {},
   "source": [
    "\n",
    "### Example 2: Applying a Lambda Function to a Column\n",
    "\n",
    "You can also apply lambda functions for quick, one-line operations. For example, let's double the values in a numeric column.\n"
   ]
  },
  {
   "cell_type": "code",
   "execution_count": null,
   "id": "8750035c",
   "metadata": {},
   "outputs": [],
   "source": [
    "\n",
    "# Doubling the temperatures in Celsius using a lambda function\n",
    "df['Temperature (C)'] = df['Temperature (C)'].apply(lambda x: x * 2)\n",
    "\n",
    "print(\"DataFrame after doubling the Celsius temperatures:\")\n",
    "print(df)\n"
   ]
  },
  {
   "cell_type": "markdown",
   "id": "405a9781",
   "metadata": {},
   "source": [
    "\n",
    "## Use Case: Normalizing a Dataset of Customer Reviews\n",
    "\n",
    "For this use case, we will normalize a dataset containing customer reviews. Normalization typically involves scaling data to a specific range (e.g., 0 to 1), which is particularly useful when dealing with features that have different units or ranges.\n"
   ]
  },
  {
   "cell_type": "markdown",
   "id": "ddf70244",
   "metadata": {},
   "source": [
    "\n",
    "### Step 1: Creating a Sample Dataset\n",
    "\n",
    "Let’s assume you have a dataset of customer reviews with ratings on a scale from 1 to 10. We will normalize these ratings to a 0–1 scale.\n"
   ]
  },
  {
   "cell_type": "code",
   "execution_count": null,
   "id": "4e5e8c4d",
   "metadata": {},
   "outputs": [],
   "source": [
    "\n",
    "import pandas as pd\n",
    "import numpy as np\n",
    "\n",
    "# Sample dataset of customer reviews\n",
    "data = {\n",
    "    'Customer ID': np.arange(1, 11),\n",
    "    'Review Score': [8, 6, 7, 9, 5, 10, 4, 8, 7, 6]\n",
    "}\n",
    "reviews_df = pd.DataFrame(data)\n",
    "\n",
    "print(\"Original dataset of customer reviews:\")\n",
    "print(reviews_df)\n"
   ]
  },
  {
   "cell_type": "markdown",
   "id": "0bdc8bca",
   "metadata": {},
   "source": [
    "\n",
    "### Step 2: Normalizing the Review Scores\n",
    "\n",
    "We will now apply a normalization function to scale the review scores between 0 and 1.\n"
   ]
  },
  {
   "cell_type": "code",
   "execution_count": null,
   "id": "7c510051",
   "metadata": {},
   "outputs": [],
   "source": [
    "\n",
    "# Function to normalize values to a 0-1 scale\n",
    "def normalize(x):\n",
    "    return (x - reviews_df['Review Score'].min()) / (reviews_df['Review Score'].max() - reviews_df['Review Score'].min())\n",
    "\n",
    "# Applying the normalization function to the 'Review Score' column\n",
    "reviews_df['Normalized Score'] = reviews_df['Review Score'].apply(normalize)\n",
    "\n",
    "print(\"\\nDataset after normalizing review scores:\")\n",
    "print(reviews_df)\n"
   ]
  },
  {
   "cell_type": "markdown",
   "id": "96662dcc",
   "metadata": {},
   "source": [
    "\n",
    "### Step 3: Analyzing the Results\n",
    "\n",
    "After normalization, all review scores will be scaled between 0 and 1, allowing for consistent comparisons and analysis.\n"
   ]
  },
  {
   "cell_type": "code",
   "execution_count": null,
   "id": "bc5bdde1",
   "metadata": {},
   "outputs": [],
   "source": [
    "\n",
    "print(\"\\nSummary statistics of the normalized scores:\")\n",
    "print(reviews_df['Normalized Score'].describe())\n"
   ]
  }
 ],
 "metadata": {
  "kernelspec": {
   "display_name": "Python 3",
   "language": "python",
   "name": "python3"
  },
  "language_info": {
   "codemirror_mode": {
    "name": "ipython",
    "version": 3
   },
   "file_extension": ".py",
   "mimetype": "text/x-python",
   "name": "python",
   "nbconvert_exporter": "python",
   "pygments_lexer": "ipython3",
   "version": "3.12.2"
  }
 },
 "nbformat": 4,
 "nbformat_minor": 5
}
