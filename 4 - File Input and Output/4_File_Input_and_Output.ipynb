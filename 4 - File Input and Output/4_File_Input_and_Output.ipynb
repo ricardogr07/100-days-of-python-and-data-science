{
 "cells": [
  {
   "cell_type": "markdown",
   "id": "b243c400",
   "metadata": {},
   "source": [
    "\n",
    "# Day 4 - File Input and Output in Python\n",
    "    "
   ]
  },
  {
   "cell_type": "markdown",
   "id": "3a549421",
   "metadata": {},
   "source": [
    "\n",
    "## Why is File I/O Important?\n",
    "\n",
    "File I/O is an integral part of programming because it allows you to:\n",
    "\n",
    "- Save data between program runs\n",
    "- Share data with other programs\n",
    "- Handle large datasets that might not fit into memory\n",
    "\n",
    "Being proficient in File I/O enables you to build more complex, data-driven applications.\n",
    "Real-world scenarios where file I/O is critical include:\n",
    "- Logging Data: Storing logs from applications for troubleshooting or analysis.\n",
    "- Configuration Management: Reading and writing configuration files that control how software behaves.\n",
    "- Data Analysis Pipelines: Handling large datasets efficiently by reading from and writing to files.\n",
    "    "
   ]
  },
  {
   "cell_type": "markdown",
   "id": "1a1c6f48",
   "metadata": {},
   "source": [
    "\n",
    "## Basic Theory: Understanding File I/O in Python\n",
    "\n",
    "Python provides built-in functions for working with files, allowing you to easily open, read, write, and close files. The most commonly used functions include:\n",
    "\n",
    "- `open()`\n",
    "- `read()`\n",
    "- `write()`\n",
    "- `close()`\n",
    "\n",
    "### Opening a File\n",
    "\n",
    "The `open()` function is used to open a file in various modes:\n",
    "- `'r'` – Read mode (default)\n",
    "- `'w'` – Write mode (overwrites the file)\n",
    "- `'a'` – Append mode (adds to the end of the file)\n",
    "- `'b'` – Binary mode (used for non-text files)\n",
    "\n",
    "### Closing a File\n",
    "\n",
    "It's important to close files after you use them to free up system resources. This is done using the `.close()` method or automatically with a `with` statement, which ensures the file is closed when the block of code is exited.\n",
    "Using the with statement is the best practice because it automatically handles file closure even if an exception occurs.\n",
    "    "
   ]
  },
  {
   "cell_type": "code",
   "execution_count": 1,
   "id": "3dd761f4",
   "metadata": {},
   "outputs": [
    {
     "name": "stdout",
     "output_type": "stream",
     "text": [
      "File Content:\n",
      "Hello, World!\n"
     ]
    }
   ],
   "source": [
    "\n",
    "# Example: Reading from a text file\n",
    "\n",
    "with open('example.txt', 'r') as file:\n",
    "    content = file.read()\n",
    "    print(\"File Content:\")\n",
    "    print(content)\n"
   ]
  },
  {
   "cell_type": "markdown",
   "id": "909d50de",
   "metadata": {},
   "source": [
    "\n",
    "Explanation:\n",
    "- `with open('example.txt', 'r') as file`: Opens the file `example.txt` in read mode.\n",
    "- `file.read()`: Reads the entire content of the file into a string.\n",
    "- **Automatic File Closure**: The file is automatically closed when the `with` block is exited.\n",
    "    "
   ]
  },
  {
   "cell_type": "code",
   "execution_count": 3,
   "id": "1936916f",
   "metadata": {},
   "outputs": [],
   "source": [
    "\n",
    "# Example: Writing to a text file\n",
    "\n",
    "with open('example.txt', 'w') as file:\n",
    "    file.write(\"Hello, World!\\n\")\n",
    "    file.write(\"This is a new line of text.\")\n",
    "    "
   ]
  },
  {
   "cell_type": "markdown",
   "id": "968cb240",
   "metadata": {},
   "source": [
    "\n",
    "Explanation:\n",
    "- `with open('example.txt', 'w') as file`: Opens the file `example.txt` in write mode.\n",
    "- `file.write()`: Writes the specified text to the file. If the file doesn't exist, it will be created; if it does exist, it will be overwritten.\n",
    "    "
   ]
  },
  {
   "cell_type": "code",
   "execution_count": 4,
   "id": "e1978d49",
   "metadata": {},
   "outputs": [
    {
     "name": "stdout",
     "output_type": "stream",
     "text": [
      "The file was not found.\n"
     ]
    }
   ],
   "source": [
    "\n",
    "# Example: Error Handling in File Operations\n",
    "\n",
    "try:\n",
    "    with open('nonexistent_file.txt', 'r') as file:\n",
    "        content = file.read()\n",
    "except FileNotFoundError:\n",
    "    print(\"The file was not found.\")\n",
    "    "
   ]
  },
  {
   "cell_type": "markdown",
   "id": "a502c3e5",
   "metadata": {},
   "source": [
    "\n",
    "This code ensures that your program doesn't crash if the file doesn't exist and instead prints a helpful message.\n",
    "    "
   ]
  },
  {
   "cell_type": "code",
   "execution_count": null,
   "id": "85a0b6bd",
   "metadata": {},
   "outputs": [],
   "source": [
    "\n",
    "# Example: Working with binary files\n",
    "\n",
    "with open('image.jpg', 'rb') as file:\n",
    "    binary_data = file.read()\n",
    "    "
   ]
  },
  {
   "cell_type": "markdown",
   "id": "c65a9abf",
   "metadata": {},
   "source": [
    "\n",
    "Working with binary files is common when dealing with image processing or compressed data.\n",
    "    "
   ]
  },
  {
   "cell_type": "markdown",
   "id": "ff840a1f",
   "metadata": {},
   "source": [
    "\n",
    "## Example: Processing a CSV File of Public Data\n",
    "\n",
    "We'll process a CSV file containing information about U.S. states and write processed data into a new CSV file.\n",
    "\n",
    "### Step 1: Reading a CSV File\n",
    "    "
   ]
  },
  {
   "cell_type": "code",
   "execution_count": 5,
   "id": "92ec46fc",
   "metadata": {},
   "outputs": [
    {
     "name": "stdout",
     "output_type": "stream",
     "text": [
      "Header: ['State', 'Abbreviation', 'Population']\n",
      "['Florida', 'FL', '21538187']\n",
      "['New York', 'NY', '20201249']\n",
      "['Pennsylvania', 'PA', '13002700']\n"
     ]
    }
   ],
   "source": [
    "\n",
    "import csv\n",
    "\n",
    "# Reading a CSV file\n",
    "with open('us_states.csv', 'r') as csvfile:\n",
    "    csvreader = csv.reader(csvfile)  # Create a CSV reader object\n",
    "    header = next(csvreader)  # Read the header row\n",
    "    print(\"Header:\", header)\n",
    "    \n",
    "    for row in csvreader:\n",
    "        print(row)  # Print each row of data\n",
    "    "
   ]
  },
  {
   "cell_type": "markdown",
   "id": "3ad71bcb",
   "metadata": {},
   "source": [
    "\n",
    "### Explanation:\n",
    "- **Opening the file**: The `open()` function opens the file `us_states.csv` in read mode (`'r'`).\n",
    "- **Creating the CSV reader object**: The `csv.reader()` function returns a reader object to iterate over the CSV file.\n",
    "- **Reading the header row**: The `next()` function reads the first line as the header row.\n",
    "- **Iterating through data rows**: The `for` loop processes the remaining rows.\n",
    "    "
   ]
  },
  {
   "cell_type": "code",
   "execution_count": 6,
   "id": "78d515fd",
   "metadata": {},
   "outputs": [],
   "source": [
    "\n",
    "# Writing to a CSV file\n",
    "with open('processed_states.csv', 'w', newline='') as csvfile:\n",
    "    csvwriter = csv.writer(csvfile)\n",
    "    csvwriter.writerow([\"State\", \"Abbreviation\", \"Population\"])\n",
    "    csvwriter.writerow([\"California\", \"CA\", \"39538223\"])\n",
    "    csvwriter.writerow([\"Texas\", \"TX\", \"29145505\"])\n",
    "    "
   ]
  },
  {
   "cell_type": "markdown",
   "id": "0e3abf06",
   "metadata": {},
   "source": [
    "\n",
    "### I/O with Pandas: Simplifying Data Processing\n",
    "\n",
    "While the `csv` module is great for basic file operations, Pandas offers a more powerful way to handle data in CSV files.\n",
    "\n",
    "### Step 1: Reading a CSV File with Pandas\n",
    "    "
   ]
  },
  {
   "cell_type": "code",
   "execution_count": 7,
   "id": "62d05d60",
   "metadata": {},
   "outputs": [
    {
     "name": "stdout",
     "output_type": "stream",
     "text": [
      "DataFrame Head:\n",
      "          State Abbreviation  Population\n",
      "0       Florida           FL    21538187\n",
      "1      New York           NY    20201249\n",
      "2  Pennsylvania           PA    13002700\n"
     ]
    }
   ],
   "source": [
    "\n",
    "import pandas as pd\n",
    "\n",
    "# Reading a CSV file into a DataFrame\n",
    "df = pd.read_csv('us_states.csv')\n",
    "print(\"DataFrame Head:\")\n",
    "print(df.head())\n",
    "    "
   ]
  },
  {
   "cell_type": "markdown",
   "id": "f4171864",
   "metadata": {},
   "source": [
    "\n",
    "### Step 2: Writing a CSV File with Pandas\n",
    "    "
   ]
  },
  {
   "cell_type": "code",
   "execution_count": 8,
   "id": "41f5911d",
   "metadata": {},
   "outputs": [],
   "source": [
    "\n",
    "# Writing the DataFrame to a new CSV file\n",
    "df.to_csv('processed_states_pandas.csv', index=False)\n",
    "    "
   ]
  },
  {
   "cell_type": "markdown",
   "id": "595fc284",
   "metadata": {},
   "source": [
    "\n",
    "### Step 3: Processing Data with Pandas\n",
    "\n",
    "Filtering states with a population over 10 million:\n",
    "    "
   ]
  },
  {
   "cell_type": "code",
   "execution_count": 9,
   "id": "d503c226",
   "metadata": {},
   "outputs": [
    {
     "name": "stdout",
     "output_type": "stream",
     "text": [
      "States with Population Over 10 Million:\n",
      "          State Abbreviation  Population\n",
      "0       Florida           FL    21538187\n",
      "1      New York           NY    20201249\n",
      "2  Pennsylvania           PA    13002700\n"
     ]
    }
   ],
   "source": [
    "\n",
    "# Filter states with population over 10 million\n",
    "high_pop_states = df[df['Population'] > 10000000]\n",
    "print(\"States with Population Over 10 Million:\")\n",
    "print(high_pop_states)\n",
    "    "
   ]
  }
 ],
 "metadata": {
  "kernelspec": {
   "display_name": "Python 3",
   "language": "python",
   "name": "python3"
  },
  "language_info": {
   "codemirror_mode": {
    "name": "ipython",
    "version": 3
   },
   "file_extension": ".py",
   "mimetype": "text/x-python",
   "name": "python",
   "nbconvert_exporter": "python",
   "pygments_lexer": "ipython3",
   "version": "3.12.2"
  }
 },
 "nbformat": 4,
 "nbformat_minor": 5
}
