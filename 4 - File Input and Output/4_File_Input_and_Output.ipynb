{
 "cells": [
  {
   "cell_type": "markdown",
   "id": "85464183",
   "metadata": {},
   "source": [
    "# Day 4 - File Input and Output in Python"
   ]
  },
  {
   "cell_type": "markdown",
   "id": "552d4b1c",
   "metadata": {},
   "source": [
    "## Introduction:\n",
    "Welcome to Day 4 of our 100-Day Data Science journey! Today, we'll dive into a really important skill in programming: File Input and Output (I/O). Whether you're storing data, reading configurations, or processing large datasets, understanding how to read from and write to files is crucial.\n",
    "In this post, we'll start with handling text files in Python. Then, we'll explore a practical example of processing a CSV file containing public data about U.S. states. We'll also briefly touch on different types of files (text, binary, CSV) to give you a broader perspective."
   ]
  },
  {
   "cell_type": "markdown",
   "id": "d198d17a",
   "metadata": {},
   "source": [
    "## Why is File I/O Important?\n",
    "File I/O is an integral part of programming because it allows you to persist data between program runs, share data with other programs, and handle large datasets that might not fit into memory simultaneously. Being proficient in File I/O enables you to build more complex, data-driven applications.\n",
    "Real-world scenarios where file I/O is critical include:\n",
    "- Logging Data: Storing logs from applications for troubleshooting or analysis.\n",
    "- Configuration Management: Reading and writing configuration files that control how software behaves.\n",
    "- Data Analysis Pipelines: Handling large datasets efficiently by reading from and writing to files."
   ]
  },
  {
   "cell_type": "markdown",
   "id": "e94ff46e",
   "metadata": {},
   "source": [
    "## Basic Theory: Understanding File I/O in Python\n",
    "Python provides built-in functions for working with files, allowing you to easily open, read, write, and close files. The most commonly used functions include `open()`, `read()`, `write()`, and `close()`.\n",
    "\n",
    "### Opening a File\n",
    "The `open()` function is used to open a file in various modes:\n",
    "- 'r' - Read mode (default)\n",
    "- 'w' - Write mode (overwrites the file)\n",
    "- 'a' - Append mode (adds to the end of the file)\n",
    "- 'b' - Binary mode (used for non-text files)\n",
    "\n",
    "Understanding these file modes is crucial as they determine how a file is accessed:\n",
    "- Read Mode ('r'): Opens the file for reading. If the file doesn't exist, an error is raised.\n",
    "- Write Mode ('w'): Opens the file for writing. If the file exists, it will be overwritten; if not, a new file will be created.\n",
    "- Append Mode ('a'): Opens the file for writing but appends data to the end instead of overwriting it.\n",
    "\n",
    "### Closing a File\n",
    "It's important to close files after you use them to free up system resources. This is done using the `close()` method or automatically with a `with` statement, which ensures that the file is closed when the block of code is exited."
   ]
  },
  {
   "cell_type": "markdown",
   "id": "3d99ffd5",
   "metadata": {},
   "source": [
    "## Tutorial: Reading and Writing Text Files\n",
    "In this tutorial, we'll create a simple Python script to read from and write to a text file. This basic operation is the foundation for working with files in Python."
   ]
  },
  {
   "cell_type": "code",
   "execution_count": 2,
   "id": "6f179d97",
   "metadata": {},
   "outputs": [
    {
     "name": "stdout",
     "output_type": "stream",
     "text": [
      "File Content:\n",
      "Hello World!\n"
     ]
    }
   ],
   "source": [
    "# Reading from a text file\n",
    "with open('example.txt', 'r') as file:\n",
    "    content = file.read()\n",
    "    print('File Content:')\n",
    "    print(content)"
   ]
  },
  {
   "cell_type": "code",
   "execution_count": 3,
   "id": "5c8ce0c7",
   "metadata": {},
   "outputs": [],
   "source": [
    "# Writing to a text file\n",
    "with open('example.txt', 'w') as file:\n",
    "    file.write('Hello, World!\\n')\n",
    "    file.write('This is a new line of text.')"
   ]
  },
  {
   "cell_type": "markdown",
   "id": "e649d021",
   "metadata": {},
   "source": [
    "## Real-Life Example: Processing a CSV File of Public Data\n",
    "CSV (Comma-Separated Values) files are widely used for storing tabular data, and Python's csv module makes it easy to work with them. In this real-life example, we'll process a CSV file containing information about U.S. states."
   ]
  },
  {
   "cell_type": "code",
   "execution_count": 5,
   "id": "94c410d4",
   "metadata": {},
   "outputs": [
    {
     "name": "stdout",
     "output_type": "stream",
     "text": [
      "Header: ['State', 'Abbreviation', 'Population']\n",
      "['Florida', 'FL', '21538187']\n",
      "['New York', 'NY', '20201249']\n",
      "['Pennsylvania', 'PA', '13002700']\n"
     ]
    }
   ],
   "source": [
    "import csv\n",
    "# Reading a CSV file\n",
    "with open('us_states.csv', 'r') as csvfile:\n",
    "    csvreader = csv.reader(csvfile)\n",
    "    header = next(csvreader)  # Read the header row\n",
    "    print('Header:', header)\n",
    "    for row in csvreader:\n",
    "        print(row)\n",
    "# Writing to a CSV file\n",
    "with open('processed_states.csv', 'w', newline='') as csvfile:\n",
    "    csvwriter = csv.writer(csvfile)\n",
    "    csvwriter.writerow(['State', 'Abbreviation', 'Population'])\n",
    "    csvwriter.writerow(['California', 'CA', '39538223'])\n",
    "    csvwriter.writerow(['Texas', 'TX', '29145505'])"
   ]
  },
  {
   "cell_type": "markdown",
   "id": "b9fff8ba",
   "metadata": {},
   "source": [
    "## I/O with Pandas: Simplifying Data Processing\n",
    "While the csv module is great for basic file operations, Pandas offers a much more powerful and flexible way to handle data in CSV files (and other formats like Excel, JSON, etc.).\n"
   ]
  },
  {
   "cell_type": "code",
   "execution_count": 6,
   "id": "243bc39c",
   "metadata": {},
   "outputs": [
    {
     "name": "stdout",
     "output_type": "stream",
     "text": [
      "Requirement already satisfied: pandas in c:\\users\\ricar\\appdata\\local\\programs\\python\\python312\\lib\\site-packages (2.2.0)\n",
      "Requirement already satisfied: numpy<2,>=1.26.0 in c:\\users\\ricar\\appdata\\local\\programs\\python\\python312\\lib\\site-packages (from pandas) (1.26.4)\n",
      "Requirement already satisfied: python-dateutil>=2.8.2 in c:\\users\\ricar\\appdata\\local\\programs\\python\\python312\\lib\\site-packages (from pandas) (2.8.2)\n",
      "Requirement already satisfied: pytz>=2020.1 in c:\\users\\ricar\\appdata\\local\\programs\\python\\python312\\lib\\site-packages (from pandas) (2024.1)\n",
      "Requirement already satisfied: tzdata>=2022.7 in c:\\users\\ricar\\appdata\\local\\programs\\python\\python312\\lib\\site-packages (from pandas) (2024.1)\n",
      "Requirement already satisfied: six>=1.5 in c:\\users\\ricar\\appdata\\local\\programs\\python\\python312\\lib\\site-packages (from python-dateutil>=2.8.2->pandas) (1.16.0)\n"
     ]
    }
   ],
   "source": [
    "!pip install pandas"
   ]
  },
  {
   "cell_type": "code",
   "execution_count": 7,
   "id": "a8e257de",
   "metadata": {},
   "outputs": [
    {
     "name": "stdout",
     "output_type": "stream",
     "text": [
      "DataFrame Head:\n",
      "          State Abbreviation  Population\n",
      "0       Florida           FL    21538187\n",
      "1      New York           NY    20201249\n",
      "2  Pennsylvania           PA    13002700\n"
     ]
    }
   ],
   "source": [
    "### Reading a CSV File with Pandas\n",
    "import pandas as pd\n",
    "# Reading a CSV file into a DataFrame\n",
    "df = pd.read_csv('us_states.csv')\n",
    "print('DataFrame Head:')\n",
    "print(df.head())\n"
   ]
  },
  {
   "cell_type": "code",
   "execution_count": 8,
   "id": "590a0376",
   "metadata": {},
   "outputs": [
    {
     "name": "stdout",
     "output_type": "stream",
     "text": [
      "States with Population Over 10 Million:\n",
      "          State Abbreviation  Population\n",
      "0       Florida           FL    21538187\n",
      "1      New York           NY    20201249\n",
      "2  Pennsylvania           PA    13002700\n"
     ]
    }
   ],
   "source": [
    "### Writing a CSV File with Pandas\n",
    "# Writing the DataFrame to a new CSV file\n",
    "df.to_csv('processed_states_pandas.csv', index=False)\n",
    "### Processing Data with Pandas\n",
    "\n",
    "# Filter states with population over 10 million\n",
    "high_pop_states = df[df['Population'] > 10000000]\n",
    "print('States with Population Over 10 Million:')\n",
    "print(high_pop_states)\n"
   ]
  },
  {
   "cell_type": "markdown",
   "id": "ec409e0b",
   "metadata": {},
   "source": [
    "## Conclusion:\n",
    "In today's post, we explored the essentials of File I/O in Python. We started with basic operations like reading and writing text files and then applied these concepts to a real-life example of processing a CSV file containing public data.\n",
    "Understanding how to work with files is fundamental for any data-driven application. Make sure to practice these concepts, as they will be invaluable in your journey towards mastering Python and Data Science."
   ]
  }
 ],
 "metadata": {
  "kernelspec": {
   "display_name": "Python 3",
   "language": "python",
   "name": "python3"
  },
  "language_info": {
   "codemirror_mode": {
    "name": "ipython",
    "version": 3
   },
   "file_extension": ".py",
   "mimetype": "text/x-python",
   "name": "python",
   "nbconvert_exporter": "python",
   "pygments_lexer": "ipython3",
   "version": "3.12.2"
  }
 },
 "nbformat": 4,
 "nbformat_minor": 5
}
