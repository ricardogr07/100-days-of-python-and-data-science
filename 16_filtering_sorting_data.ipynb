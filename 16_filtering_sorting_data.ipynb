{
 "cells": [
  {
   "cell_type": "markdown",
   "id": "1acf7f9d",
   "metadata": {},
   "source": [
    "# Day 16 - Filtering and Sorting Data"
   ]
  },
  {
   "cell_type": "markdown",
   "id": "c0602a9c",
   "metadata": {},
   "source": [
    "\n",
    "## Why is Filtering and Sorting Important?\n",
    "When working with real-world datasets, not all the data may be relevant to your analysis. Filtering helps you focus on the specific subset of data that matters most to your analysis. Sorting, on the other hand, allows you to organize your data to identify trends, compare entries, or prepare it for further analysis.\n"
   ]
  },
  {
   "cell_type": "markdown",
   "id": "33da3884",
   "metadata": {},
   "source": [
    "\n",
    "## Tutorial: Querying DataFrames Based on Conditions\n",
    "Pandas makes it easy to filter and sort data in a DataFrame using boolean indexing, the `query()` method, and the `sort_values()` function. Let's explore these techniques with practical examples.\n"
   ]
  },
  {
   "cell_type": "markdown",
   "id": "cff5b0bf",
   "metadata": {},
   "source": [
    "### Filtering Data"
   ]
  },
  {
   "cell_type": "code",
   "execution_count": 1,
   "id": "d678a046",
   "metadata": {},
   "outputs": [
    {
     "name": "stdout",
     "output_type": "stream",
     "text": [
      "Requirement already satisfied: pandas in c:\\users\\ricar\\appdata\\local\\programs\\python\\python312\\lib\\site-packages (2.2.0)\n",
      "Requirement already satisfied: numpy<2,>=1.26.0 in c:\\users\\ricar\\appdata\\local\\programs\\python\\python312\\lib\\site-packages (from pandas) (1.26.4)\n",
      "Requirement already satisfied: python-dateutil>=2.8.2 in c:\\users\\ricar\\appdata\\local\\programs\\python\\python312\\lib\\site-packages (from pandas) (2.8.2)\n",
      "Requirement already satisfied: pytz>=2020.1 in c:\\users\\ricar\\appdata\\local\\programs\\python\\python312\\lib\\site-packages (from pandas) (2024.1)\n",
      "Requirement already satisfied: tzdata>=2022.7 in c:\\users\\ricar\\appdata\\local\\programs\\python\\python312\\lib\\site-packages (from pandas) (2024.1)\n",
      "Requirement already satisfied: six>=1.5 in c:\\users\\ricar\\appdata\\local\\programs\\python\\python312\\lib\\site-packages (from python-dateutil>=2.8.2->pandas) (1.16.0)\n"
     ]
    }
   ],
   "source": [
    "!pip install pandas"
   ]
  },
  {
   "cell_type": "code",
   "execution_count": 3,
   "id": "c0ae5b28",
   "metadata": {},
   "outputs": [
    {
     "name": "stdout",
     "output_type": "stream",
     "text": [
      "Filtered DataFrame (Age > 25):\n",
      "    Name  Age       Job\n",
      "1    Bob   30    Doctor\n",
      "3  David   35  Engineer\n",
      "4    Eve   28    Doctor\n"
     ]
    }
   ],
   "source": [
    "import pandas as pd\n",
    "# Example DataFrame\n",
    "data = {\n",
    "    'Name': ['Alice', 'Bob', 'Charlie', 'David', 'Eve'],\n",
    "    'Age': [24, 30, 22, 35, 28],\n",
    "    'Job': ['Engineer', 'Doctor', 'Artist', 'Engineer', 'Doctor']\n",
    "}\n",
    "df = pd.DataFrame(data)\n",
    "\n",
    "# Filtering for rows where Age is greater than 25\n",
    "filtered_df = df[df['Age'] > 25]\n",
    "print(\"Filtered DataFrame (Age > 25):\")\n",
    "print(filtered_df)\n"
   ]
  },
  {
   "cell_type": "markdown",
   "id": "921c0bdd",
   "metadata": {},
   "source": [
    "### Using `query()` for Filtering"
   ]
  },
  {
   "cell_type": "code",
   "execution_count": 4,
   "id": "4f2e9c83",
   "metadata": {},
   "outputs": [
    {
     "name": "stdout",
     "output_type": "stream",
     "text": [
      "\n",
      "Filtered DataFrame (Age > 25 and Job is Doctor):\n",
      "  Name  Age     Job\n",
      "1  Bob   30  Doctor\n",
      "4  Eve   28  Doctor\n"
     ]
    }
   ],
   "source": [
    "\n",
    "# Using the query() method\n",
    "filtered_df = df.query('Age > 25 and Job == \"Doctor\"')\n",
    "print(\"\\nFiltered DataFrame (Age > 25 and Job is Doctor):\")\n",
    "print(filtered_df)\n"
   ]
  },
  {
   "cell_type": "code",
   "execution_count": 7,
   "id": "69b76780",
   "metadata": {},
   "outputs": [
    {
     "name": "stdout",
     "output_type": "stream",
     "text": [
      "\n",
      "Filtered DataFrame (Age > 25):\n",
      "    Name   Age       Job\n",
      "1    Bob  30.0    Doctor\n",
      "3  David  35.0  Engineer\n",
      "4    Eve  28.0    Doctor\n"
     ]
    }
   ],
   "source": [
    "filtered_df = df.where(df['Age']>25).dropna(how=\"any\")\n",
    "print(\"\\nFiltered DataFrame (Age > 25):\")\n",
    "print(filtered_df)"
   ]
  },
  {
   "cell_type": "markdown",
   "id": "709c6350",
   "metadata": {},
   "source": [
    "### Sorting Data"
   ]
  },
  {
   "cell_type": "code",
   "execution_count": 8,
   "id": "c92d013e",
   "metadata": {},
   "outputs": [
    {
     "name": "stdout",
     "output_type": "stream",
     "text": [
      "\n",
      "DataFrame sorted by Age (ascending):\n",
      "      Name  Age       Job\n",
      "2  Charlie   22    Artist\n",
      "0    Alice   24  Engineer\n",
      "4      Eve   28    Doctor\n",
      "1      Bob   30    Doctor\n",
      "3    David   35  Engineer\n",
      "\n",
      "DataFrame sorted by Job and then by Age (descending):\n",
      "      Name  Age       Job\n",
      "2  Charlie   22    Artist\n",
      "1      Bob   30    Doctor\n",
      "4      Eve   28    Doctor\n",
      "3    David   35  Engineer\n",
      "0    Alice   24  Engineer\n"
     ]
    }
   ],
   "source": [
    "\n",
    "# Sorting by Age in ascending order\n",
    "sorted_df = df.sort_values(by='Age')\n",
    "print(\"\\nDataFrame sorted by Age (ascending):\")\n",
    "print(sorted_df)\n",
    "\n",
    "# Sorting by Job and then by Age in descending order\n",
    "sorted_df = df.sort_values(by=['Job', 'Age'], ascending=[True, False])\n",
    "print(\"\\nDataFrame sorted by Job and then by Age (descending):\")\n",
    "print(sorted_df)\n"
   ]
  },
  {
   "cell_type": "markdown",
   "id": "b7025ab1",
   "metadata": {},
   "source": [
    "\n",
    "## Use Case: Filtering and Sorting ETF Data for Investment Decisions\n",
    "In this use case, we'll focus on analyzing various ETFs (Exchange-Traded Funds) related to the S&P 500 to help make informed investment decisions. We'll use the Yahoo Finance API to retrieve data on multiple ETFs, calculate key metrics, and sort the ETFs based on relevant financial metrics to aid in our analysis.\n"
   ]
  },
  {
   "cell_type": "markdown",
   "id": "2d8f7827",
   "metadata": {},
   "source": [
    "### Step 1: Downloading Data for Multiple ETFs"
   ]
  },
  {
   "cell_type": "code",
   "execution_count": 9,
   "id": "59db3bcf",
   "metadata": {},
   "outputs": [
    {
     "name": "stderr",
     "output_type": "stream",
     "text": [
      "[*********************100%%**********************]  1 of 1 completed\n",
      "[*********************100%%**********************]  1 of 1 completed\n",
      "[*********************100%%**********************]  1 of 1 completed\n",
      "[*********************100%%**********************]  1 of 1 completed\n",
      "[*********************100%%**********************]  1 of 1 completed\n",
      "[*********************100%%**********************]  1 of 1 completed\n",
      "[*********************100%%**********************]  1 of 1 completed\n",
      "[*********************100%%**********************]  1 of 1 completed\n",
      "[*********************100%%**********************]  1 of 1 completed\n",
      "[*********************100%%**********************]  1 of 1 completed\n"
     ]
    }
   ],
   "source": [
    "\n",
    "import yfinance as yf\n",
    "import pandas as pd\n",
    "\n",
    "# Define a list of ETF tickers related to the S&P 500\n",
    "etf_tickers = ['SPY', 'IVV', 'VOO', 'SPLG', 'SPYG', 'SPYD', 'SPYV', 'RSP', 'VXF', 'IJR']\n",
    "\n",
    "# Download historical stock data for these ETFs\n",
    "etf_data = {}\n",
    "for ticker in etf_tickers:\n",
    "    etf_data[ticker] = yf.download(ticker, start='2014-01-01', end='2024-08-19')\n"
   ]
  },
  {
   "cell_type": "markdown",
   "id": "fd1961f7",
   "metadata": {},
   "source": [
    "### Step 2: Calculating ROI Metrics"
   ]
  },
  {
   "cell_type": "code",
   "execution_count": 20,
   "id": "46840289",
   "metadata": {},
   "outputs": [
    {
     "name": "stderr",
     "output_type": "stream",
     "text": [
      "C:\\Users\\ricar\\AppData\\Local\\Temp\\ipykernel_33812\\2722589503.py:9: FutureWarning: Series.__getitem__ treating keys as positions is deprecated. In a future version, integer keys will always be treated as labels (consistent with DataFrame behavior). To access a value by position, use `ser.iloc[pos]`\n",
      "  ytd_roi = (data['Adj Close'][-1] / data['Adj Close'][0]) - 1\n",
      "C:\\Users\\ricar\\AppData\\Local\\Temp\\ipykernel_33812\\2722589503.py:10: FutureWarning: Series.__getitem__ treating keys as positions is deprecated. In a future version, integer keys will always be treated as labels (consistent with DataFrame behavior). To access a value by position, use `ser.iloc[pos]`\n",
      "  one_year_roi = (data['Adj Close'][-1] / data['Adj Close'][-252]) - 1\n",
      "C:\\Users\\ricar\\AppData\\Local\\Temp\\ipykernel_33812\\2722589503.py:11: FutureWarning: Series.__getitem__ treating keys as positions is deprecated. In a future version, integer keys will always be treated as labels (consistent with DataFrame behavior). To access a value by position, use `ser.iloc[pos]`\n",
      "  five_year_roi = (data['Adj Close'][-1] / data['Adj Close'][-1260]) - 1\n",
      "C:\\Users\\ricar\\AppData\\Local\\Temp\\ipykernel_33812\\2722589503.py:13: FutureWarning: Series.__getitem__ treating keys as positions is deprecated. In a future version, integer keys will always be treated as labels (consistent with DataFrame behavior). To access a value by position, use `ser.iloc[pos]`\n",
      "  ten_year_roi = (data['Adj Close'][-1] / data['Adj Close'][-2520]) - 1\n",
      "C:\\Users\\ricar\\AppData\\Local\\Temp\\ipykernel_33812\\2722589503.py:22: FutureWarning: The behavior of DataFrame concatenation with empty or all-NA entries is deprecated. In a future version, this will no longer exclude empty or all-NA columns when determining the result dtypes. To retain the old behavior, exclude the relevant entries before the concat operation.\n",
      "  roi_df = roi_df._append({\n",
      "C:\\Users\\ricar\\AppData\\Local\\Temp\\ipykernel_33812\\2722589503.py:9: FutureWarning: Series.__getitem__ treating keys as positions is deprecated. In a future version, integer keys will always be treated as labels (consistent with DataFrame behavior). To access a value by position, use `ser.iloc[pos]`\n",
      "  ytd_roi = (data['Adj Close'][-1] / data['Adj Close'][0]) - 1\n",
      "C:\\Users\\ricar\\AppData\\Local\\Temp\\ipykernel_33812\\2722589503.py:10: FutureWarning: Series.__getitem__ treating keys as positions is deprecated. In a future version, integer keys will always be treated as labels (consistent with DataFrame behavior). To access a value by position, use `ser.iloc[pos]`\n",
      "  one_year_roi = (data['Adj Close'][-1] / data['Adj Close'][-252]) - 1\n",
      "C:\\Users\\ricar\\AppData\\Local\\Temp\\ipykernel_33812\\2722589503.py:11: FutureWarning: Series.__getitem__ treating keys as positions is deprecated. In a future version, integer keys will always be treated as labels (consistent with DataFrame behavior). To access a value by position, use `ser.iloc[pos]`\n",
      "  five_year_roi = (data['Adj Close'][-1] / data['Adj Close'][-1260]) - 1\n",
      "C:\\Users\\ricar\\AppData\\Local\\Temp\\ipykernel_33812\\2722589503.py:13: FutureWarning: Series.__getitem__ treating keys as positions is deprecated. In a future version, integer keys will always be treated as labels (consistent with DataFrame behavior). To access a value by position, use `ser.iloc[pos]`\n",
      "  ten_year_roi = (data['Adj Close'][-1] / data['Adj Close'][-2520]) - 1\n",
      "C:\\Users\\ricar\\AppData\\Local\\Temp\\ipykernel_33812\\2722589503.py:9: FutureWarning: Series.__getitem__ treating keys as positions is deprecated. In a future version, integer keys will always be treated as labels (consistent with DataFrame behavior). To access a value by position, use `ser.iloc[pos]`\n",
      "  ytd_roi = (data['Adj Close'][-1] / data['Adj Close'][0]) - 1\n",
      "C:\\Users\\ricar\\AppData\\Local\\Temp\\ipykernel_33812\\2722589503.py:10: FutureWarning: Series.__getitem__ treating keys as positions is deprecated. In a future version, integer keys will always be treated as labels (consistent with DataFrame behavior). To access a value by position, use `ser.iloc[pos]`\n",
      "  one_year_roi = (data['Adj Close'][-1] / data['Adj Close'][-252]) - 1\n",
      "C:\\Users\\ricar\\AppData\\Local\\Temp\\ipykernel_33812\\2722589503.py:11: FutureWarning: Series.__getitem__ treating keys as positions is deprecated. In a future version, integer keys will always be treated as labels (consistent with DataFrame behavior). To access a value by position, use `ser.iloc[pos]`\n",
      "  five_year_roi = (data['Adj Close'][-1] / data['Adj Close'][-1260]) - 1\n",
      "C:\\Users\\ricar\\AppData\\Local\\Temp\\ipykernel_33812\\2722589503.py:13: FutureWarning: Series.__getitem__ treating keys as positions is deprecated. In a future version, integer keys will always be treated as labels (consistent with DataFrame behavior). To access a value by position, use `ser.iloc[pos]`\n",
      "  ten_year_roi = (data['Adj Close'][-1] / data['Adj Close'][-2520]) - 1\n",
      "C:\\Users\\ricar\\AppData\\Local\\Temp\\ipykernel_33812\\2722589503.py:9: FutureWarning: Series.__getitem__ treating keys as positions is deprecated. In a future version, integer keys will always be treated as labels (consistent with DataFrame behavior). To access a value by position, use `ser.iloc[pos]`\n",
      "  ytd_roi = (data['Adj Close'][-1] / data['Adj Close'][0]) - 1\n",
      "C:\\Users\\ricar\\AppData\\Local\\Temp\\ipykernel_33812\\2722589503.py:10: FutureWarning: Series.__getitem__ treating keys as positions is deprecated. In a future version, integer keys will always be treated as labels (consistent with DataFrame behavior). To access a value by position, use `ser.iloc[pos]`\n",
      "  one_year_roi = (data['Adj Close'][-1] / data['Adj Close'][-252]) - 1\n",
      "C:\\Users\\ricar\\AppData\\Local\\Temp\\ipykernel_33812\\2722589503.py:11: FutureWarning: Series.__getitem__ treating keys as positions is deprecated. In a future version, integer keys will always be treated as labels (consistent with DataFrame behavior). To access a value by position, use `ser.iloc[pos]`\n",
      "  five_year_roi = (data['Adj Close'][-1] / data['Adj Close'][-1260]) - 1\n",
      "C:\\Users\\ricar\\AppData\\Local\\Temp\\ipykernel_33812\\2722589503.py:13: FutureWarning: Series.__getitem__ treating keys as positions is deprecated. In a future version, integer keys will always be treated as labels (consistent with DataFrame behavior). To access a value by position, use `ser.iloc[pos]`\n",
      "  ten_year_roi = (data['Adj Close'][-1] / data['Adj Close'][-2520]) - 1\n",
      "C:\\Users\\ricar\\AppData\\Local\\Temp\\ipykernel_33812\\2722589503.py:9: FutureWarning: Series.__getitem__ treating keys as positions is deprecated. In a future version, integer keys will always be treated as labels (consistent with DataFrame behavior). To access a value by position, use `ser.iloc[pos]`\n",
      "  ytd_roi = (data['Adj Close'][-1] / data['Adj Close'][0]) - 1\n",
      "C:\\Users\\ricar\\AppData\\Local\\Temp\\ipykernel_33812\\2722589503.py:10: FutureWarning: Series.__getitem__ treating keys as positions is deprecated. In a future version, integer keys will always be treated as labels (consistent with DataFrame behavior). To access a value by position, use `ser.iloc[pos]`\n",
      "  one_year_roi = (data['Adj Close'][-1] / data['Adj Close'][-252]) - 1\n",
      "C:\\Users\\ricar\\AppData\\Local\\Temp\\ipykernel_33812\\2722589503.py:11: FutureWarning: Series.__getitem__ treating keys as positions is deprecated. In a future version, integer keys will always be treated as labels (consistent with DataFrame behavior). To access a value by position, use `ser.iloc[pos]`\n",
      "  five_year_roi = (data['Adj Close'][-1] / data['Adj Close'][-1260]) - 1\n",
      "C:\\Users\\ricar\\AppData\\Local\\Temp\\ipykernel_33812\\2722589503.py:13: FutureWarning: Series.__getitem__ treating keys as positions is deprecated. In a future version, integer keys will always be treated as labels (consistent with DataFrame behavior). To access a value by position, use `ser.iloc[pos]`\n",
      "  ten_year_roi = (data['Adj Close'][-1] / data['Adj Close'][-2520]) - 1\n",
      "C:\\Users\\ricar\\AppData\\Local\\Temp\\ipykernel_33812\\2722589503.py:9: FutureWarning: Series.__getitem__ treating keys as positions is deprecated. In a future version, integer keys will always be treated as labels (consistent with DataFrame behavior). To access a value by position, use `ser.iloc[pos]`\n",
      "  ytd_roi = (data['Adj Close'][-1] / data['Adj Close'][0]) - 1\n",
      "C:\\Users\\ricar\\AppData\\Local\\Temp\\ipykernel_33812\\2722589503.py:10: FutureWarning: Series.__getitem__ treating keys as positions is deprecated. In a future version, integer keys will always be treated as labels (consistent with DataFrame behavior). To access a value by position, use `ser.iloc[pos]`\n",
      "  one_year_roi = (data['Adj Close'][-1] / data['Adj Close'][-252]) - 1\n",
      "C:\\Users\\ricar\\AppData\\Local\\Temp\\ipykernel_33812\\2722589503.py:11: FutureWarning: Series.__getitem__ treating keys as positions is deprecated. In a future version, integer keys will always be treated as labels (consistent with DataFrame behavior). To access a value by position, use `ser.iloc[pos]`\n",
      "  five_year_roi = (data['Adj Close'][-1] / data['Adj Close'][-1260]) - 1\n",
      "C:\\Users\\ricar\\AppData\\Local\\Temp\\ipykernel_33812\\2722589503.py:22: FutureWarning: The behavior of DataFrame concatenation with empty or all-NA entries is deprecated. In a future version, this will no longer exclude empty or all-NA columns when determining the result dtypes. To retain the old behavior, exclude the relevant entries before the concat operation.\n",
      "  roi_df = roi_df._append({\n",
      "C:\\Users\\ricar\\AppData\\Local\\Temp\\ipykernel_33812\\2722589503.py:9: FutureWarning: Series.__getitem__ treating keys as positions is deprecated. In a future version, integer keys will always be treated as labels (consistent with DataFrame behavior). To access a value by position, use `ser.iloc[pos]`\n",
      "  ytd_roi = (data['Adj Close'][-1] / data['Adj Close'][0]) - 1\n",
      "C:\\Users\\ricar\\AppData\\Local\\Temp\\ipykernel_33812\\2722589503.py:10: FutureWarning: Series.__getitem__ treating keys as positions is deprecated. In a future version, integer keys will always be treated as labels (consistent with DataFrame behavior). To access a value by position, use `ser.iloc[pos]`\n",
      "  one_year_roi = (data['Adj Close'][-1] / data['Adj Close'][-252]) - 1\n",
      "C:\\Users\\ricar\\AppData\\Local\\Temp\\ipykernel_33812\\2722589503.py:11: FutureWarning: Series.__getitem__ treating keys as positions is deprecated. In a future version, integer keys will always be treated as labels (consistent with DataFrame behavior). To access a value by position, use `ser.iloc[pos]`\n",
      "  five_year_roi = (data['Adj Close'][-1] / data['Adj Close'][-1260]) - 1\n",
      "C:\\Users\\ricar\\AppData\\Local\\Temp\\ipykernel_33812\\2722589503.py:13: FutureWarning: Series.__getitem__ treating keys as positions is deprecated. In a future version, integer keys will always be treated as labels (consistent with DataFrame behavior). To access a value by position, use `ser.iloc[pos]`\n",
      "  ten_year_roi = (data['Adj Close'][-1] / data['Adj Close'][-2520]) - 1\n",
      "C:\\Users\\ricar\\AppData\\Local\\Temp\\ipykernel_33812\\2722589503.py:9: FutureWarning: Series.__getitem__ treating keys as positions is deprecated. In a future version, integer keys will always be treated as labels (consistent with DataFrame behavior). To access a value by position, use `ser.iloc[pos]`\n",
      "  ytd_roi = (data['Adj Close'][-1] / data['Adj Close'][0]) - 1\n",
      "C:\\Users\\ricar\\AppData\\Local\\Temp\\ipykernel_33812\\2722589503.py:10: FutureWarning: Series.__getitem__ treating keys as positions is deprecated. In a future version, integer keys will always be treated as labels (consistent with DataFrame behavior). To access a value by position, use `ser.iloc[pos]`\n",
      "  one_year_roi = (data['Adj Close'][-1] / data['Adj Close'][-252]) - 1\n",
      "C:\\Users\\ricar\\AppData\\Local\\Temp\\ipykernel_33812\\2722589503.py:11: FutureWarning: Series.__getitem__ treating keys as positions is deprecated. In a future version, integer keys will always be treated as labels (consistent with DataFrame behavior). To access a value by position, use `ser.iloc[pos]`\n",
      "  five_year_roi = (data['Adj Close'][-1] / data['Adj Close'][-1260]) - 1\n",
      "C:\\Users\\ricar\\AppData\\Local\\Temp\\ipykernel_33812\\2722589503.py:13: FutureWarning: Series.__getitem__ treating keys as positions is deprecated. In a future version, integer keys will always be treated as labels (consistent with DataFrame behavior). To access a value by position, use `ser.iloc[pos]`\n",
      "  ten_year_roi = (data['Adj Close'][-1] / data['Adj Close'][-2520]) - 1\n",
      "C:\\Users\\ricar\\AppData\\Local\\Temp\\ipykernel_33812\\2722589503.py:9: FutureWarning: Series.__getitem__ treating keys as positions is deprecated. In a future version, integer keys will always be treated as labels (consistent with DataFrame behavior). To access a value by position, use `ser.iloc[pos]`\n",
      "  ytd_roi = (data['Adj Close'][-1] / data['Adj Close'][0]) - 1\n",
      "C:\\Users\\ricar\\AppData\\Local\\Temp\\ipykernel_33812\\2722589503.py:10: FutureWarning: Series.__getitem__ treating keys as positions is deprecated. In a future version, integer keys will always be treated as labels (consistent with DataFrame behavior). To access a value by position, use `ser.iloc[pos]`\n",
      "  one_year_roi = (data['Adj Close'][-1] / data['Adj Close'][-252]) - 1\n",
      "C:\\Users\\ricar\\AppData\\Local\\Temp\\ipykernel_33812\\2722589503.py:11: FutureWarning: Series.__getitem__ treating keys as positions is deprecated. In a future version, integer keys will always be treated as labels (consistent with DataFrame behavior). To access a value by position, use `ser.iloc[pos]`\n",
      "  five_year_roi = (data['Adj Close'][-1] / data['Adj Close'][-1260]) - 1\n",
      "C:\\Users\\ricar\\AppData\\Local\\Temp\\ipykernel_33812\\2722589503.py:13: FutureWarning: Series.__getitem__ treating keys as positions is deprecated. In a future version, integer keys will always be treated as labels (consistent with DataFrame behavior). To access a value by position, use `ser.iloc[pos]`\n",
      "  ten_year_roi = (data['Adj Close'][-1] / data['Adj Close'][-2520]) - 1\n",
      "C:\\Users\\ricar\\AppData\\Local\\Temp\\ipykernel_33812\\2722589503.py:9: FutureWarning: Series.__getitem__ treating keys as positions is deprecated. In a future version, integer keys will always be treated as labels (consistent with DataFrame behavior). To access a value by position, use `ser.iloc[pos]`\n",
      "  ytd_roi = (data['Adj Close'][-1] / data['Adj Close'][0]) - 1\n",
      "C:\\Users\\ricar\\AppData\\Local\\Temp\\ipykernel_33812\\2722589503.py:10: FutureWarning: Series.__getitem__ treating keys as positions is deprecated. In a future version, integer keys will always be treated as labels (consistent with DataFrame behavior). To access a value by position, use `ser.iloc[pos]`\n",
      "  one_year_roi = (data['Adj Close'][-1] / data['Adj Close'][-252]) - 1\n",
      "C:\\Users\\ricar\\AppData\\Local\\Temp\\ipykernel_33812\\2722589503.py:11: FutureWarning: Series.__getitem__ treating keys as positions is deprecated. In a future version, integer keys will always be treated as labels (consistent with DataFrame behavior). To access a value by position, use `ser.iloc[pos]`\n",
      "  five_year_roi = (data['Adj Close'][-1] / data['Adj Close'][-1260]) - 1\n",
      "C:\\Users\\ricar\\AppData\\Local\\Temp\\ipykernel_33812\\2722589503.py:13: FutureWarning: Series.__getitem__ treating keys as positions is deprecated. In a future version, integer keys will always be treated as labels (consistent with DataFrame behavior). To access a value by position, use `ser.iloc[pos]`\n",
      "  ten_year_roi = (data['Adj Close'][-1] / data['Adj Close'][-2520]) - 1\n"
     ]
    }
   ],
   "source": [
    "\n",
    "# Initialize a DataFrame to store ROI and other financial metrics\n",
    "roi_df = pd.DataFrame(columns=[\n",
    "    'Ticker', 'YTD_ROI', '1Y_ROI', '5Y_ROI', '10Y_ROI', \n",
    "    'P/E Ratio'\n",
    "])\n",
    "\n",
    "for ticker, data in etf_data.items():\n",
    "    # Calculate ROI metrics\n",
    "    ytd_roi = (data['Adj Close'][-1] / data['Adj Close'][0]) - 1\n",
    "    one_year_roi = (data['Adj Close'][-1] / data['Adj Close'][-252]) - 1\n",
    "    five_year_roi = (data['Adj Close'][-1] / data['Adj Close'][-1260]) - 1\n",
    "    if len(data) >= 2520:\n",
    "        ten_year_roi = (data['Adj Close'][-1] / data['Adj Close'][-2520]) - 1\n",
    "    else:\n",
    "        ten_year_roi = None\n",
    "    \n",
    "    # Fetch additional financial metrics from Yahoo Finance\n",
    "    ticker_info = yf.Ticker(ticker).info\n",
    "    pe_ratio = ticker_info.get('trailingPE', None)\n",
    "\n",
    "    # Append the calculated metrics to the DataFrame\n",
    "    roi_df = roi_df._append({\n",
    "        'Ticker': ticker,\n",
    "        'YTD_ROI': ytd_roi,\n",
    "        '1Y_ROI': one_year_roi,\n",
    "        '5Y_ROI': five_year_roi,\n",
    "        '10Y_ROI': ten_year_roi,\n",
    "        'P/E Ratio': pe_ratio\n",
    "    }, ignore_index=True)\n"
   ]
  },
  {
   "cell_type": "markdown",
   "id": "d0491803",
   "metadata": {},
   "source": [
    "### Step 3: Filtering and Sorting the ETFs with Additional Metrics"
   ]
  },
  {
   "cell_type": "code",
   "execution_count": 21,
   "id": "f917860a",
   "metadata": {},
   "outputs": [
    {
     "name": "stdout",
     "output_type": "stream",
     "text": [
      "Top ETFs based on YTD ROI and 5-year ROI:\n",
      "  Ticker   YTD_ROI    1Y_ROI    5Y_ROI   10Y_ROI  P/E Ratio\n",
      "4   SPYG  3.335296  0.349041  1.229322  3.010477  31.576296\n",
      "2    VOO  2.659634  0.290143  1.113357  2.402007  28.019978\n",
      "3   SPLG  2.657562  0.289239  1.113521  2.427879  28.179306\n",
      "1    IVV  2.655962  0.289812  1.112757  2.399403  28.224672\n",
      "0    SPY  2.653823  0.288279  1.106906  2.398928  28.190062\n",
      "7    RSP  1.887496  0.180806  0.821957  1.671751  21.894728\n",
      "6   SPYV  1.865078  0.223104  0.902948  1.686024  24.673477\n",
      "8    VXF  1.446263  0.213649  0.647414  1.351589  16.096668\n",
      "9    IJR  1.430361  0.166861  0.645495  1.414782  14.087557\n"
     ]
    }
   ],
   "source": [
    "\n",
    "# Filter out ETFs without a 10-year ROI\n",
    "filtered_roi_df = roi_df.dropna(subset=['10Y_ROI'])\n",
    "\n",
    "# Sort by YTD ROI and then by 5-year ROI\n",
    "sorted_roi_df = filtered_roi_df.sort_values(by=['YTD_ROI', '5Y_ROI'], ascending=[False, False])\n",
    "\n",
    "print(\"Top ETFs based on YTD ROI and 5-year ROI:\")\n",
    "print(sorted_roi_df)\n"
   ]
  }
 ],
 "metadata": {
  "kernelspec": {
   "display_name": "Python 3",
   "language": "python",
   "name": "python3"
  },
  "language_info": {
   "codemirror_mode": {
    "name": "ipython",
    "version": 3
   },
   "file_extension": ".py",
   "mimetype": "text/x-python",
   "name": "python",
   "nbconvert_exporter": "python",
   "pygments_lexer": "ipython3",
   "version": "3.12.2"
  }
 },
 "nbformat": 4,
 "nbformat_minor": 5
}
