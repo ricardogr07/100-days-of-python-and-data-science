{
 "cells": [
  {
   "cell_type": "markdown",
   "id": "1acf7f9d",
   "metadata": {},
   "source": [
    "# Day 16 - Filtering and Sorting Data"
   ]
  },
  {
   "cell_type": "markdown",
   "id": "c0602a9c",
   "metadata": {},
   "source": [
    "\n",
    "## Why is Filtering and Sorting Important?\n",
    "When working with real-world datasets, not all the data may be relevant to your analysis. Filtering helps you focus on the specific subset of data that matters most to your analysis. Sorting, on the other hand, allows you to organize your data to identify trends, compare entries, or prepare it for further analysis.\n"
   ]
  },
  {
   "cell_type": "markdown",
   "id": "33da3884",
   "metadata": {},
   "source": [
    "\n",
    "## Tutorial: Querying DataFrames Based on Conditions\n",
    "Pandas makes it easy to filter and sort data in a DataFrame using boolean indexing, the `query()` method, and the `sort_values()` function. Let's explore these techniques with practical examples.\n"
   ]
  },
  {
   "cell_type": "markdown",
   "id": "cff5b0bf",
   "metadata": {},
   "source": [
    "### Filtering Data"
   ]
  },
  {
   "cell_type": "code",
   "execution_count": null,
   "id": "d678a046",
   "metadata": {},
   "outputs": [],
   "source": [
    "!pip install pandas"
   ]
  },
  {
   "cell_type": "code",
   "execution_count": null,
   "id": "c0ae5b28",
   "metadata": {},
   "outputs": [],
   "source": [
    "import pandas as pd\n",
    "# Example DataFrame\n",
    "data = {\n",
    "    'Name': ['Alice', 'Bob', 'Charlie', 'David', 'Eve'],\n",
    "    'Age': [24, 30, 22, 35, 28],\n",
    "    'Job': ['Engineer', 'Doctor', 'Artist', 'Engineer', 'Doctor']\n",
    "}\n",
    "df = pd.DataFrame(data)\n",
    "\n",
    "# Filtering for rows where Age is greater than 25\n",
    "filtered_df = df[df['Age'] > 25]\n",
    "print(\"Filtered DataFrame (Age > 25):\")\n",
    "print(filtered_df)\n"
   ]
  },
  {
   "cell_type": "markdown",
   "id": "921c0bdd",
   "metadata": {},
   "source": [
    "### Using `query()` for Filtering"
   ]
  },
  {
   "cell_type": "code",
   "execution_count": null,
   "id": "4f2e9c83",
   "metadata": {},
   "outputs": [],
   "source": [
    "\n",
    "# Using the query() method\n",
    "filtered_df = df.query('Age > 25 and Job == \"Doctor\"')\n",
    "print(\"\\nFiltered DataFrame (Age > 25 and Job is Doctor):\")\n",
    "print(filtered_df)\n"
   ]
  },
  {
   "cell_type": "code",
   "execution_count": null,
   "id": "69b76780",
   "metadata": {},
   "outputs": [],
   "source": [
    "filtered_df = df.where(df['Age']>25).dropna(how=\"any\")\n",
    "print(\"\\nFiltered DataFrame (Age > 25):\")\n",
    "print(filtered_df)"
   ]
  },
  {
   "cell_type": "markdown",
   "id": "709c6350",
   "metadata": {},
   "source": [
    "### Sorting Data"
   ]
  },
  {
   "cell_type": "code",
   "execution_count": null,
   "id": "c92d013e",
   "metadata": {},
   "outputs": [],
   "source": [
    "\n",
    "# Sorting by Age in ascending order\n",
    "sorted_df = df.sort_values(by='Age')\n",
    "print(\"\\nDataFrame sorted by Age (ascending):\")\n",
    "print(sorted_df)\n",
    "\n",
    "# Sorting by Job and then by Age in descending order\n",
    "sorted_df = df.sort_values(by=['Job', 'Age'], ascending=[True, False])\n",
    "print(\"\\nDataFrame sorted by Job and then by Age (descending):\")\n",
    "print(sorted_df)\n"
   ]
  },
  {
   "cell_type": "markdown",
   "id": "b7025ab1",
   "metadata": {},
   "source": [
    "\n",
    "## Use Case: Filtering and Sorting ETF Data for Investment Decisions\n",
    "In this use case, we'll focus on analyzing various ETFs (Exchange-Traded Funds) related to the S&P 500 to help make informed investment decisions. We'll use the Yahoo Finance API to retrieve data on multiple ETFs, calculate key metrics, and sort the ETFs based on relevant financial metrics to aid in our analysis.\n"
   ]
  },
  {
   "cell_type": "markdown",
   "id": "2d8f7827",
   "metadata": {},
   "source": [
    "### Step 1: Downloading Data for Multiple ETFs"
   ]
  },
  {
   "cell_type": "code",
   "execution_count": null,
   "id": "59db3bcf",
   "metadata": {},
   "outputs": [],
   "source": [
    "\n",
    "import yfinance as yf\n",
    "import pandas as pd\n",
    "\n",
    "# Define a list of ETF tickers related to the S&P 500\n",
    "etf_tickers = ['SPY', 'IVV', 'VOO', 'SPLG', 'SPYG', 'SPYD', 'SPYV', 'RSP', 'VXF', 'IJR']\n",
    "\n",
    "# Download historical stock data for these ETFs\n",
    "etf_data = {}\n",
    "for ticker in etf_tickers:\n",
    "    etf_data[ticker] = yf.download(ticker, start='2014-01-01', end='2024-08-19')\n"
   ]
  },
  {
   "cell_type": "markdown",
   "id": "fd1961f7",
   "metadata": {},
   "source": [
    "### Step 2: Calculating ROI Metrics"
   ]
  },
  {
   "cell_type": "code",
   "execution_count": null,
   "id": "46840289",
   "metadata": {},
   "outputs": [],
   "source": [
    "\n",
    "# Initialize a DataFrame to store ROI and other financial metrics\n",
    "roi_df = pd.DataFrame(columns=[\n",
    "    'Ticker', 'YTD_ROI', '1Y_ROI', '5Y_ROI', '10Y_ROI', \n",
    "    'P/E Ratio'\n",
    "])\n",
    "\n",
    "for ticker, data in etf_data.items():\n",
    "    # Calculate ROI metrics\n",
    "    ytd_roi = (data['Adj Close'][-1] / data['Adj Close'][0]) - 1\n",
    "    one_year_roi = (data['Adj Close'][-1] / data['Adj Close'][-252]) - 1\n",
    "    five_year_roi = (data['Adj Close'][-1] / data['Adj Close'][-1260]) - 1\n",
    "    if len(data) >= 2520:\n",
    "        ten_year_roi = (data['Adj Close'][-1] / data['Adj Close'][-2520]) - 1\n",
    "    else:\n",
    "        ten_year_roi = None\n",
    "    \n",
    "    # Fetch additional financial metrics from Yahoo Finance\n",
    "    ticker_info = yf.Ticker(ticker).info\n",
    "    pe_ratio = ticker_info.get('trailingPE', None)\n",
    "\n",
    "    # Append the calculated metrics to the DataFrame\n",
    "    roi_df = roi_df._append({\n",
    "        'Ticker': ticker,\n",
    "        'YTD_ROI': ytd_roi,\n",
    "        '1Y_ROI': one_year_roi,\n",
    "        '5Y_ROI': five_year_roi,\n",
    "        '10Y_ROI': ten_year_roi,\n",
    "        'P/E Ratio': pe_ratio\n",
    "    }, ignore_index=True)\n"
   ]
  },
  {
   "cell_type": "markdown",
   "id": "d0491803",
   "metadata": {},
   "source": [
    "### Step 3: Filtering and Sorting the ETFs with Additional Metrics"
   ]
  },
  {
   "cell_type": "code",
   "execution_count": null,
   "id": "f917860a",
   "metadata": {},
   "outputs": [],
   "source": [
    "\n",
    "# Filter out ETFs without a 10-year ROI\n",
    "filtered_roi_df = roi_df.dropna(subset=['10Y_ROI'])\n",
    "\n",
    "# Sort by YTD ROI and then by 5-year ROI\n",
    "sorted_roi_df = filtered_roi_df.sort_values(by=['YTD_ROI', '5Y_ROI'], ascending=[False, False])\n",
    "\n",
    "print(\"Top ETFs based on YTD ROI and 5-year ROI:\")\n",
    "print(sorted_roi_df)\n"
   ]
  }
 ],
 "metadata": {
  "kernelspec": {
   "display_name": "Python 3",
   "language": "python",
   "name": "python3"
  },
  "language_info": {
   "codemirror_mode": {
    "name": "ipython",
    "version": 3
   },
   "file_extension": ".py",
   "mimetype": "text/x-python",
   "name": "python",
   "nbconvert_exporter": "python",
   "pygments_lexer": "ipython3",
   "version": "3.12.2"
  }
 },
 "nbformat": 4,
 "nbformat_minor": 5
}
