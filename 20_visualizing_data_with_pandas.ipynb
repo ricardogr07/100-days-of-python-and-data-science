{
 "cells": [
  {
   "cell_type": "markdown",
   "id": "fca7a1dd",
   "metadata": {},
   "source": [
    "# Day 20 - Visualizing Data with Pandas"
   ]
  },
  {
   "cell_type": "markdown",
   "id": "93c385f7",
   "metadata": {},
   "source": [
    "### Why is Data Visualization Important?\n",
    "\n",
    "Visualizing data helps to communicate information clearly and efficiently. It enables you to see the big picture and identify patterns that might otherwise go unnoticed. With Pandas, you can create simple yet powerful visualizations without the need for extensive knowledge of plotting libraries."
   ]
  },
  {
   "cell_type": "markdown",
   "id": "f910df15",
   "metadata": {},
   "source": [
    "### Tutorial: Using Pandas for Basic Plotting\n",
    "\n",
    "Pandas has built-in visualization capabilities that allow you to create a variety of plots, including line plots, bar plots, histograms, and more, with minimal code. These plots are based on Matplotlib, a comprehensive library for creating static, animated, and interactive visualizations in Python."
   ]
  },
  {
   "cell_type": "code",
   "execution_count": null,
   "id": "72033d54",
   "metadata": {},
   "outputs": [],
   "source": [
    "!pip install pandas matplotlib"
   ]
  },
  {
   "cell_type": "code",
   "execution_count": null,
   "id": "05e251e8",
   "metadata": {},
   "outputs": [],
   "source": [
    "# Step 1: Importing the Necessary Libraries\n",
    "import pandas as pd\n",
    "import matplotlib.pyplot as plt"
   ]
  },
  {
   "cell_type": "markdown",
   "id": "c51e377a",
   "metadata": {},
   "source": [
    "### Step 2: Creating a Simple Line Plot\n",
    "\n",
    "Let's start with a simple line plot to visualize a time series."
   ]
  },
  {
   "cell_type": "code",
   "execution_count": null,
   "id": "d6258b3f",
   "metadata": {},
   "outputs": [],
   "source": [
    "# Example DataFrame with stock prices over time\n",
    "data = {\n",
    "    'Date': pd.date_range(start='2023-01-01', periods=10, freq='D'),\n",
    "    'Stock Price': [150, 152, 148, 147, 149, 155, 160, 162, 165, 163]\n",
    "}\n",
    "df = pd.DataFrame(data)\n",
    "\n",
    "# Plotting the stock prices over time\n",
    "df.plot(x='Date', y='Stock Price', kind='line', title='Stock Prices Over Time')\n",
    "plt.xlabel('Date')\n",
    "plt.ylabel('Stock Price')\n",
    "plt.grid(True)\n",
    "plt.show()"
   ]
  },
  {
   "cell_type": "markdown",
   "id": "7c75a43f",
   "metadata": {},
   "source": [
    "### Step 3: Creating a Bar Plot\n",
    "\n",
    "Now, let’s visualize the data using a bar plot."
   ]
  },
  {
   "cell_type": "code",
   "execution_count": null,
   "id": "8f0a1e00",
   "metadata": {},
   "outputs": [],
   "source": [
    "# Example DataFrame with stock prices over time\n",
    "df.plot(x='Date', y='Stock Price', kind='bar', title='Stock Prices Over Time')\n",
    "plt.xlabel('Date')\n",
    "plt.ylabel('Stock Price')\n",
    "plt.grid(True)\n",
    "plt.show()"
   ]
  },
  {
   "cell_type": "markdown",
   "id": "899f2bab",
   "metadata": {},
   "source": [
    "### Step 4: Creating a Histogram\n",
    "\n",
    "A histogram is useful for understanding the distribution of data."
   ]
  },
  {
   "cell_type": "code",
   "execution_count": null,
   "id": "0463a56b",
   "metadata": {},
   "outputs": [],
   "source": [
    "# Plotting the distribution of stock prices\n",
    "df['Stock Price'].plot(kind='hist', title='Distribution of Stock Prices', bins=5)\n",
    "plt.xlabel('Stock Price')\n",
    "plt.ylabel('Frequency')\n",
    "plt.grid(True)\n",
    "plt.show()"
   ]
  },
  {
   "cell_type": "markdown",
   "id": "b2d85ca4",
   "metadata": {},
   "source": [
    "## Use Case: Plotting Stock Prices Over Time\n",
    "\n",
    "For this use case, we will use the Yahoo Finance API to download historical stock prices for a specific company, then visualize the data over time using Pandas."
   ]
  },
  {
   "cell_type": "markdown",
   "id": "1d0a425d",
   "metadata": {},
   "source": [
    "### Step 1: Downloading Stock Price Data\n",
    "\n",
    "We'll use the yfinance library to get historical stock prices for a specific company, such as Google (GOOGL)."
   ]
  },
  {
   "cell_type": "code",
   "execution_count": null,
   "id": "91574ac9",
   "metadata": {},
   "outputs": [],
   "source": [
    "!pip install yfinance"
   ]
  },
  {
   "cell_type": "code",
   "execution_count": null,
   "id": "330b846a",
   "metadata": {},
   "outputs": [],
   "source": [
    "import yfinance as yf\n",
    "\n",
    "# Downloading historical stock data for Google (GOOGL)\n",
    "ticker = 'GOOGL'\n",
    "stock_data = yf.download(ticker, start='2020-01-01', end='2024-08-19')\n",
    "\n",
    "# Displaying the first few rows of the DataFrame\n",
    "print(\"First few rows of the Google stock market data:\")\n",
    "print(stock_data.head())"
   ]
  },
  {
   "cell_type": "markdown",
   "id": "48b2695e",
   "metadata": {},
   "source": [
    "### Step 2: Visualizing the Stock Prices\n",
    "\n",
    "Now, let's visualize the stock prices over time."
   ]
  },
  {
   "cell_type": "code",
   "execution_count": null,
   "id": "d1e52127",
   "metadata": {},
   "outputs": [],
   "source": [
    "# Plotting the stock prices over time\n",
    "stock_data['Adj Close'].plot(title='Google Stock Prices Over Time')\n",
    "plt.xlabel('Date')\n",
    "plt.ylabel('Adjusted Close Price')\n",
    "plt.grid(True)\n",
    "plt.show()"
   ]
  },
  {
   "cell_type": "markdown",
   "id": "d0c51349",
   "metadata": {},
   "source": [
    "### Step 3: Adding a Moving Average\n",
    "\n",
    "To smooth out the fluctuations and see the overall trend, you can add a moving average to the plot."
   ]
  },
  {
   "cell_type": "code",
   "execution_count": null,
   "id": "8ebab900",
   "metadata": {},
   "outputs": [],
   "source": [
    "# Adding a 30-day moving average\n",
    "stock_data['30 Day MA'] = stock_data['Adj Close'].rolling(window=30).mean()\n",
    "\n",
    "# Plotting the adjusted close price and the moving average\n",
    "stock_data[['Adj Close', '30 Day MA']].plot(title='Google Stock Prices with 30-Day Moving Average')\n",
    "plt.xlabel('Date')\n",
    "plt.ylabel('Price')\n",
    "plt.grid(True)\n",
    "plt.show()"
   ]
  }
 ],
 "metadata": {
  "kernelspec": {
   "display_name": "Python 3",
   "language": "python",
   "name": "python3"
  },
  "language_info": {
   "codemirror_mode": {
    "name": "ipython",
    "version": 3
   },
   "file_extension": ".py",
   "mimetype": "text/x-python",
   "name": "python",
   "nbconvert_exporter": "python",
   "pygments_lexer": "ipython3",
   "version": "3.12.2"
  }
 },
 "nbformat": 4,
 "nbformat_minor": 5
}
