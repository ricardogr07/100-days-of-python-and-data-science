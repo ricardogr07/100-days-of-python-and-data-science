{
 "cells": [
  {
   "cell_type": "markdown",
   "id": "6b7a7698",
   "metadata": {},
   "source": [
    "\n",
    "# **Day 30 — Saving and Exporting Figures**\n",
    "\n",
    "### **Why Save and Export Plots?**\n",
    "\n",
    "Once you’ve created a plot, the next step is often sharing it with others, whether that’s through a presentation, report, or article. Saving and exporting plots allows you to:\n",
    "- **Integrate Visualizations into Reports**: Use high-quality images of your plots in PDFs, Word documents, or presentations.\n",
    "- **Create Consistent Visuals**: Save plots with consistent styling and dimensions to ensure a uniform look across different projects.\n",
    "- **Share Easily**: Export your plots as PNG, JPG, PDF, or SVG files, making them accessible across different platforms.\n"
   ]
  },
  {
   "cell_type": "markdown",
   "id": "2118697d",
   "metadata": {},
   "source": [
    "\n",
    "### **Saving Plots to Image Files in Python**\n",
    "\n",
    "Python’s Matplotlib library offers simple and effective ways to save your plots in various file formats. Let’s walk through how to do this, step by step.\n",
    "\n",
    "#### **Step 1: Importing the Necessary Libraries**\n",
    "\n",
    "Ensure you have Matplotlib installed. If not, install it using:\n"
   ]
  },
  {
   "cell_type": "code",
   "execution_count": null,
   "id": "d3d3460c",
   "metadata": {},
   "outputs": [],
   "source": [
    "%pip install matplotlib"
   ]
  },
  {
   "cell_type": "code",
   "execution_count": null,
   "id": "81cbb4c7",
   "metadata": {},
   "outputs": [],
   "source": [
    "\n",
    "import matplotlib.pyplot as plt\n"
   ]
  },
  {
   "cell_type": "markdown",
   "id": "396399bb",
   "metadata": {},
   "source": [
    "\n",
    "#### **Step 2: Creating a Simple Plot**\n",
    "\n",
    "We’ll first create a basic plot that we will save as an image.\n"
   ]
  },
  {
   "cell_type": "code",
   "execution_count": null,
   "id": "c9ece8f0",
   "metadata": {},
   "outputs": [],
   "source": [
    "\n",
    "# Generating sample data\n",
    "x = [1, 2, 3, 4, 5]\n",
    "y = [10, 14, 12, 16, 18]\n",
    "\n",
    "# Creating a basic plot\n",
    "plt.figure(figsize=(8, 6))\n",
    "plt.plot(x, y, marker='o', linestyle='-', color='blue', label='Data Line')\n",
    "plt.title('Sample Plot')\n",
    "plt.xlabel('X Axis')\n",
    "plt.ylabel('Y Axis')\n",
    "plt.legend()\n",
    "plt.grid(True)\n",
    "\n",
    "# Displaying the plot\n",
    "plt.show()\n"
   ]
  },
  {
   "cell_type": "markdown",
   "id": "026fe5c0",
   "metadata": {},
   "source": [
    "\n",
    "#### **Step 3: Saving the Plot to an Image File**\n",
    "\n",
    "Matplotlib’s `savefig()` function allows you to export your plot to various file formats such as PNG, JPG, PDF, or SVG.\n"
   ]
  },
  {
   "cell_type": "code",
   "execution_count": null,
   "id": "a7d3fadf",
   "metadata": {},
   "outputs": [],
   "source": [
    "\n",
    "# Saving the plot as a PNG file\n",
    "plt.figure(figsize=(8, 6))\n",
    "plt.plot(x, y, marker='o', linestyle='-', color='blue', label='Data Line')\n",
    "plt.title('Sample Plot for Export')\n",
    "plt.xlabel('X Axis')\n",
    "plt.ylabel('Y Axis')\n",
    "plt.legend()\n",
    "plt.grid(True)\n",
    "\n",
    "# Saving the figure to a file\n",
    "plt.savefig('sample_plot.png')\n",
    "plt.show()\n"
   ]
  },
  {
   "cell_type": "markdown",
   "id": "4c0c5cdf",
   "metadata": {},
   "source": [
    "\n",
    "#### **Step 4: Exporting Plots with Custom DPI and Dimensions**\n",
    "\n",
    "When exporting plots, it’s important to control the resolution (DPI) and the dimensions, especially when creating images for high-quality publications or presentations.\n"
   ]
  },
  {
   "cell_type": "code",
   "execution_count": null,
   "id": "401c9c1a",
   "metadata": {},
   "outputs": [],
   "source": [
    "\n",
    "# Saving the plot with a higher DPI and specific dimensions\n",
    "plt.figure(figsize=(10, 8))\n",
    "plt.plot(x, y, marker='o', linestyle='-', color='green', label='Data Line')\n",
    "plt.title('High-Resolution Plot')\n",
    "plt.xlabel('X Axis')\n",
    "plt.ylabel('Y Axis')\n",
    "plt.legend()\n",
    "plt.grid(True)\n",
    "\n",
    "# Saving the figure with higher DPI\n",
    "plt.savefig('high_res_plot.png', dpi=300)\n",
    "plt.show()\n"
   ]
  },
  {
   "cell_type": "markdown",
   "id": "f68bb951",
   "metadata": {},
   "source": [
    "\n",
    "#### **Step 5: Exporting to Different File Formats**\n",
    "\n",
    "Let’s now explore how to export plots in different formats, such as PDF or SVG, which are useful for vector-based applications.\n"
   ]
  },
  {
   "cell_type": "code",
   "execution_count": null,
   "id": "b74809fc",
   "metadata": {},
   "outputs": [],
   "source": [
    "\n",
    "# Saving the plot as a PDF file\n",
    "plt.figure(figsize=(8, 6))\n",
    "plt.plot(x, y, marker='o', linestyle='-', color='red', label='Data Line')\n",
    "plt.title('PDF Export Plot')\n",
    "plt.xlabel('X Axis')\n",
    "plt.ylabel('Y Axis')\n",
    "plt.legend()\n",
    "plt.grid(True)\n",
    "\n",
    "# Saving as PDF\n",
    "plt.savefig('exported_plot.pdf')\n",
    "plt.show()\n",
    "\n",
    "# Saving the plot as an SVG file (for scalable vector graphics)\n",
    "plt.savefig('exported_plot.svg')\n"
   ]
  },
  {
   "cell_type": "markdown",
   "id": "74c889b0",
   "metadata": {},
   "source": [
    "\n",
    "### **Use Case: Exporting Plots for a Report or Presentation**\n",
    "\n",
    "Imagine you are preparing a report or presentation and need to export several plots in different formats. Here’s an example workflow to export plots at high resolution for both print and web use.\n",
    "\n",
    "#### **Step 1: Creating a Plot for Export**\n",
    "\n",
    "Let’s simulate a plot of sales data over time that will be exported for a report.\n"
   ]
  },
  {
   "cell_type": "code",
   "execution_count": null,
   "id": "c8ec190c",
   "metadata": {},
   "outputs": [],
   "source": [
    "\n",
    "# Simulating sales data over time\n",
    "months = ['Jan', 'Feb', 'Mar', 'Apr', 'May', 'Jun', 'Jul', 'Aug', 'Sep', 'Oct', 'Nov', 'Dec']\n",
    "sales = [200, 240, 300, 350, 370, 380, 400, 420, 430, 450, 460, 470]\n",
    "\n",
    "# Creating the plot\n",
    "plt.figure(figsize=(10, 6))\n",
    "plt.plot(months, sales, marker='o', linestyle='-', color='purple', label='Sales')\n",
    "plt.title('Monthly Sales Data')\n",
    "plt.xlabel('Month')\n",
    "plt.ylabel('Sales ($)')\n",
    "plt.grid(True)\n",
    "plt.legend()\n",
    "\n",
    "# Saving the plot with higher DPI for the report\n",
    "plt.savefig('monthly_sales_report.png', dpi=300)\n",
    "plt.savefig('monthly_sales_report.pdf')  # Saving as PDF for report\n",
    "plt.show()\n"
   ]
  },
  {
   "cell_type": "markdown",
   "id": "3c9ea12a",
   "metadata": {},
   "source": [
    "\n",
    "### **Conclusion**\n",
    "\n",
    "In today’s post, we explored how to save and export plots to various image formats, ensuring your visualizations are ready for reports, presentations, and publications.\n",
    "\n",
    "**Key Takeaways**:\n",
    "- **Saving Plots**: The `savefig()` function allows you to export plots as PNG, PDF, JPG, SVG, or other formats.\n",
    "- **Custom DPI**: Exporting plots with custom DPI settings ensures high-quality images for both web and print use.\n",
    "- **Versatile Formats**: Saving plots as vector-based formats like PDF and SVG ensures scalability without loss of quality.\n",
    "\n",
    "Stay tuned for more data visualization techniques in upcoming posts as we continue to build your data science toolkit!\n"
   ]
  }
 ],
 "metadata": {
  "language_info": {
   "name": "python"
  }
 },
 "nbformat": 4,
 "nbformat_minor": 5
}
