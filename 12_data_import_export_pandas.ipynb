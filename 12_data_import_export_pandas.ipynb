{
 "cells": [
  {
   "cell_type": "markdown",
   "id": "ecbfe53f",
   "metadata": {},
   "source": [
    "# Day 12 - Data Import and Export with Pandas"
   ]
  },
  {
   "cell_type": "markdown",
   "id": "d6d47244",
   "metadata": {},
   "source": [
    "## Reading and Writing Data to/from CSV Files\n",
    "\n",
    "Pandas offers a powerful set of functions for reading and writing data, particularly with CSV (Comma-Separated Values) files. Let's explore these functions with some practical examples."
   ]
  },
  {
   "cell_type": "code",
   "execution_count": null,
   "id": "32266c1a",
   "metadata": {},
   "outputs": [],
   "source": [
    "!pip install pandas"
   ]
  },
  {
   "cell_type": "code",
   "execution_count": null,
   "id": "fe66baf7",
   "metadata": {},
   "outputs": [],
   "source": [
    "import pandas as pd\n",
    "\n",
    "# Reading data from a CSV file\n",
    "df = pd.read_csv('data.csv')\n",
    "\n",
    "# Display the first few rows of the DataFrame\n",
    "print(df.head())"
   ]
  },
  {
   "cell_type": "markdown",
   "id": "843a45fb",
   "metadata": {},
   "source": [
    "To save a DataFrame to a CSV file, you can use the `df.to_csv()` function."
   ]
  },
  {
   "cell_type": "code",
   "execution_count": null,
   "id": "f419ae18",
   "metadata": {},
   "outputs": [],
   "source": [
    "# Writing the DataFrame to a CSV file\n",
    "df.to_csv('output.csv', index=False)\n",
    "\n",
    "print(\"Data saved to output.csv\")"
   ]
  },
  {
   "cell_type": "markdown",
   "id": "221738d0",
   "metadata": {},
   "source": [
    "`df.to_csv('output.csv', index=False)`: This function writes the DataFrame to a CSV file. The `index=False` parameter ensures that the row index is not saved as an additional column."
   ]
  },
  {
   "cell_type": "markdown",
   "id": "0086a7a9",
   "metadata": {},
   "source": [
    "## Use Case: Importing Stock Market Data for Analysis\n",
    "\n",
    "In this use case, we will use the Yahoo Finance API to download historical stock data for Google (ticker symbol `GOOGL`). We'll then load this data into a Pandas DataFrame and perform some basic data exploration."
   ]
  },
  {
   "cell_type": "markdown",
   "id": "3d623180",
   "metadata": {},
   "source": [
    "### Step 1: Downloading the Dataset\n",
    "\n",
    "We will use the `yfinance` library to download the historical stock prices for Google. If you haven't installed the library yet, you can do so using pip:"
   ]
  },
  {
   "cell_type": "code",
   "execution_count": null,
   "id": "4006dc3f",
   "metadata": {},
   "outputs": [],
   "source": [
    "!pip install yfinance"
   ]
  },
  {
   "cell_type": "code",
   "execution_count": null,
   "id": "336598cc",
   "metadata": {},
   "outputs": [],
   "source": [
    "import yfinance as yf\n",
    "import pandas as pd\n",
    "\n",
    "# Downloading historical stock data for Google (GOOGL)\n",
    "ticker = 'GOOGL'\n",
    "stock_data = yf.download(ticker, start='2020-01-01', end='2024-08-19')\n",
    "\n",
    "# Displaying the first few rows of the DataFrame\n",
    "print(\"First few rows of the Google stock market data:\")\n",
    "print(stock_data.head())"
   ]
  },
  {
   "cell_type": "markdown",
   "id": "33345b74",
   "metadata": {},
   "source": [
    "`yf.download()`: This function downloads the historical stock data for the specified ticker symbol within the given date range.\n",
    "\n",
    "`head()`: Displays the first five rows of the DataFrame to give you a quick overview of the data."
   ]
  },
  {
   "cell_type": "markdown",
   "id": "bc2c1580",
   "metadata": {},
   "source": [
    "### Step 3: Basic Data Exploration\n",
    "\n",
    "After loading the data, we can explore it to gain insights:"
   ]
  },
  {
   "cell_type": "code",
   "execution_count": null,
   "id": "161b92be",
   "metadata": {},
   "outputs": [],
   "source": [
    "# Summary of the DataFrame\n",
    "print(\"\\nSummary of the Google stock market data:\")\n",
    "print(stock_data.info())\n",
    "\n",
    "print(\"\\nDescribe the Google stock market data:\")\n",
    "print(stock_data.describe())\n",
    "\n",
    "# Checking for missing values\n",
    "print(\"\\nMissing values in the Google stock market data:\")\n",
    "print(stock_data.isnull().sum())"
   ]
  },
  {
   "cell_type": "markdown",
   "id": "dc2eaf15",
   "metadata": {},
   "source": [
    "### Step 4: Writing the Processed Data to a New CSV File\n",
    "\n",
    "Finally, we can save the stock market data to a CSV file for further analysis or sharing:"
   ]
  },
  {
   "cell_type": "code",
   "execution_count": null,
   "id": "9c379ddc",
   "metadata": {},
   "outputs": [],
   "source": [
    "# Writing the DataFrame to a CSV file\n",
    "stock_data.to_csv('googl_stock_data.csv', index=True)\n",
    "\n",
    "print(\"Google stock data saved to googl_stock_data.csv\")"
   ]
  },
  {
   "cell_type": "markdown",
   "id": "99f9a49b",
   "metadata": {},
   "source": [
    "## Conclusion\n",
    "\n",
    "In today's post, we learned how to import data from an external API using the `yfinance` library and explored it using Pandas. We focused on downloading and analyzing historical stock data for Google (GOOGL). Understanding how to import and export data efficiently is a crucial skill for any data scientist."
   ]
  }
 ],
 "metadata": {
  "kernelspec": {
   "display_name": "Python 3",
   "language": "python",
   "name": "python3"
  },
  "language_info": {
   "codemirror_mode": {
    "name": "ipython",
    "version": 3
   },
   "file_extension": ".py",
   "mimetype": "text/x-python",
   "name": "python",
   "nbconvert_exporter": "python",
   "pygments_lexer": "ipython3",
   "version": "3.12.2"
  }
 },
 "nbformat": 4,
 "nbformat_minor": 5
}
