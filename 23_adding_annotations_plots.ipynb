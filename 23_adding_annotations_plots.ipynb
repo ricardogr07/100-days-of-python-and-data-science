{
 "cells": [
  {
   "cell_type": "markdown",
   "id": "a5d5faf0",
   "metadata": {},
   "source": [
    "# Day 23 - Adding Annotations and Text\n",
    "\n",
    "## Why Add Annotations and Text?\n",
    "Annotations and text labels can help you highlight specific data points, explain trends, and guide your audience through the narrative your data tells. Whether you're presenting in a meeting or preparing a report, well-placed annotations can make your visualizations more impactful.\n",
    "\n",
    "## Tutorial: Adding Labels and Titles to Plots\n",
    "We'll use Matplotlib to add annotations and text to a plot of monthly sales data.\n",
    "\n",
    "### Step 1: Importing the Necessary Libraries\n"
   ]
  },
  {
   "cell_type": "code",
   "execution_count": null,
   "id": "d461d906",
   "metadata": {},
   "outputs": [],
   "source": [
    "import matplotlib.pyplot as plt\n",
    "import pandas as pd\n"
   ]
  },
  {
   "cell_type": "markdown",
   "id": "7eb07f59",
   "metadata": {},
   "source": [
    "### Step 2: Creating the Basic Plot\n",
    "Let's start by creating a simple line plot of monthly sales data.\n"
   ]
  },
  {
   "cell_type": "code",
   "execution_count": null,
   "id": "3b5058f8",
   "metadata": {},
   "outputs": [],
   "source": [
    "# Example data\n",
    "data = {\n",
    "    'Month': ['Jan', 'Feb', 'Mar', 'Apr', 'May', 'Jun', 'Jul', 'Aug', 'Sep', 'Oct', 'Nov', 'Dec'],\n",
    "    'Sales': [150, 200, 250, 300, 350, 280, 330, 400, 420, 380, 360, 500]\n",
    "}\n",
    "df = pd.DataFrame(data)\n",
    "\n",
    "# Create the basic line plot\n",
    "plt.figure(figsize=(10, 6))\n",
    "plt.plot(df['Month'], df['Sales'], marker='o')\n",
    "plt.title('Monthly Sales Data')\n",
    "plt.xlabel('Month')\n",
    "plt.ylabel('Sales ($)')\n",
    "plt.grid(True)\n",
    "plt.show()\n"
   ]
  },
  {
   "cell_type": "markdown",
   "id": "8a2ad3c8",
   "metadata": {},
   "source": [
    "### Step 3: Adding Annotations and Text\n",
    "Now, let's enhance the plot by adding annotations to highlight the highest and lowest sales points.\n"
   ]
  },
  {
   "cell_type": "code",
   "execution_count": null,
   "id": "a21d478e",
   "metadata": {},
   "outputs": [],
   "source": [
    "# Annotate the highest and lowest sales points\n",
    "plt.figure(figsize=(10, 6))\n",
    "plt.plot(df['Month'], df['Sales'], marker='o', color='blue')\n",
    "plt.title('Monthly Sales Data')\n",
    "plt.xlabel('Month')\n",
    "plt.ylabel('Sales ($)')\n",
    "plt.grid(True)\n",
    "\n",
    "# Highlight the highest sales\n",
    "max_sales = df['Sales'].max()\n",
    "max_month = df.loc[df['Sales'] == max_sales, 'Month'].values[0]\n",
    "plt.annotate(f'Highest Sales\\n${max_sales}', xy=(max_month, max_sales), xytext=(max_month, max_sales + 50),\n",
    "             arrowprops=dict(facecolor='green', shrink=0.05), fontsize=12, ha='center')\n",
    "\n",
    "# Highlight the lowest sales\n",
    "min_sales = df['Sales'].min()\n",
    "min_month = df.loc[df['Sales'] == min_sales, 'Month'].values[0]\n",
    "plt.annotate(f'Lowest Sales\\n${min_sales}', xy=(min_month, min_sales), xytext=(min_month, min_sales + 50),\n",
    "             arrowprops=dict(facecolor='red', shrink=0.05), fontsize=12, ha='center')\n",
    "\n",
    "plt.show()\n"
   ]
  }
 ],
 "metadata": {
  "kernelspec": {
   "display_name": "Python 3",
   "language": "python",
   "name": "python3"
  },
  "language_info": {
   "codemirror_mode": {
    "name": "ipython",
    "version": 3
   },
   "file_extension": ".py",
   "mimetype": "text/x-python",
   "name": "python",
   "nbconvert_exporter": "python",
   "pygments_lexer": "ipython3",
   "version": "3.12.2"
  }
 },
 "nbformat": 4,
 "nbformat_minor": 5
}
