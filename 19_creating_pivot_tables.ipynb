{
 "cells": [
  {
   "cell_type": "markdown",
   "id": "da4e60dd",
   "metadata": {},
   "source": [
    "# Day 19 - Creating Pivot Tables\n",
    "\n",
    "\n",
    "## Why Are Pivot Tables Important?\n",
    "\n",
    "Pivot tables are invaluable for quickly summarizing and analyzing large datasets. They allow you to group, aggregate, and filter data in various ways, providing a clear and concise view of your data's underlying patterns. This makes them particularly useful in exploratory data analysis (EDA) and reporting.\n"
   ]
  },
  {
   "cell_type": "markdown",
   "id": "a3403d59",
   "metadata": {},
   "source": [
    "## Tutorial: Building Pivot Tables for Summarizing Data\n",
    "\n",
    "Pandas makes it straightforward to create pivot tables using the `pivot_table` function. Let’s explore how to build pivot tables with practical examples.\n"
   ]
  },
  {
   "cell_type": "markdown",
   "id": "0e8002ba",
   "metadata": {},
   "source": [
    "### Basic Pivot Table Creation\n",
    "\n",
    "The `pivot_table` function in Pandas allows you to create a pivot table with just a few lines of code. Here's an example of how to summarize data using a pivot table:\n"
   ]
  },
  {
   "cell_type": "code",
   "execution_count": null,
   "id": "316c1545",
   "metadata": {},
   "outputs": [],
   "source": [
    "!pip install pandas"
   ]
  },
  {
   "cell_type": "code",
   "execution_count": null,
   "id": "f1b12b94",
   "metadata": {},
   "outputs": [],
   "source": [
    "import pandas as pd\n",
    "\n",
    "# Sample DataFrame\n",
    "data = {\n",
    "    'Department': ['Sales', 'Sales', 'HR', 'HR', 'IT', 'IT'],\n",
    "    'Employee': ['Alice', 'Bob', 'Charlie', 'David', 'Eve', 'Frank'],\n",
    "    'Salary': [70000, 80000, 60000, 65000, 75000, 77000],\n",
    "    'Bonus': [5000, 7000, 2000, 3000, 4000, 4500]\n",
    "}\n",
    "df = pd.DataFrame(data)\n",
    "\n",
    "# Creating a basic pivot table\n",
    "pivot = pd.pivot_table(df, values='Salary', index='Department', aggfunc='mean')\n",
    "\n",
    "print(\"Pivot Table - Average Salary by Department:\")\n",
    "print(pivot)\n"
   ]
  },
  {
   "cell_type": "markdown",
   "id": "7c367c95",
   "metadata": {},
   "source": [
    "### Adding Multiple Aggregations\n",
    "\n",
    "You can add multiple aggregation functions to your pivot table to get a more detailed summary:\n"
   ]
  },
  {
   "cell_type": "code",
   "execution_count": null,
   "id": "0c66a3f9",
   "metadata": {},
   "outputs": [],
   "source": [
    "# Pivot table with multiple aggregation functions\n",
    "pivot_multi = pd.pivot_table(df, values=['Salary', 'Bonus'], index='Department', aggfunc={'Salary': ['mean', 'max'], 'Bonus': 'sum'})\n",
    "\n",
    "print(\"\\nPivot Table - Multiple Aggregations:\")\n",
    "print(pivot_multi)\n"
   ]
  },
  {
   "cell_type": "markdown",
   "id": "4ec6ed9e",
   "metadata": {},
   "source": [
    "## Use Case: Analyzing Survey Data\n",
    "\n",
    "For this use case, we will analyze survey data to gain insights into the preferences and demographics of the respondents. We will use a sample dataset that includes responses from various departments in a company.\n"
   ]
  },
  {
   "cell_type": "markdown",
   "id": "7d326c52",
   "metadata": {},
   "source": [
    "### Step 1: Loading the Survey Data\n",
    "\n",
    "Let's start by loading a sample survey dataset into a DataFrame:\n"
   ]
  },
  {
   "cell_type": "code",
   "execution_count": null,
   "id": "ed984f49",
   "metadata": {},
   "outputs": [],
   "source": [
    "# Sample survey data\n",
    "survey_data = {\n",
    "    'Department': ['Sales', 'Sales', 'HR', 'HR', 'IT', 'IT', 'Marketing', 'Marketing'],\n",
    "    'Satisfaction': [4, 3, 5, 4, 4, 5, 3, 2],\n",
    "    'Work-Life Balance': [3, 2, 4, 4, 5, 5, 3, 3],\n",
    "    'Years at Company': [5, 4, 6, 5, 7, 6, 2, 3]\n",
    "}\n",
    "survey_df = pd.DataFrame(survey_data)\n",
    "\n",
    "print(\"Survey Data:\")\n",
    "print(survey_df.head())\n"
   ]
  },
  {
   "cell_type": "markdown",
   "id": "5aa75e83",
   "metadata": {},
   "source": [
    "### Step 2: Creating a Pivot Table\n",
    "\n",
    "Now, let’s create a pivot table to summarize the average satisfaction and work-life balance scores by department:\n"
   ]
  },
  {
   "cell_type": "code",
   "execution_count": null,
   "id": "0714cd6f",
   "metadata": {},
   "outputs": [],
   "source": [
    "# Pivot table to summarize average satisfaction and work-life balance by department\n",
    "pivot_survey = pd.pivot_table(survey_df, values=['Satisfaction', 'Work-Life Balance'], index='Department', aggfunc='mean')\n",
    "\n",
    "print(\"\\nPivot Table - Average Satisfaction and Work-Life Balance by Department:\")\n",
    "print(pivot_survey)\n"
   ]
  },
  {
   "cell_type": "markdown",
   "id": "5e843586",
   "metadata": {},
   "source": [
    "### Step 3: Analyzing Tenure and Satisfaction\n",
    "\n",
    "We can further analyze the relationship between the number of years at the company and employee satisfaction:\n"
   ]
  },
  {
   "cell_type": "code",
   "execution_count": null,
   "id": "c4b44b53",
   "metadata": {},
   "outputs": [],
   "source": [
    "# Pivot table to analyze the relationship between tenure and satisfaction\n",
    "pivot_tenure_satisfaction = pd.pivot_table(survey_df, values='Satisfaction', index='Years at Company', aggfunc='mean')\n",
    "\n",
    "print(\"\\nPivot Table - Average Satisfaction by Years at Company:\")\n",
    "print(pivot_tenure_satisfaction)\n"
   ]
  }
 ],
 "metadata": {
  "kernelspec": {
   "display_name": "Python 3",
   "language": "python",
   "name": "python3"
  },
  "language_info": {
   "codemirror_mode": {
    "name": "ipython",
    "version": 3
   },
   "file_extension": ".py",
   "mimetype": "text/x-python",
   "name": "python",
   "nbconvert_exporter": "python",
   "pygments_lexer": "ipython3",
   "version": "3.12.2"
  }
 },
 "nbformat": 4,
 "nbformat_minor": 5
}
