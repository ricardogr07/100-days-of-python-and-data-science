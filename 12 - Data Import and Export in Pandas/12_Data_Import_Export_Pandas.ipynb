{
 "cells": [
  {
   "cell_type": "markdown",
   "id": "51536bc9",
   "metadata": {},
   "source": [
    "\n",
    "# Day 12 - Data Import and Export with Pandas\n",
    "\n",
    "Importing and exporting data is a fundamental task in data science, whether working with local files, databases, or fetching data from the web.\n",
    "\n",
    "Pandas makes handling input and output operations seamless, allowing you to focus on analysis rather than data wrangling. Mastering this workflow enables you to efficiently manipulate datasets, share results, and automate repetitive data-loading tasks in larger projects.\n",
    "    "
   ]
  },
  {
   "cell_type": "markdown",
   "id": "155a16ca",
   "metadata": {},
   "source": [
    "\n",
    "## Reading and Writing Data to/from CSV Files\n",
    "\n",
    "CSV (Comma-Separated Values) is a lightweight, easy-to-read format that is widely used for storing data. Pandas provides robust functions for reading and writing CSV files.\n",
    "\n",
    "### Reading CSV Files\n",
    "\n",
    "To load data from a CSV file into a Pandas DataFrame, use the `pd.read_csv()` function:\n",
    "    "
   ]
  },
  {
   "cell_type": "code",
   "execution_count": 1,
   "id": "33f1d2e9",
   "metadata": {},
   "outputs": [
    {
     "name": "stdout",
     "output_type": "stream",
     "text": [
      "    Product  Quantity  Price  Sales Region\n",
      "0    Laptop         5   1000   5000  North\n",
      "1     Mouse        15     20    300   West\n",
      "2  Keyboard        10     50    500   East\n",
      "3   Monitor         8    200   1600  South\n",
      "4    Laptop        12    950  11400  North\n"
     ]
    }
   ],
   "source": [
    "\n",
    "import pandas as pd\n",
    "\n",
    "# Reading data from a CSV file (sample file will need to be created in the same directory)\n",
    "df = pd.read_csv('sales_data.csv')\n",
    "\n",
    "# Displaying the first few rows of the DataFrame\n",
    "print(df.head())\n",
    "    "
   ]
  },
  {
   "cell_type": "markdown",
   "id": "17f97d82",
   "metadata": {},
   "source": [
    "\n",
    "### Writing Data to CSV Files\n",
    "\n",
    "To export a DataFrame back to a CSV file, use the `df.to_csv()` function:\n",
    "    "
   ]
  },
  {
   "cell_type": "code",
   "execution_count": 2,
   "id": "ccd62eb9",
   "metadata": {},
   "outputs": [
    {
     "name": "stdout",
     "output_type": "stream",
     "text": [
      "Data saved to output.csv\n"
     ]
    }
   ],
   "source": [
    "\n",
    "# Writing the DataFrame to a CSV file\n",
    "df.to_csv('output.csv', index=False)\n",
    "\n",
    "print(\"Data saved to output.csv\")\n",
    "    "
   ]
  },
  {
   "cell_type": "markdown",
   "id": "1e168027",
   "metadata": {},
   "source": [
    "\n",
    "## Example: Analyzing a Sales Dataset\n",
    "\n",
    "Let's apply these functions in a real-world scenario where we work with a sales dataset stored in a CSV file. We'll load the dataset, perform basic analysis, and export the results to a new CSV file.\n",
    "\n",
    "### Step 1: Reading the Sales Data\n",
    "    "
   ]
  },
  {
   "cell_type": "code",
   "execution_count": 3,
   "id": "0e544328",
   "metadata": {},
   "outputs": [
    {
     "name": "stdout",
     "output_type": "stream",
     "text": [
      "First few rows of the sales data:\n",
      "    Product  Quantity  Price  Sales Region\n",
      "0    Laptop         5   1000   5000  North\n",
      "1     Mouse        15     20    300   West\n",
      "2  Keyboard        10     50    500   East\n",
      "3   Monitor         8    200   1600  South\n",
      "4    Laptop        12    950  11400  North\n"
     ]
    }
   ],
   "source": [
    "\n",
    "# Reading sales data from a CSV file\n",
    "sales_df = pd.read_csv('sales_data.csv')\n",
    "\n",
    "# Displaying the first few rows of the dataset\n",
    "print(\"First few rows of the sales data:\")\n",
    "print(sales_df.head())\n",
    "    "
   ]
  },
  {
   "cell_type": "markdown",
   "id": "2b976fb8",
   "metadata": {},
   "source": [
    "\n",
    "### Step 2: Performing Basic Analysis\n",
    "\n",
    "Now that we've loaded the data, let's perform some basic analysis to understand the dataset.\n",
    "\n",
    "**Summarizing Sales by Region**: We'll calculate the total sales for each region by grouping the data and summing the sales for each group.\n",
    "    "
   ]
  },
  {
   "cell_type": "code",
   "execution_count": 4,
   "id": "59cbe614",
   "metadata": {},
   "outputs": [
    {
     "name": "stdout",
     "output_type": "stream",
     "text": [
      "Total sales by region:\n",
      "Region\n",
      "East       770\n",
      "North    16400\n",
      "South     3070\n",
      "West       650\n",
      "Name: Sales, dtype: int64\n"
     ]
    }
   ],
   "source": [
    "\n",
    "# Grouping by Region and calculating total sales\n",
    "sales_by_region = sales_df.groupby('Region')['Sales'].sum()\n",
    "print(\"Total sales by region:\")\n",
    "print(sales_by_region)"
   ]
  },
  {
   "cell_type": "markdown",
   "id": "879fb154",
   "metadata": {},
   "source": [
    "\n",
    "**Identifying the Best-Selling Products**: We can also identify the top-selling products by calculating the total quantity sold for each product.\n",
    "    "
   ]
  },
  {
   "cell_type": "code",
   "execution_count": 5,
   "id": "771c1b12",
   "metadata": {},
   "outputs": [
    {
     "name": "stdout",
     "output_type": "stream",
     "text": [
      "Best-selling products by quantity:\n",
      "Product\n",
      "Mouse       29\n",
      "Laptop      17\n",
      "Keyboard    16\n",
      "Monitor     15\n",
      "Name: Quantity, dtype: int64\n"
     ]
    }
   ],
   "source": [
    "\n",
    "# Grouping by Product and calculating total quantity sold\n",
    "best_selling_products = sales_df.groupby('Product')['Quantity'].sum().sort_values(ascending=False)\n",
    "print(\"Best-selling products by quantity:\")\n",
    "print(best_selling_products)"
   ]
  },
  {
   "cell_type": "markdown",
   "id": "e75d4eb5",
   "metadata": {},
   "source": [
    "\n",
    "### Step 3: Saving the Analysis Results to a CSV File\n",
    "\n",
    "Once we've performed the analysis, we can export the results to a new CSV file for reporting or sharing.\n",
    "    "
   ]
  },
  {
   "cell_type": "code",
   "execution_count": 6,
   "id": "ab9d6fb2",
   "metadata": {},
   "outputs": [
    {
     "name": "stdout",
     "output_type": "stream",
     "text": [
      "Analysis results saved to CSV files.\n"
     ]
    }
   ],
   "source": [
    "\n",
    "# Saving the sales by region data to a CSV file\n",
    "sales_by_region.to_csv('sales_by_region.csv')\n",
    "\n",
    "# Saving the best-selling products data to a CSV file\n",
    "best_selling_products.to_csv('best_selling_products.csv')\n",
    "\n",
    "print(\"Analysis results saved to CSV files.\")\n",
    "    "
   ]
  },
  {
   "cell_type": "markdown",
   "id": "a9b25f76",
   "metadata": {},
   "source": [
    "\n",
    "## Tutorial: Importing Stock Market Data for Analysis\n",
    "\n",
    "In this real-life scenario, we'll use the Yahoo Finance API to download historical stock market data for Google (GOOGL) and analyze it with Pandas. This use case demonstrates the powerful combination of fetching, manipulating, and exporting data.\n",
    "\n",
    "### Step 1: Installing the yfinance Library\n",
    "    "
   ]
  },
  {
   "cell_type": "code",
   "execution_count": 7,
   "id": "bcc12085",
   "metadata": {},
   "outputs": [
    {
     "name": "stdout",
     "output_type": "stream",
     "text": [
      "Requirement already satisfied: yfinance in c:\\users\\ricar\\appdata\\local\\programs\\python\\python312\\lib\\site-packages (0.2.41)\n",
      "Requirement already satisfied: pandas>=1.3.0 in c:\\users\\ricar\\appdata\\local\\programs\\python\\python312\\lib\\site-packages (from yfinance) (2.2.0)\n",
      "Requirement already satisfied: numpy>=1.16.5 in c:\\users\\ricar\\appdata\\local\\programs\\python\\python312\\lib\\site-packages (from yfinance) (1.26.4)\n",
      "Requirement already satisfied: requests>=2.31 in c:\\users\\ricar\\appdata\\local\\programs\\python\\python312\\lib\\site-packages (from yfinance) (2.31.0)\n",
      "Requirement already satisfied: multitasking>=0.0.7 in c:\\users\\ricar\\appdata\\local\\programs\\python\\python312\\lib\\site-packages (from yfinance) (0.0.11)\n",
      "Requirement already satisfied: lxml>=4.9.1 in c:\\users\\ricar\\appdata\\local\\programs\\python\\python312\\lib\\site-packages (from yfinance) (5.2.2)\n",
      "Requirement already satisfied: platformdirs>=2.0.0 in c:\\users\\ricar\\appdata\\local\\programs\\python\\python312\\lib\\site-packages (from yfinance) (4.2.0)\n",
      "Requirement already satisfied: pytz>=2022.5 in c:\\users\\ricar\\appdata\\local\\programs\\python\\python312\\lib\\site-packages (from yfinance) (2024.1)\n",
      "Requirement already satisfied: frozendict>=2.3.4 in c:\\users\\ricar\\appdata\\local\\programs\\python\\python312\\lib\\site-packages (from yfinance) (2.4.4)\n",
      "Requirement already satisfied: peewee>=3.16.2 in c:\\users\\ricar\\appdata\\local\\programs\\python\\python312\\lib\\site-packages (from yfinance) (3.17.6)\n",
      "Requirement already satisfied: beautifulsoup4>=4.11.1 in c:\\users\\ricar\\appdata\\local\\programs\\python\\python312\\lib\\site-packages (from yfinance) (4.12.3)\n",
      "Requirement already satisfied: html5lib>=1.1 in c:\\users\\ricar\\appdata\\local\\programs\\python\\python312\\lib\\site-packages (from yfinance) (1.1)\n",
      "Requirement already satisfied: soupsieve>1.2 in c:\\users\\ricar\\appdata\\local\\programs\\python\\python312\\lib\\site-packages (from beautifulsoup4>=4.11.1->yfinance) (2.5)\n",
      "Requirement already satisfied: six>=1.9 in c:\\users\\ricar\\appdata\\local\\programs\\python\\python312\\lib\\site-packages (from html5lib>=1.1->yfinance) (1.16.0)\n",
      "Requirement already satisfied: webencodings in c:\\users\\ricar\\appdata\\local\\programs\\python\\python312\\lib\\site-packages (from html5lib>=1.1->yfinance) (0.5.1)\n",
      "Requirement already satisfied: python-dateutil>=2.8.2 in c:\\users\\ricar\\appdata\\local\\programs\\python\\python312\\lib\\site-packages (from pandas>=1.3.0->yfinance) (2.8.2)\n",
      "Requirement already satisfied: tzdata>=2022.7 in c:\\users\\ricar\\appdata\\local\\programs\\python\\python312\\lib\\site-packages (from pandas>=1.3.0->yfinance) (2024.1)\n",
      "Requirement already satisfied: charset-normalizer<4,>=2 in c:\\users\\ricar\\appdata\\local\\programs\\python\\python312\\lib\\site-packages (from requests>=2.31->yfinance) (3.3.2)\n",
      "Requirement already satisfied: idna<4,>=2.5 in c:\\users\\ricar\\appdata\\local\\programs\\python\\python312\\lib\\site-packages (from requests>=2.31->yfinance) (3.6)\n",
      "Requirement already satisfied: urllib3<3,>=1.21.1 in c:\\users\\ricar\\appdata\\local\\programs\\python\\python312\\lib\\site-packages (from requests>=2.31->yfinance) (2.2.1)\n",
      "Requirement already satisfied: certifi>=2017.4.17 in c:\\users\\ricar\\appdata\\local\\programs\\python\\python312\\lib\\site-packages (from requests>=2.31->yfinance) (2024.2.2)\n"
     ]
    }
   ],
   "source": [
    "!pip install yfinance"
   ]
  },
  {
   "cell_type": "markdown",
   "id": "7e11cfaa",
   "metadata": {},
   "source": [
    "\n",
    "### Step 2: Downloading Stock Market Data\n",
    "    "
   ]
  },
  {
   "cell_type": "code",
   "execution_count": 8,
   "id": "86925625",
   "metadata": {},
   "outputs": [
    {
     "name": "stderr",
     "output_type": "stream",
     "text": [
      "[*********************100%%**********************]  1 of 1 completed"
     ]
    },
    {
     "name": "stdout",
     "output_type": "stream",
     "text": [
      "First few rows of the Google stock market data:\n",
      "                 Open       High        Low      Close  Adj Close    Volume\n",
      "Date                                                                       \n",
      "2020-01-02  67.420502  68.433998  67.324501  68.433998  68.264961  27278000\n",
      "2020-01-03  67.400002  68.687500  67.365997  68.075996  67.907852  23408000\n",
      "2020-01-06  67.581497  69.916000  67.550003  69.890503  69.717865  46768000\n",
      "2020-01-07  70.023003  70.175003  69.578003  69.755501  69.583206  34330000\n",
      "2020-01-08  69.740997  70.592499  69.631500  70.251999  70.078476  35314000\n"
     ]
    },
    {
     "name": "stderr",
     "output_type": "stream",
     "text": [
      "\n"
     ]
    }
   ],
   "source": [
    "\n",
    "import yfinance as yf\n",
    "from datetime import datetime\n",
    "\n",
    "# Downloading historical stock data for Google (GOOGL)\n",
    "ticker = 'GOOGL'\n",
    "stock_data = yf.download(ticker, start='2020-01-01', end=datetime.today())\n",
    "\n",
    "# Displaying the first few rows of the DataFrame\n",
    "print(\"First few rows of the Google stock market data:\")\n",
    "print(stock_data.head())\n",
    "    "
   ]
  },
  {
   "cell_type": "markdown",
   "id": "43bccd9a",
   "metadata": {},
   "source": [
    "\n",
    "### Step 3: Basic Data Exploration\n",
    "    "
   ]
  },
  {
   "cell_type": "code",
   "execution_count": 9,
   "id": "fe570e43",
   "metadata": {},
   "outputs": [
    {
     "name": "stdout",
     "output_type": "stream",
     "text": [
      "Summary of the Google stock market data:\n",
      "<class 'pandas.core.frame.DataFrame'>\n",
      "DatetimeIndex: 1181 entries, 2020-01-02 to 2024-09-11\n",
      "Data columns (total 6 columns):\n",
      " #   Column     Non-Null Count  Dtype  \n",
      "---  ------     --------------  -----  \n",
      " 0   Open       1181 non-null   float64\n",
      " 1   High       1181 non-null   float64\n",
      " 2   Low        1181 non-null   float64\n",
      " 3   Close      1181 non-null   float64\n",
      " 4   Adj Close  1181 non-null   float64\n",
      " 5   Volume     1181 non-null   int64  \n",
      "dtypes: float64(5), int64(1)\n",
      "memory usage: 64.6 KB\n",
      "None\n",
      "Missing values in the Google stock market data:\n",
      "Open         0\n",
      "High         0\n",
      "Low          0\n",
      "Close        0\n",
      "Adj Close    0\n",
      "Volume       0\n",
      "dtype: int64\n"
     ]
    }
   ],
   "source": [
    "\n",
    "# Summary of the DataFrame\n",
    "print(\"Summary of the Google stock market data:\")\n",
    "print(stock_data.info())\n",
    "\n",
    "# Checking for missing values\n",
    "print(\"Missing values in the Google stock market data:\")\n",
    "print(stock_data.isnull().sum())\n",
    "    "
   ]
  },
  {
   "cell_type": "markdown",
   "id": "797d4a82",
   "metadata": {},
   "source": [
    "\n",
    "### Step 4: Saving the Processed Data to a New CSV File\n",
    "    "
   ]
  },
  {
   "cell_type": "code",
   "execution_count": 10,
   "id": "f7a51f08",
   "metadata": {},
   "outputs": [
    {
     "name": "stdout",
     "output_type": "stream",
     "text": [
      "Google stock data saved to googl_stock_data.csv\n"
     ]
    }
   ],
   "source": [
    "\n",
    "# Writing the DataFrame to a CSV file\n",
    "stock_data.to_csv('googl_stock_data.csv', index=True)\n",
    "\n",
    "print(\"Google stock data saved to googl_stock_data.csv\")"
   ]
  }
 ],
 "metadata": {
  "kernelspec": {
   "display_name": "Python 3",
   "language": "python",
   "name": "python3"
  },
  "language_info": {
   "codemirror_mode": {
    "name": "ipython",
    "version": 3
   },
   "file_extension": ".py",
   "mimetype": "text/x-python",
   "name": "python",
   "nbconvert_exporter": "python",
   "pygments_lexer": "ipython3",
   "version": "3.12.2"
  }
 },
 "nbformat": 4,
 "nbformat_minor": 5
}
