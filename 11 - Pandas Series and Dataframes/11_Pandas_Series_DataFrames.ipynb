{
 "cells": [
  {
   "cell_type": "markdown",
   "id": "5a179212",
   "metadata": {},
   "source": [
    "\n",
    "# Day 11 - Introduction to Pandas: Series and DataFrames\n",
    "\n"
   ]
  },
  {
   "cell_type": "markdown",
   "id": "1c640532",
   "metadata": {},
   "source": [
    "\n",
    "## Why is Pandas Important?\n",
    "\n",
    "Pandas is a cornerstone of data analysis in Python. It allows you to work with structured data efficiently, making it easy to clean, manipulate, and analyze data sets of all sizes. Whether dealing with small data or \"big data,\" Pandas provides the tools you need to transform and analyze your data effectively.\n"
   ]
  },
  {
   "cell_type": "markdown",
   "id": "77d2c372",
   "metadata": {},
   "source": [
    "\n",
    "## Series and DataFrames\n",
    "\n",
    "### What is a Series?\n",
    "A Series is a one-dimensional array-like object that can hold any data type, such as integers, floats, strings, and even Python objects. A Series is similar to a column in a spreadsheet or a database table.\n"
   ]
  },
  {
   "cell_type": "code",
   "execution_count": null,
   "id": "192784fb",
   "metadata": {},
   "outputs": [],
   "source": [
    "\n",
    "import pandas as pd\n",
    "\n",
    "# Creating a Series\n",
    "data = [1, 2, 3, 4, 5]\n",
    "series = pd.Series(data)\n",
    "print(series)\n"
   ]
  },
  {
   "cell_type": "markdown",
   "id": "44b0d96d",
   "metadata": {},
   "source": [
    "\n",
    "### What is a DataFrame?\n",
    "A DataFrame is a two-dimensional, size-mutable, and potentially heterogeneous tabular data structure. You can think of it as a spreadsheet or a SQL table, where data is aligned in rows and columns.\n"
   ]
  },
  {
   "cell_type": "code",
   "execution_count": null,
   "id": "f9d5a7ce",
   "metadata": {},
   "outputs": [],
   "source": [
    "\n",
    "# Creating a DataFrame\n",
    "data = {\n",
    "    'Name': ['Alice', 'Bob', 'Charlie'],\n",
    "    'Age': [25, 30, 35],\n",
    "    'City': ['New York', 'Los Angeles', 'Chicago']\n",
    "}\n",
    "df = pd.DataFrame(data)\n",
    "print(df)\n"
   ]
  },
  {
   "cell_type": "markdown",
   "id": "b7e6e74e",
   "metadata": {},
   "source": [
    "\n",
    "## Creating and Manipulating DataFrames\n",
    "\n",
    "Now that we've covered the basics, let's explore some essential operations you can perform on DataFrames.\n"
   ]
  },
  {
   "cell_type": "code",
   "execution_count": null,
   "id": "f47a391c",
   "metadata": {},
   "outputs": [],
   "source": [
    "\n",
    "# Selecting a column\n",
    "names = df['Name']\n",
    "print(names)\n"
   ]
  },
  {
   "cell_type": "code",
   "execution_count": null,
   "id": "ae2863cb",
   "metadata": {},
   "outputs": [],
   "source": [
    "\n",
    "# Filtering rows where Age > 30\n",
    "filtered_df = df[df['Age'] > 30]\n",
    "print(filtered_df)\n"
   ]
  },
  {
   "cell_type": "code",
   "execution_count": null,
   "id": "2e6c27c9",
   "metadata": {},
   "outputs": [],
   "source": [
    "\n",
    "# Adding a new column\n",
    "df['Salary'] = [70000, 80000, 90000]\n",
    "print(df)\n"
   ]
  },
  {
   "cell_type": "markdown",
   "id": "f19bf49c",
   "metadata": {},
   "source": [
    "\n",
    "## Use Case: Loading and Exploring Movie Ratings\n",
    "\n",
    "For this tutorial, we will use the MovieLens Latest Datasets, particularly the small version, which contains 100,000 ratings from 600 users on 9,000 movies. \n",
    "\n",
    "This dataset is ideal for demonstrating the functionality of Pandas with manageable data size, making it easy to explore and analyze within a notebook.\n"
   ]
  },
  {
   "cell_type": "code",
   "execution_count": null,
   "id": "5cbe6bc7",
   "metadata": {},
   "outputs": [],
   "source": [
    "\n",
    "import requests\n",
    "\n",
    "url_movies = 'https://raw.githubusercontent.com/ricardogr07/100-days-of-python-and-data-science/main/11%20-%20Pandas%20Series%20and%20Dataframes/ml-latest-small/movies.csv'\n",
    "movies_df = pd.read_csv(url_movies)\n",
    "\n",
    "# Display the first few rows of the DataFrame\n",
    "print(\"First few rows of the movies dataset:\")\n",
    "print(movies_df.head())\n"
   ]
  },
  {
   "cell_type": "code",
   "execution_count": null,
   "id": "36f616bd",
   "metadata": {},
   "outputs": [],
   "source": [
    "\n",
    "# Get a summary of the DataFrame's structure and contents\n",
    "print(\"Summary information about the dataset:\")\n",
    "print(movies_df.info())\n",
    "\n",
    "# Check for any missing values in the dataset\n",
    "print(\"Missing values in the dataset:\")\n",
    "print(movies_df.isnull().sum())\n"
   ]
  },
  {
   "cell_type": "code",
   "execution_count": null,
   "id": "6255e2ad",
   "metadata": {},
   "outputs": [],
   "source": [
    "\n",
    "# Split the genres column to separate multiple genres into individual entries\n",
    "movies_df['genres'] = movies_df['genres'].str.split('|')\n",
    "\n",
    "# Explode the list of genres into individual rows\n",
    "movies_exploded = movies_df.explode('genres')\n",
    "\n",
    "# Count the occurrences of each genre\n",
    "genre_counts = movies_exploded['genres'].value_counts()\n",
    "\n",
    "print(\"Number of movies per genre:\")\n",
    "print(genre_counts)\n"
   ]
  }
 ],
 "metadata": {
  "language_info": {
   "name": "python"
  }
 },
 "nbformat": 4,
 "nbformat_minor": 5
}
