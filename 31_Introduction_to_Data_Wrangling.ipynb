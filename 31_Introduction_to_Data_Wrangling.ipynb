{
 "cells": [
  {
   "cell_type": "markdown",
   "id": "8f95caae",
   "metadata": {},
   "source": [
    "\n",
    "# **Day 31 — Introduction to Data Wrangling in Python**\n",
    "\n",
    "### **What is Data Wrangling?**\n",
    "\n",
    "Data wrangling, also known as data preprocessing, is the process of cleaning, structuring, and enriching raw data to make it ready for analysis. Whether you're working with a small dataset or a massive data pipeline, data wrangling is a crucial step in ensuring your results are accurate, meaningful, and actionable.\n",
    "\n",
    "The key steps involved in data wrangling include:\n",
    "1. **Data Collection**: Gathering raw data from various sources.\n",
    "2. **Data Cleaning**: Handling missing data, fixing errors, and dealing with inconsistencies.\n",
    "3. **Data Transformation**: Reshaping, filtering, and aggregating data for analysis.\n",
    "4. **Data Enrichment**: Adding new information or context by merging and joining datasets.\n",
    "5. **Data Validation**: Ensuring the data is accurate, consistent, and ready for analysis.\n"
   ]
  },
  {
   "cell_type": "markdown",
   "id": "2eb420b8",
   "metadata": {},
   "source": [
    "### **Step 1: Importing the Necessary Libraries**"
   ]
  },
  {
   "cell_type": "code",
   "execution_count": 1,
   "id": "c222d1bc",
   "metadata": {},
   "outputs": [],
   "source": [
    "\n",
    "import pandas as pd\n"
   ]
  },
  {
   "cell_type": "markdown",
   "id": "a5b7ae3e",
   "metadata": {},
   "source": [
    "### **Step 2: Loading a Sample Dataset**"
   ]
  },
  {
   "cell_type": "code",
   "execution_count": 2,
   "id": "0cb6dcff",
   "metadata": {},
   "outputs": [
    {
     "name": "stdout",
     "output_type": "stream",
     "text": [
      "      Name   Age         City   Income\n",
      "0    Alice  25.0     New York  70000.0\n",
      "1      Bob   NaN  Los Angeles  80000.0\n",
      "2  Charlie  35.0         None      NaN\n",
      "3    David  45.0      Chicago  50000.0\n",
      "4      Eva  55.0      Houston  95000.0\n"
     ]
    }
   ],
   "source": [
    "\n",
    "# Loading a sample dataset\n",
    "data = pd.DataFrame({\n",
    "    'Name': ['Alice', 'Bob', 'Charlie', 'David', 'Eva'],\n",
    "    'Age': [25, None, 35, 45, 55],\n",
    "    'City': ['New York', 'Los Angeles', None, 'Chicago', 'Houston'],\n",
    "    'Income': [70000, 80000, None, 50000, 95000]\n",
    "})\n",
    "\n",
    "# Displaying the dataset\n",
    "print(data)\n"
   ]
  },
  {
   "cell_type": "markdown",
   "id": "1d7c65f6",
   "metadata": {},
   "source": [
    "### **Step 3: Cleaning the Data**"
   ]
  },
  {
   "cell_type": "code",
   "execution_count": 3,
   "id": "cb885181",
   "metadata": {},
   "outputs": [
    {
     "name": "stdout",
     "output_type": "stream",
     "text": [
      "    Name   Age         City   Income\n",
      "0  Alice  25.0     New York  70000.0\n",
      "1    Bob  40.0  Los Angeles  80000.0\n",
      "3  David  45.0      Chicago  50000.0\n",
      "4    Eva  55.0      Houston  95000.0\n"
     ]
    },
    {
     "name": "stderr",
     "output_type": "stream",
     "text": [
      "C:\\Users\\ricar\\AppData\\Local\\Temp\\ipykernel_21344\\2168019466.py:4: FutureWarning: A value is trying to be set on a copy of a DataFrame or Series through chained assignment using an inplace method.\n",
      "The behavior will change in pandas 3.0. This inplace method will never work because the intermediate object on which we are setting values always behaves as a copy.\n",
      "\n",
      "For example, when doing 'df[col].method(value, inplace=True)', try using 'df.method({col: value}, inplace=True)' or df[col] = df[col].method(value) instead, to perform the operation inplace on the original object.\n",
      "\n",
      "\n",
      "  data['Age'].fillna(data['Age'].mean(), inplace=True)\n"
     ]
    }
   ],
   "source": [
    "\n",
    "# Handling missing values\n",
    "\n",
    "# Filling missing Age with the mean\n",
    "data['Age'].fillna(data['Age'].mean(), inplace=True)\n",
    "\n",
    "# Dropping rows where City or Income is missing\n",
    "data.dropna(subset=['City', 'Income'], inplace=True)\n",
    "\n",
    "# Displaying the cleaned data\n",
    "print(data)\n"
   ]
  },
  {
   "cell_type": "markdown",
   "id": "8b3db8f5",
   "metadata": {},
   "source": [
    "### **Step 4: Transforming the Data**"
   ]
  },
  {
   "cell_type": "code",
   "execution_count": 4,
   "id": "960424e9",
   "metadata": {},
   "outputs": [
    {
     "name": "stdout",
     "output_type": "stream",
     "text": [
      "    Name   Age         City   Income    Age Group\n",
      "0  Alice  25.0     New York  70000.0        Young\n",
      "1    Bob  40.0  Los Angeles  80000.0  Middle-aged\n",
      "4    Eva  55.0      Houston  95000.0       Senior\n"
     ]
    }
   ],
   "source": [
    "\n",
    "# Adding a new column for Age Group\n",
    "data['Age Group'] = pd.cut(data['Age'], bins=[0, 30, 50, 100], labels=['Young', 'Middle-aged', 'Senior'])\n",
    "\n",
    "# Filtering the data to include only high-income individuals\n",
    "high_income_data = data[data['Income'] > 60000]\n",
    "\n",
    "# Displaying the transformed data\n",
    "print(high_income_data)\n"
   ]
  },
  {
   "cell_type": "markdown",
   "id": "6648c1a0",
   "metadata": {},
   "source": [
    "### **Step 5: Enriching the Data**"
   ]
  },
  {
   "cell_type": "code",
   "execution_count": 5,
   "id": "04542e24",
   "metadata": {},
   "outputs": [
    {
     "name": "stdout",
     "output_type": "stream",
     "text": [
      "    Name   Age         City   Income    Age Group  Population\n",
      "0  Alice  25.0     New York  70000.0        Young     8500000\n",
      "1    Bob  40.0  Los Angeles  80000.0  Middle-aged     4000000\n",
      "2  David  45.0      Chicago  50000.0  Middle-aged     2700000\n",
      "3    Eva  55.0      Houston  95000.0       Senior     2300000\n"
     ]
    }
   ],
   "source": [
    "\n",
    "# Sample dataset for city populations\n",
    "city_populations = pd.DataFrame({\n",
    "    'City': ['New York', 'Los Angeles', 'Chicago', 'Houston'],\n",
    "    'Population': [8500000, 4000000, 2700000, 2300000]\n",
    "})\n",
    "\n",
    "# Merging datasets to add population data\n",
    "enriched_data = pd.merge(data, city_populations, on='City', how='left')\n",
    "\n",
    "# Displaying the enriched data\n",
    "print(enriched_data)\n"
   ]
  },
  {
   "cell_type": "markdown",
   "id": "a721fcdc",
   "metadata": {},
   "source": [
    "### **Step 6: Validating the Data**"
   ]
  },
  {
   "cell_type": "code",
   "execution_count": 6,
   "id": "a737b9cc",
   "metadata": {},
   "outputs": [
    {
     "name": "stdout",
     "output_type": "stream",
     "text": [
      "Name          0\n",
      "Age           0\n",
      "City          0\n",
      "Income        0\n",
      "Age Group     0\n",
      "Population    0\n",
      "dtype: int64\n",
      "    Name   Age         City   Income    Age Group  Population\n",
      "0  Alice  25.0     New York  70000.0        Young     8500000\n",
      "1    Bob  40.0  Los Angeles  80000.0  Middle-aged     4000000\n",
      "2  David  45.0      Chicago  50000.0  Middle-aged     2700000\n",
      "3    Eva  55.0      Houston  95000.0       Senior     2300000\n"
     ]
    }
   ],
   "source": [
    "\n",
    "# Checking for any remaining missing values\n",
    "print(enriched_data.isnull().sum())\n",
    "\n",
    "# Ensuring no duplicates\n",
    "enriched_data.drop_duplicates(inplace=True)\n",
    "\n",
    "# Displaying the validated data\n",
    "print(enriched_data)\n"
   ]
  },
  {
   "cell_type": "markdown",
   "id": "6e9ec97d",
   "metadata": {},
   "source": [
    "\n",
    "### **Conclusion**\n",
    "\n",
    "In today's post, we introduced the concept of data wrangling and provided an overview of its key steps, including data cleaning, transformation, enrichment, and validation.\n",
    "\n",
    "**Key Takeaways**:\n",
    "- **Data Wrangling** is essential for preparing raw data for analysis by cleaning, transforming, and enriching datasets.\n",
    "- **Pandas** offers powerful tools for performing all steps of data wrangling, from handling missing values to merging datasets.\n",
    "- **Clean Data** leads to more accurate, reliable, and actionable insights.\n"
   ]
  }
 ],
 "metadata": {
  "kernelspec": {
   "display_name": "Python 3",
   "language": "python",
   "name": "python3"
  },
  "language_info": {
   "codemirror_mode": {
    "name": "ipython",
    "version": 3
   },
   "file_extension": ".py",
   "mimetype": "text/x-python",
   "name": "python",
   "nbconvert_exporter": "python",
   "pygments_lexer": "ipython3",
   "version": "3.12.2"
  }
 },
 "nbformat": 4,
 "nbformat_minor": 5
}
