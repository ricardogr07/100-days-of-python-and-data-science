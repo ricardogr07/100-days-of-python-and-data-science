{
 "cells": [
  {
   "cell_type": "markdown",
   "id": "86a8b116",
   "metadata": {},
   "source": [
    "# Day 3 - Functions and Modules: Organizing Your Python Code"
   ]
  },
  {
   "cell_type": "markdown",
   "id": "5c6bc298",
   "metadata": {},
   "source": [
    "## What Are Functions and Modules?\n",
    "\n",
    "**Functions:** A function is a block of organized, reusable code that is used to perform a single action. Functions provide better modularity for your application and a high degree of code reusability.\n",
    "\n",
    "Functions in Python are defined using the `def` keyword, followed by the function name and, optionally, parameters enclosed in parentheses. For example, if we want to declare a function named `greet` that takes a parameter `name` and returns a greeting, we can do so as follows:\n"
   ]
  },
  {
   "cell_type": "code",
   "execution_count": 3,
   "id": "4a7e4ea0",
   "metadata": {},
   "outputs": [],
   "source": [
    "def greet(name):\n",
    "    return f\"Hello, {name}!\""
   ]
  },
  {
   "cell_type": "code",
   "execution_count": 4,
   "id": "f91fda8d",
   "metadata": {},
   "outputs": [
    {
     "name": "stdout",
     "output_type": "stream",
     "text": [
      "Hello, Ricardo!\n"
     ]
    }
   ],
   "source": [
    "print(greet(\"Ricardo\"))"
   ]
  },
  {
   "cell_type": "markdown",
   "id": "0c8c1597",
   "metadata": {},
   "source": [
    "This will output:\n",
    "\n",
    "```\n",
    "Hello, Ricardo!\n",
    "```\n",
    "\n",
    "**Modules:** In Python, a module is a file that contains definitions and statements, such as functions, classes, and variables. The file name is the module name with the suffix `.py` added. \n",
    "\n",
    "Modules help you logically organize your Python code by grouping related functionality into separate files.\n",
    "\n",
    "### Example of creating and using a module:\n",
    "\n",
    "1. **Create a module file named `mymodule.py` that includes the `greet` function we previously defined:**\n"
   ]
  },
  {
   "cell_type": "markdown",
   "id": "42de349f",
   "metadata": {},
   "source": [
    "2. **Use the module in another file, `main.py`:**\n"
   ]
  },
  {
   "cell_type": "code",
   "execution_count": 5,
   "id": "26b1f77c",
   "metadata": {},
   "outputs": [
    {
     "name": "stdout",
     "output_type": "stream",
     "text": [
      "Hello, Ricardo!\n"
     ]
    }
   ],
   "source": [
    "import mymodule\n",
    "\n",
    "print(mymodule.greet(\"Ricardo\"))"
   ]
  },
  {
   "cell_type": "markdown",
   "id": "2b8eda9f",
   "metadata": {},
   "source": [
    "**Importing the Module:** The `import mymodule` statement in `main.py` tells Python to load the `mymodule.py` file. This allows `main.py` to access and use any functions, classes, or variables defined in `mymodule.py`.\n",
    "\n",
    "**Calling the Function:** Once the module is imported, you can call the `greet()` function from `mymodule` using the syntax `mymodule.greet(\"Ricardo\")`. This line tells Python to execute the `greet()` function defined in `mymodule.py` and pass the argument `\"Ricardo\"` to it.\n",
    "\n",
    "So when you run `main.py`, it will output:\n",
    "\n",
    "```\n",
    "Hello, Ricardo!\n",
    "```\n"
   ]
  },
  {
   "cell_type": "markdown",
   "id": "91bb94fa",
   "metadata": {},
   "source": [
    "## Writing Reusable Functions\n",
    "\n",
    "Let's begin by writing a simple function that converts temperatures from Celsius to Fahrenheit.\n",
    "\n",
    "### Step 1: Define the Function\n",
    "\n",
    "First, we need to define what the function will do. Since our goal is to convert a temperature from Celsius to Fahrenheit, we'll name the function `celsius_to_fahrenheit` to clearly indicate its purpose.\n"
   ]
  },
  {
   "cell_type": "code",
   "execution_count": 6,
   "id": "180b84fd",
   "metadata": {},
   "outputs": [],
   "source": [
    "def celsius_to_fahrenheit(celsius):\n",
    "    return (celsius * 9/5) + 32"
   ]
  },
  {
   "cell_type": "markdown",
   "id": "1ae2dd51",
   "metadata": {},
   "source": [
    "### Step 2: Test the Function\n",
    "\n",
    "Finally, let's test the function by converting 25°C to Fahrenheit:\n",
    "\n"
   ]
  },
  {
   "cell_type": "code",
   "execution_count": 7,
   "id": "42dc2364",
   "metadata": {},
   "outputs": [
    {
     "name": "stdout",
     "output_type": "stream",
     "text": [
      "77.0\n"
     ]
    }
   ],
   "source": [
    "print(celsius_to_fahrenheit(25))"
   ]
  },
  {
   "cell_type": "markdown",
   "id": "19a235cb",
   "metadata": {},
   "source": [
    "Which should give as output:\n",
    "\n",
    "```\n",
    "77.0\n",
    "```\n",
    "\n",
    "## Tutorial: Building a Currency Converter Function\n",
    "\n",
    "In this tutorial, we'll create a Python function that fetches the latest currency exchange rates and converts an amount from one currency to another.\n",
    "\n",
    "### Step 1: Import the Required Library\n",
    "\n",
    "To start, we need to import the `requests` library, which allows us to send HTTP requests and interact with web APIs.\n"
   ]
  },
  {
   "cell_type": "code",
   "execution_count": 8,
   "id": "6b12fd38",
   "metadata": {},
   "outputs": [],
   "source": [
    "import requests"
   ]
  },
  {
   "cell_type": "markdown",
   "id": "7c19179c",
   "metadata": {},
   "source": [
    "### Step 2: Define the Function\n",
    "\n",
    "Next, we'll define the function `convert_currency`, which will take three parameters: the `amount` to convert, the `from_currency` (the currency to convert from), and the `to_currency` (the currency to convert to).\n"
   ]
  },
  {
   "cell_type": "code",
   "execution_count": 9,
   "id": "e192ab36",
   "metadata": {},
   "outputs": [],
   "source": [
    "def convert_currency(amount, from_currency, to_currency):\n",
    "    url = f\"https://open.er-api.com/v6/latest/{from_currency}\"\n",
    "    response = requests.get(url)\n",
    "    data = response.json()\n",
    "\n",
    "    if data['result'] == 'success':\n",
    "        conversion_rate = data['rates'][to_currency]\n",
    "        converted_amount = amount * conversion_rate\n",
    "        return converted_amount\n",
    "    else:\n",
    "        return \"Error: Unable to fetch conversion rate.\"\n"
   ]
  },
  {
   "cell_type": "markdown",
   "id": "6f5089bc",
   "metadata": {},
   "source": [
    "### Step 3: Test the Function\n",
    "\n",
    "Finally, let's test the function by converting 100 USD to EUR:\n"
   ]
  },
  {
   "cell_type": "code",
   "execution_count": 10,
   "id": "5f8e8297",
   "metadata": {},
   "outputs": [
    {
     "name": "stdout",
     "output_type": "stream",
     "text": [
      "100 USD is equal to 90.40 EUR\n"
     ]
    }
   ],
   "source": [
    "# Example usage\n",
    "converted_amount = convert_currency(100, \"USD\", \"EUR\")\n",
    "print(f\"100 USD is equal to {converted_amount:.2f} EUR\")"
   ]
  },
  {
   "cell_type": "markdown",
   "id": "8ebcbf1a",
   "metadata": {},
   "source": [
    "When you run this code, it should output the equivalent amount in EUR based on the latest exchange rates fetched from the API.\n",
    "\n",
    "## Real-Life Example: Building a Currency Conversion Utility\n",
    "\n",
    "Now that we've written our function, let's create a small utility that allows users to input an amount and currencies, and then returns the converted value. This utility will be modular, meaning we'll organize the code into functions and store them in a module.\n",
    "\n",
    "### Step 1: Create a Module\n",
    "\n",
    "Create a new file called `currency_converter.py` and place the `convert_currency` function inside it.\n"
   ]
  },
  {
   "cell_type": "markdown",
   "id": "07ab54b9",
   "metadata": {},
   "source": [
    "### Step 2: Create the Main Script\n",
    "\n",
    "Next, we'll create a separate file that will act as the main script. This script will use the `currency_converter` module to convert currencies based on user input.\n",
    "\n",
    "Let's follow these steps now:\n",
    "\n",
    "1. Create a new file named `main.py`.\n",
    "2. In this file, import the `currency_converter` module and write the logic to interact with the user.\n"
   ]
  },
  {
   "cell_type": "code",
   "execution_count": 11,
   "id": "bdcea9ba",
   "metadata": {},
   "outputs": [
    {
     "name": "stdout",
     "output_type": "stream",
     "text": [
      "100.0 USD is equal to 90.40 EUR\n"
     ]
    }
   ],
   "source": [
    "import currency_converter\n",
    "\n",
    "amount = float(input(\"Enter amount: \"))\n",
    "from_currency = input(\"Enter the currency to convert from (e.g., USD): \").upper()\n",
    "to_currency = input(\"Enter the currency to convert to (e.g., EUR): \").upper()\n",
    "\n",
    "converted_amount = currency_converter.convert_currency(amount, from_currency, to_currency)\n",
    "print(f\"{amount} {from_currency} is equal to {converted_amount:.2f} {to_currency}\")"
   ]
  },
  {
   "cell_type": "markdown",
   "id": "d6b27f9a",
   "metadata": {},
   "source": [
    "### Step 3: Run the Utility\n",
    "\n",
    "When you run `main.py`, the script will prompt you for the amount and currencies, then display the converted value using the exchange rates fetched from the API.\n",
    "\n",
    "This example demonstrates how to structure your code for reusability and clarity by using modules. By organizing your functions into a module like `currency_converter.py`, you make your code easier to maintain, extend, and reuse across different projects. \n",
    "\n",
    "## Conclusion\n",
    "\n",
    "In this post, we've explored the importance of functions and modules in Python, how to write reusable functions, and how to organize your code into modules. \n",
    "\n",
    "We've also built a small utility that uses a public API to convert currency — demonstrating how modular programming can be applied to solve real-world problems.\n",
    "\n",
    "Stay tuned for tomorrow's post, where we'll continue our exploration of Python and data science techniques.\n"
   ]
  }
 ],
 "metadata": {
  "kernelspec": {
   "display_name": "Python 3",
   "language": "python",
   "name": "python3"
  },
  "language_info": {
   "codemirror_mode": {
    "name": "ipython",
    "version": 3
   },
   "file_extension": ".py",
   "mimetype": "text/x-python",
   "name": "python",
   "nbconvert_exporter": "python",
   "pygments_lexer": "ipython3",
   "version": "3.12.2"
  }
 },
 "nbformat": 4,
 "nbformat_minor": 5
}
