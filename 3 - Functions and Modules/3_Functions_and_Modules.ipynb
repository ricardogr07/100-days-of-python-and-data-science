{
 "cells": [
  {
   "cell_type": "code",
   "execution_count": 1,
   "metadata": {},
   "outputs": [
    {
     "name": "stdout",
     "output_type": "stream",
     "text": [
      "Hello, Ricardo!\n"
     ]
    }
   ],
   "source": [
    "def greet(name):\n",
    "    return f\"Hello, {name}!\"\n",
    "\n",
    "print(greet(\"Ricardo\"))"
   ]
  },
  {
   "cell_type": "code",
   "execution_count": 2,
   "metadata": {},
   "outputs": [
    {
     "name": "stdout",
     "output_type": "stream",
     "text": [
      "Hello, Ricardo!\n"
     ]
    }
   ],
   "source": [
    "import mymodule\n",
    "\n",
    "print(mymodule.greet(\"Ricardo\"))"
   ]
  },
  {
   "cell_type": "code",
   "execution_count": 3,
   "metadata": {},
   "outputs": [
    {
     "name": "stdout",
     "output_type": "stream",
     "text": [
      "77.0\n"
     ]
    }
   ],
   "source": [
    "# Function to convert Celsius to Fahrenheit\n",
    "def celsius_to_fahrenheit(celsius):\n",
    "    return (celsius * 9/5) + 32\n",
    "\n",
    "# Testing the function\n",
    "print(celsius_to_fahrenheit(25))  # Output: 77.0"
   ]
  },
  {
   "cell_type": "code",
   "execution_count": 4,
   "metadata": {},
   "outputs": [
    {
     "name": "stdout",
     "output_type": "stream",
     "text": [
      "100 USD is equal to 90.78 EUR\n"
     ]
    }
   ],
   "source": [
    "import requests\n",
    "\n",
    "def convert_currency(amount, from_currency, to_currency):\n",
    "    url = f\"https://open.er-api.com/v6/latest/{from_currency}\"\n",
    "    response = requests.get(url)\n",
    "    data = response.json()\n",
    "\n",
    "    if data['result'] == 'success':\n",
    "        conversion_rate = data['rates'][to_currency]\n",
    "        converted_amount = amount * conversion_rate\n",
    "        return converted_amount\n",
    "    else:\n",
    "        return \"Error: Unable to fetch conversion rate.\"\n",
    "\n",
    "# Example usage\n",
    "converted_amount = convert_currency(100, \"USD\", \"EUR\")\n",
    "print(f\"100 USD is equal to {converted_amount:.2f} EUR\")"
   ]
  },
  {
   "cell_type": "code",
   "execution_count": 5,
   "metadata": {},
   "outputs": [
    {
     "name": "stdout",
     "output_type": "stream",
     "text": [
      "30.0 USD is equal to 566.59 MXN\n"
     ]
    }
   ],
   "source": [
    "import currency_converter\n",
    "\n",
    "amount = float(input(\"Enter amount: \"))\n",
    "from_currency = input(\"Enter the currency to convert from (e.g., USD): \").upper()\n",
    "to_currency = input(\"Enter the currency to convert to (e.g., EUR): \").upper()\n",
    "\n",
    "converted_amount = currency_converter.convert_currency(amount, from_currency, to_currency)\n",
    "print(f\"{amount} {from_currency} is equal to {converted_amount:.2f} {to_currency}\")"
   ]
  }
 ],
 "metadata": {
  "kernelspec": {
   "display_name": "Python 3",
   "language": "python",
   "name": "python3"
  },
  "language_info": {
   "codemirror_mode": {
    "name": "ipython",
    "version": 3
   },
   "file_extension": ".py",
   "mimetype": "text/x-python",
   "name": "python",
   "nbconvert_exporter": "python",
   "pygments_lexer": "ipython3",
   "version": "3.12.2"
  }
 },
 "nbformat": 4,
 "nbformat_minor": 2
}
