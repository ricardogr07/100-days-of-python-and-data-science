{
 "cells": [
  {
   "cell_type": "markdown",
   "id": "9390fa08",
   "metadata": {},
   "source": [
    "\n",
    "# Day 22 - Customizing Plot Appearance using Matplotlib\n",
    "\n",
    "Welcome to Day 22 of our 100-Day Data Science journey! Today, we're focusing on enhancing the appearance of your plots by customizing colors, markers, and styles. Effective visualizations are not just about presenting data; they're about making that data easy to understand and engaging. Customizing the appearance of your plots can highlight key data points, improve readability, and make your visualizations more compelling.\n"
   ]
  },
  {
   "cell_type": "markdown",
   "id": "fe480092",
   "metadata": {},
   "source": [
    "\n",
    "## Why Customize Plot Appearance?\n",
    "\n",
    "Customizing the appearance of plots is crucial for several reasons:\n",
    "\n",
    "- **Highlight Key Data Points**: By adjusting colors and markers, you can draw attention to specific parts of your data, helping viewers focus on the most important aspects.\n",
    "- **Improve Readability**: Different styles can make your plots more accessible, especially when dealing with large datasets or overlapping lines.\n",
    "- **Enhance Visual Appeal**: A well-designed plot is not only informative but also visually appealing, which can help in presentations and reports.\n",
    "\n",
    "In this tutorial, we will explore how to customize the appearance of plots using Matplotlib, focusing on daily temperature data as our use case.\n"
   ]
  },
  {
   "cell_type": "markdown",
   "id": "99f69d57",
   "metadata": {},
   "source": [
    "## Tutorial: Customizing Plot Appearance"
   ]
  },
  {
   "cell_type": "markdown",
   "id": "6bbde68f",
   "metadata": {},
   "source": [
    "### Step 1: Basic Plot"
   ]
  },
  {
   "cell_type": "code",
   "execution_count": null,
   "id": "32caedae",
   "metadata": {},
   "outputs": [],
   "source": [
    "\n",
    "import matplotlib.pyplot as plt\n",
    "import pandas as pd\n",
    "import numpy as np\n",
    "\n",
    "# Simulated daily temperature data for a week\n",
    "dates = pd.date_range(start='2024-08-01', periods=7)\n",
    "temperatures = [29, 31, 28, 30, 27, 26, 25]\n",
    "\n",
    "# Creating a DataFrame\n",
    "temp_df = pd.DataFrame({'Date': dates, 'Temperature': temperatures})\n",
    "\n",
    "# Basic line plot\n",
    "plt.figure(figsize=(10, 6))\n",
    "plt.plot(temp_df['Date'], temp_df['Temperature'])\n",
    "plt.title('Daily Temperatures (Basic Plot)')\n",
    "plt.xlabel('Date')\n",
    "plt.ylabel('Temperature (°C)')\n",
    "plt.grid(True)\n",
    "plt.show()\n"
   ]
  },
  {
   "cell_type": "markdown",
   "id": "1b8b54c7",
   "metadata": {},
   "source": [
    "### Step 2: Customizing Colors and Markers"
   ]
  },
  {
   "cell_type": "code",
   "execution_count": null,
   "id": "8d857e25",
   "metadata": {},
   "outputs": [],
   "source": [
    "\n",
    "# Customized plot with color and markers\n",
    "plt.figure(figsize=(10, 6))\n",
    "plt.plot(temp_df['Date'], temp_df['Temperature'], color='orange', marker='o', linestyle='-', linewidth=2, markersize=8)\n",
    "plt.title('Daily Temperatures with Custom Colors and Markers')\n",
    "plt.xlabel('Date')\n",
    "plt.ylabel('Temperature (°C)')\n",
    "plt.grid(True)\n",
    "plt.show()\n"
   ]
  },
  {
   "cell_type": "markdown",
   "id": "0097f943",
   "metadata": {},
   "source": [
    "### Step 3: Adjusting Line Styles"
   ]
  },
  {
   "cell_type": "code",
   "execution_count": null,
   "id": "7a3e5937",
   "metadata": {},
   "outputs": [],
   "source": [
    "\n",
    "# Customized plot with a dashed line\n",
    "plt.figure(figsize=(10, 6))\n",
    "plt.plot(temp_df['Date'], temp_df['Temperature'], color='green', marker='s', linestyle='--', linewidth=2, markersize=6)\n",
    "plt.title('Daily Temperatures with Dashed Line Style')\n",
    "plt.xlabel('Date')\n",
    "plt.ylabel('Temperature (°C)')\n",
    "plt.grid(True)\n",
    "plt.show()\n"
   ]
  },
  {
   "cell_type": "markdown",
   "id": "c129a591",
   "metadata": {},
   "source": [
    "## Use Case: Enhancing a Plot of Daily Temperatures with Real Data"
   ]
  },
  {
   "cell_type": "markdown",
   "id": "de48cffa",
   "metadata": {},
   "source": [
    "### Step 1: Fetching Real Weather Data"
   ]
  },
  {
   "cell_type": "code",
   "execution_count": null,
   "id": "7a7f72a2",
   "metadata": {},
   "outputs": [],
   "source": [
    "\n",
    "import requests\n",
    "import pandas as pd\n",
    "\n",
    "# Replace 'YOUR_API_KEY' with your actual API key\n",
    "api_key = 'YOUR_API_KEY'\n",
    "location = 'New York'\n",
    "url = f\"http://api.weatherapi.com/v1/history.json?key={api_key}&q={location}&dt=2024-08-01\"\n",
    "\n",
    "# Fetching the data\n",
    "response = requests.get(url)\n",
    "weather_data = response.json()\n",
    "\n",
    "# Extracting relevant data\n",
    "dates = []\n",
    "temperatures = []\n",
    "for day in weather_data['forecast']['forecastday']:\n",
    "    dates.append(day['date'])\n",
    "    temperatures.append(day['day']['avgtemp_c'])\n",
    "\n",
    "# Creating a DataFrame\n",
    "temp_df = pd.DataFrame({'Date': pd.to_datetime(dates), 'Temperature': temperatures})\n",
    "\n",
    "print(temp_df.head())\n"
   ]
  },
  {
   "cell_type": "markdown",
   "id": "e495890d",
   "metadata": {},
   "source": [
    "### Step 2: Customizing the Plot with Real Data"
   ]
  },
  {
   "cell_type": "code",
   "execution_count": null,
   "id": "affb77b6",
   "metadata": {},
   "outputs": [],
   "source": [
    "\n",
    "import matplotlib.pyplot as plt\n",
    "\n",
    "# Customized plot with real data\n",
    "plt.figure(figsize=(10, 6))\n",
    "plt.plot(temp_df['Date'], temp_df['Temperature'], color='purple', marker='o', linestyle='-', linewidth=2, markersize=8, markerfacecolor='orange')\n",
    "plt.title('Daily Temperatures in New York (Real Data)')\n",
    "plt.xlabel('Date')\n",
    "plt.ylabel('Temperature (°C)')\n",
    "plt.grid(True)\n",
    "plt.xticks(rotation=45)\n",
    "plt.tight_layout()\n",
    "plt.show()\n"
   ]
  },
  {
   "cell_type": "markdown",
   "id": "4d70f4df",
   "metadata": {},
   "source": [
    "### Step 3: Adding a Trendline to the Plot"
   ]
  },
  {
   "cell_type": "code",
   "execution_count": null,
   "id": "93ac7a7c",
   "metadata": {},
   "outputs": [],
   "source": [
    "\n",
    "import numpy as np\n",
    "\n",
    "# Adding a trendline\n",
    "z = np.polyfit(temp_df['Date'].map(pd.Timestamp.toordinal), temp_df['Temperature'], 1)\n",
    "p = np.poly1d(z)\n",
    "plt.figure(figsize=(10, 6))\n",
    "plt.plot(temp_df['Date'], temp_df['Temperature'], color='purple', marker='o', linestyle='-', linewidth=2, markersize=8, markerfacecolor='orange')\n",
    "plt.plot(temp_df['Date'], p(temp_df['Date'].map(pd.Timestamp.toordinal)), color='blue', linestyle='--', linewidth=2)\n",
    "plt.title('Daily Temperatures in New York with Trendline')\n",
    "plt.xlabel('Date')\n",
    "plt.ylabel('Temperature (°C)')\n",
    "plt.grid(True)\n",
    "plt.xticks(rotation=45)\n",
    "plt.tight_layout()\n",
    "plt.show()\n"
   ]
  },
  {
   "cell_type": "markdown",
   "id": "d307f475",
   "metadata": {},
   "source": [
    "\n",
    "## Conclusion\n",
    "\n",
    "Customizing plot appearance is a vital skill in data visualization. By adjusting colors, markers, and line styles, you can create plots that are not only more attractive but also more effective at communicating your data. In today's post, we used Matplotlib to customize a plot of daily temperatures, showing how simple changes can significantly improve the clarity and impact of your visualizations.\n",
    "\n",
    "Stay tuned for tomorrow's post, where we'll continue our exploration of data visualization techniques!\n"
   ]
  }
 ],
 "metadata": {},
 "nbformat": 4,
 "nbformat_minor": 5
}
