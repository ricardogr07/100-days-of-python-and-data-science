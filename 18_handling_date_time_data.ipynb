{
 "cells": [
  {
   "cell_type": "markdown",
   "id": "8421dc67",
   "metadata": {},
   "source": [
    "\n",
    "# Day 18 - Handling Date and Time Data\n"
   ]
  },
  {
   "cell_type": "markdown",
   "id": "ea91bfa4",
   "metadata": {},
   "source": [
    "\n",
    "## Why is Handling Date and Time Data Important?\n",
    "Dates and times are fundamental components of many datasets. Whether you're tracking website traffic, sales, or other metrics over time, understanding how to work with date and time data is crucial for accurate analysis. Pandas provides powerful tools to handle, manipulate, and analyze time-series data, allowing you to gain insights from temporal patterns.\n"
   ]
  },
  {
   "cell_type": "markdown",
   "id": "68dbffed",
   "metadata": {},
   "source": [
    "\n",
    "## Tutorial: Working with Dates and Times in DataFrames\n",
    "Pandas makes it easy to work with dates and times, providing a variety of functions for parsing, formatting, and extracting components from datetime objects. Let's go through some practical examples to illustrate these techniques.\n"
   ]
  },
  {
   "cell_type": "code",
   "execution_count": null,
   "id": "82d2b9bf",
   "metadata": {},
   "outputs": [],
   "source": [
    "!pip install pandas"
   ]
  },
  {
   "cell_type": "code",
   "execution_count": null,
   "id": "bdede316",
   "metadata": {},
   "outputs": [],
   "source": [
    "\n",
    "import pandas as pd\n",
    "\n",
    "# Example DataFrame with date strings\n",
    "data = {\n",
    "    'Event': ['Event A', 'Event B', 'Event C', 'Event D'],\n",
    "    'Date': ['2023-01-01', '2023-03-15', '2023-07-04', '2023-10-20']\n",
    "}\n",
    "df = pd.DataFrame(data)\n",
    "\n",
    "# Converting the 'Date' column to datetime\n",
    "df['Date'] = pd.to_datetime(df['Date'])\n",
    "\n",
    "# Display the DataFrame with parsed dates\n",
    "print(\"DataFrame with parsed dates:\")\n",
    "print(df)\n"
   ]
  },
  {
   "cell_type": "markdown",
   "id": "3c8e24cb",
   "metadata": {},
   "source": [
    "\n",
    "### Extracting Date Components\n",
    "You can easily extract components like the year, month, day, or even the day of the week from datetime objects. This is useful for analyzing trends or grouping data by specific time periods.\n"
   ]
  },
  {
   "cell_type": "code",
   "execution_count": null,
   "id": "903a8087",
   "metadata": {},
   "outputs": [],
   "source": [
    "\n",
    "# Extracting components from the date\n",
    "df['Year'] = df['Date'].dt.year\n",
    "df['Month'] = df['Date'].dt.month\n",
    "df['Day of Week'] = df['Date'].dt.day_name()\n",
    "\n",
    "print(\"DataFrame with extracted date components:\")\n",
    "print(df)\n"
   ]
  },
  {
   "cell_type": "markdown",
   "id": "a32cf16f",
   "metadata": {},
   "source": [
    "\n",
    "## Use Case: Analyzing Time-Series Data with Google Trends\n",
    "For this use case, we'll use the Google Trends data to analyze the popularity of the search term \"Data Science\" over time. We'll fetch the data using the `pytrends` library and then perform time-series analysis.\n"
   ]
  },
  {
   "cell_type": "markdown",
   "id": "e13840c1",
   "metadata": {},
   "source": [
    "\n",
    "### Step 1: Fetching Google Trends Data\n",
    "We'll use the `pytrends` library to download time-series data related to specific search terms. First, we'll need to install the `pytrends` library.\n"
   ]
  },
  {
   "cell_type": "code",
   "execution_count": null,
   "id": "0b0264dc",
   "metadata": {},
   "outputs": [],
   "source": [
    "!pip install pytrends"
   ]
  },
  {
   "cell_type": "code",
   "execution_count": null,
   "id": "e0d23742",
   "metadata": {},
   "outputs": [],
   "source": [
    "\n",
    "from pytrends.request import TrendReq\n",
    "import pandas as pd\n",
    "\n",
    "# Initialize pytrends request\n",
    "pytrends = TrendReq(hl='en-US', tz=360)\n",
    "\n",
    "# Define the search term and fetch data\n",
    "search_term = \"Data Science\"\n",
    "pytrends.build_payload([search_term], cat=0, timeframe='2010-01-01 2024-08-19', geo='', gprop='')\n",
    "trends_df = pytrends.interest_over_time()\n",
    "\n",
    "# Display the first few rows of the dataset\n",
    "print(\"First few rows of Google Trends data:\")\n",
    "print(trends_df.head())\n"
   ]
  },
  {
   "cell_type": "markdown",
   "id": "b1434237",
   "metadata": {},
   "source": [
    "\n",
    "### Step 2: Parsing and Handling Dates\n",
    "We'll ensure that the date column is parsed correctly and then extract relevant components for analysis.\n"
   ]
  },
  {
   "cell_type": "code",
   "execution_count": null,
   "id": "6294f174",
   "metadata": {},
   "outputs": [],
   "source": [
    "\n",
    "# Ensure the index (date) is in datetime format\n",
    "trends_df.reset_index(inplace=True)\n",
    "\n",
    "# Extracting components from the date\n",
    "trends_df['Year'] = trends_df['date'].dt.year\n",
    "trends_df['Month'] = trends_df['date'].dt.month\n",
    "trends_df['Day of Week'] = trends_df['date'].dt.day_name()\n",
    "\n",
    "print(\"Google Trends data with extracted date components:\")\n",
    "print(trends_df.head())\n"
   ]
  },
  {
   "cell_type": "markdown",
   "id": "1094258b",
   "metadata": {},
   "source": [
    "\n",
    "### Step 3: Analyzing Trends Over Time\n",
    "We’ll group the data by month to analyze trends in interest over time for the search term.\n"
   ]
  },
  {
   "cell_type": "code",
   "execution_count": null,
   "id": "abfb0bc5",
   "metadata": {},
   "outputs": [],
   "source": [
    "\n",
    "# Grouping by month to analyze monthly trends\n",
    "trends_df['Year'] = trends_df['Year'].astype(int)\n",
    "trends_df['Month'] = trends_df['Month'].astype(int)\n",
    "\n",
    "# Grouping by year and month, then calculating the mean for the 'Data Science' column\n",
    "monthly_trends = trends_df.groupby(['Year', 'Month'])['Data Science'].mean().reset_index()\n",
    "\n",
    "print(\"Monthly trend summary for Data Science:\")\n",
    "print(monthly_trends.head())\n"
   ]
  },
  {
   "cell_type": "code",
   "execution_count": null,
   "id": "dd5f7e91",
   "metadata": {},
   "outputs": [],
   "source": [
    "!pip install matplotlib"
   ]
  },
  {
   "cell_type": "code",
   "execution_count": null,
   "id": "e717ef80",
   "metadata": {},
   "outputs": [],
   "source": [
    "import matplotlib.pyplot as plt\n",
    "\n",
    "monthly_trends['Date'] = pd.to_datetime(monthly_trends[['Year', 'Month']].assign(Day=1))\n",
    "\n",
    "# Plotting the line graph\n",
    "plt.figure(figsize=(10, 6))\n",
    "plt.plot(monthly_trends['Date'], monthly_trends['Data Science'], marker='o', linestyle='-')\n",
    "plt.title('Monthly Average Trend for Data Science Since 2010')\n",
    "plt.xlabel('Date')\n",
    "plt.ylabel('Average Trend')\n",
    "plt.grid(True)\n",
    "plt.xticks(rotation=45)\n",
    "plt.tight_layout()\n",
    "plt.show()"
   ]
  },
  {
   "cell_type": "code",
   "execution_count": null,
   "id": "42a4d024",
   "metadata": {},
   "outputs": [],
   "source": [
    "!pip install scikit.learn"
   ]
  },
  {
   "cell_type": "code",
   "execution_count": null,
   "id": "2f2c00cd",
   "metadata": {},
   "outputs": [],
   "source": [
    "import numpy as np\n",
    "from sklearn.linear_model import LinearRegression\n",
    "monthly_trends['Date'] = pd.to_datetime(monthly_trends[['Year', 'Month']].assign(Day=1))\n",
    "\n",
    "# Convert datetime to ordinal for linear regression\n",
    "monthly_trends['Date_ordinal'] = monthly_trends['Date'].map(pd.Timestamp.toordinal)\n",
    "\n",
    "# Reshape for sklearn\n",
    "X = monthly_trends['Date_ordinal'].values.reshape(-1, 1)\n",
    "y = monthly_trends['Data Science'].values\n",
    "\n",
    "# Fit the linear regression model\n",
    "model = LinearRegression()\n",
    "model.fit(X, y)\n",
    "\n",
    "# Predict the trendline\n",
    "trendline = model.predict(X)"
   ]
  },
  {
   "cell_type": "code",
   "execution_count": null,
   "id": "e16891e3",
   "metadata": {},
   "outputs": [],
   "source": [
    "# Plotting the line graph\n",
    "plt.figure(figsize=(10, 6))\n",
    "plt.plot(monthly_trends['Date'], monthly_trends['Data Science'], marker='o', linestyle='-', label='Data Science Trend')\n",
    "plt.plot(monthly_trends['Date'], trendline, color='red', linestyle='--', label='Trendline')\n",
    "plt.title('Monthly Average Trend for Data Science Since 2010')\n",
    "plt.xlabel('Date')\n",
    "plt.ylabel('Average Trend')\n",
    "plt.grid(True)\n",
    "plt.xticks(rotation=45)\n",
    "plt.legend()\n",
    "plt.tight_layout()\n",
    "plt.show()"
   ]
  },
  {
   "cell_type": "markdown",
   "id": "4aeaf416",
   "metadata": {},
   "source": [
    "\n",
    "## Conclusion\n",
    "In today’s post, we explored how to handle date and time data in Pandas, focusing on analyzing time-series data using the Google Trends API. We demonstrated how to fetch, parse, and analyze trends over time, providing valuable insights into the popularity of search terms.\n"
   ]
  }
 ],
 "metadata": {
  "kernelspec": {
   "display_name": "Python 3",
   "language": "python",
   "name": "python3"
  },
  "language_info": {
   "codemirror_mode": {
    "name": "ipython",
    "version": 3
   },
   "file_extension": ".py",
   "mimetype": "text/x-python",
   "name": "python",
   "nbconvert_exporter": "python",
   "pygments_lexer": "ipython3",
   "version": "3.12.2"
  }
 },
 "nbformat": 4,
 "nbformat_minor": 5
}
