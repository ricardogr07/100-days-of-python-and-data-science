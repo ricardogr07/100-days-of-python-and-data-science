{
 "cells": [
  {
   "cell_type": "markdown",
   "id": "30bb3507",
   "metadata": {},
   "source": [
    "\n",
    "# **Day 32 — Handling Missing Values and Outliers**\n"
   ]
  },
  {
   "cell_type": "markdown",
   "id": "e6c9dc40",
   "metadata": {},
   "source": [
    "\n",
    "### **Why Address Missing Values and Outliers?**\n",
    "\n",
    "Missing values and outliers can skew analysis, lead to incorrect conclusions, and make it difficult to build reliable models.\n",
    "By handling them properly, you can:\n",
    "- **Improve Data Quality**: Ensure that your dataset is complete, clean, and ready for analysis.\n",
    "- **Prevent Bias**: Avoid making assumptions based on incomplete data.\n",
    "- **Handle Edge Cases**: Address outliers that can distort results or introduce noise into the analysis.\n"
   ]
  },
  {
   "cell_type": "markdown",
   "id": "57ee5437",
   "metadata": {},
   "source": [
    "### **Handling Missing Values**"
   ]
  },
  {
   "cell_type": "markdown",
   "id": "24cb81ef",
   "metadata": {},
   "source": [
    "\n",
    "Missing values occur when data points are absent from the dataset.\n",
    "They can arise for various reasons, such as data entry errors, sensor failures, or incomplete records. Common strategies for handling missing values include:\n",
    "- **Removing Missing Data**: Dropping rows or columns with missing values.\n",
    "- **Imputation**: Filling in missing data with calculated values, such as the mean, median, or mode.\n",
    "- **Flagging**: Creating a new column to indicate where data is missing.\n"
   ]
  },
  {
   "cell_type": "markdown",
   "id": "51a9a3b8",
   "metadata": {},
   "source": [
    "### **Handling Outliers**"
   ]
  },
  {
   "cell_type": "markdown",
   "id": "da70cd94",
   "metadata": {},
   "source": [
    "\n",
    "Outliers are extreme values that differ significantly from the majority of the data.\n",
    "They can occur due to errors, rare events, or natural variability. Common techniques for handling outliers include:\n",
    "- **Removing Outliers**: Dropping data points that fall outside a defined range.\n",
    "- **Transforming Outliers**: Applying log or square root transformations to reduce the impact of outliers.\n",
    "- **Capping**: Limiting outlier values to a predefined maximum or minimum value (also known as \"winsorizing\").\n"
   ]
  },
  {
   "cell_type": "markdown",
   "id": "74c8f126",
   "metadata": {},
   "source": [
    "### **Techniques for Addressing Missing Data**"
   ]
  },
  {
   "cell_type": "markdown",
   "id": "ae76ba2c",
   "metadata": {},
   "source": [
    "\n",
    "Let's walk through practical techniques for handling missing values and outliers using Pandas.\n"
   ]
  },
  {
   "cell_type": "code",
   "execution_count": 1,
   "id": "7b9fa7aa",
   "metadata": {},
   "outputs": [],
   "source": [
    "\n",
    "import pandas as pd\n",
    "import numpy as np\n"
   ]
  },
  {
   "cell_type": "markdown",
   "id": "5d11f219",
   "metadata": {},
   "source": [
    "### **Loading an Incomplete Dataset**"
   ]
  },
  {
   "cell_type": "code",
   "execution_count": 2,
   "id": "19370d31",
   "metadata": {},
   "outputs": [
    {
     "name": "stdout",
     "output_type": "stream",
     "text": [
      "      Product  Rating  Review Count   Price\n",
      "0      Laptop     4.5         120.0  1000.0\n",
      "1  Smartphone     NaN          85.0   800.0\n",
      "2  Headphones     3.0           NaN    50.0\n",
      "3     Monitor     NaN          95.0   300.0\n",
      "4    Keyboard     4.2          40.0     NaN\n"
     ]
    }
   ],
   "source": [
    "\n",
    "# Creating a sample dataset of product reviews\n",
    "data = pd.DataFrame({\n",
    "    'Product': ['Laptop', 'Smartphone', 'Headphones', 'Monitor', 'Keyboard'],\n",
    "    'Rating': [4.5, None, 3.0, None, 4.2],\n",
    "    'Review Count': [120, 85, None, 95, 40],\n",
    "    'Price': [1000, 800, 50, 300, None]\n",
    "})\n",
    "\n",
    "# Displaying the dataset\n",
    "print(data)\n"
   ]
  },
  {
   "cell_type": "markdown",
   "id": "d9c7d635",
   "metadata": {},
   "source": [
    "### **Handling Missing Values**"
   ]
  },
  {
   "cell_type": "code",
   "execution_count": 3,
   "id": "af1dcda6",
   "metadata": {},
   "outputs": [
    {
     "name": "stdout",
     "output_type": "stream",
     "text": [
      "Dropped rows:\n",
      "  Product  Rating  Review Count   Price\n",
      "0  Laptop     4.5         120.0  1000.0\n",
      "\n",
      "Imputed data:\n",
      "      Product  Rating  Review Count   Price\n",
      "0      Laptop     4.5         120.0  1000.0\n",
      "1  Smartphone     3.9          85.0   800.0\n",
      "2  Headphones     3.0          85.0    50.0\n",
      "3     Monitor     3.9          95.0   300.0\n",
      "4    Keyboard     4.2          40.0   537.5\n",
      "\n",
      "Flagged missing values:\n",
      "      Product  Rating  Review Count   Price  Price_Missing\n",
      "0      Laptop     4.5         120.0  1000.0          False\n",
      "1  Smartphone     NaN          85.0   800.0          False\n",
      "2  Headphones     3.0           NaN    50.0          False\n",
      "3     Monitor     NaN          95.0   300.0          False\n",
      "4    Keyboard     4.2          40.0     NaN           True\n"
     ]
    },
    {
     "name": "stderr",
     "output_type": "stream",
     "text": [
      "C:\\Users\\ricar\\AppData\\Local\\Temp\\ipykernel_50544\\2584568480.py:6: FutureWarning: A value is trying to be set on a copy of a DataFrame or Series through chained assignment using an inplace method.\n",
      "The behavior will change in pandas 3.0. This inplace method will never work because the intermediate object on which we are setting values always behaves as a copy.\n",
      "\n",
      "For example, when doing 'df[col].method(value, inplace=True)', try using 'df.method({col: value}, inplace=True)' or df[col] = df[col].method(value) instead, to perform the operation inplace on the original object.\n",
      "\n",
      "\n",
      "  data_imputed['Rating'].fillna(data_imputed['Rating'].mean(), inplace=True)\n",
      "C:\\Users\\ricar\\AppData\\Local\\Temp\\ipykernel_50544\\2584568480.py:7: FutureWarning: A value is trying to be set on a copy of a DataFrame or Series through chained assignment using an inplace method.\n",
      "The behavior will change in pandas 3.0. This inplace method will never work because the intermediate object on which we are setting values always behaves as a copy.\n",
      "\n",
      "For example, when doing 'df[col].method(value, inplace=True)', try using 'df.method({col: value}, inplace=True)' or df[col] = df[col].method(value) instead, to perform the operation inplace on the original object.\n",
      "\n",
      "\n",
      "  data_imputed['Review Count'].fillna(data_imputed['Review Count'].mean(), inplace=True)\n",
      "C:\\Users\\ricar\\AppData\\Local\\Temp\\ipykernel_50544\\2584568480.py:8: FutureWarning: A value is trying to be set on a copy of a DataFrame or Series through chained assignment using an inplace method.\n",
      "The behavior will change in pandas 3.0. This inplace method will never work because the intermediate object on which we are setting values always behaves as a copy.\n",
      "\n",
      "For example, when doing 'df[col].method(value, inplace=True)', try using 'df.method({col: value}, inplace=True)' or df[col] = df[col].method(value) instead, to perform the operation inplace on the original object.\n",
      "\n",
      "\n",
      "  data_imputed['Price'].fillna(data_imputed['Price'].mean(), inplace=True)\n"
     ]
    }
   ],
   "source": [
    "\n",
    "# Technique 1: Removing rows with missing data\n",
    "data_dropped = data.dropna()\n",
    "\n",
    "# Technique 2: Imputation (filling missing values with the mean)\n",
    "data_imputed = data.copy()\n",
    "data_imputed['Rating'].fillna(data_imputed['Rating'].mean(), inplace=True)\n",
    "data_imputed['Review Count'].fillna(data_imputed['Review Count'].mean(), inplace=True)\n",
    "data_imputed['Price'].fillna(data_imputed['Price'].mean(), inplace=True)\n",
    "\n",
    "# Technique 3: Flagging missing data\n",
    "data_flagged = data.copy()\n",
    "data_flagged['Price_Missing'] = data_flagged['Price'].isnull()\n",
    "\n",
    "# Displaying the results\n",
    "print(\"Dropped rows:\")\n",
    "print(data_dropped)\n",
    "print(\"\\nImputed data:\")\n",
    "print(data_imputed)\n",
    "print(\"\\nFlagged missing values:\")\n",
    "print(data_flagged)\n"
   ]
  },
  {
   "cell_type": "markdown",
   "id": "fd4ab8a3",
   "metadata": {},
   "source": [
    "### **Detecting and Handling Outliers**"
   ]
  },
  {
   "cell_type": "code",
   "execution_count": 4,
   "id": "8300bbe2",
   "metadata": {},
   "outputs": [
    {
     "name": "stdout",
     "output_type": "stream",
     "text": [
      "Outliers:\n",
      "Empty DataFrame\n",
      "Columns: [Product, Rating, Review Count, Price]\n",
      "Index: []\n",
      "\n",
      "Data without outliers:\n",
      "      Product  Rating  Review Count   Price\n",
      "0      Laptop     4.5         120.0  1000.0\n",
      "1  Smartphone     3.9          85.0   800.0\n",
      "2  Headphones     3.0          85.0    50.0\n",
      "3     Monitor     3.9          95.0   300.0\n",
      "4    Keyboard     4.2          40.0   537.5\n"
     ]
    }
   ],
   "source": [
    "\n",
    "# Identifying outliers using the IQR method\n",
    "Q1 = data_imputed['Price'].quantile(0.25)\n",
    "Q3 = data_imputed['Price'].quantile(0.75)\n",
    "IQR = Q3 - Q1\n",
    "\n",
    "# Defining outliers as values that are more than 1.5 * IQR from Q1 or Q3\n",
    "lower_bound = Q1 - 1.5 * IQR\n",
    "upper_bound = Q3 + 1.5 * IQR\n",
    "\n",
    "# Filtering out the outliers\n",
    "outliers = data_imputed[(data_imputed['Price'] < lower_bound) | (data_imputed['Price'] > upper_bound)]\n",
    "print(\"Outliers:\")\n",
    "print(outliers)\n",
    "\n",
    "# Removing the outliers\n",
    "data_no_outliers = data_imputed[(data_imputed['Price'] >= lower_bound) & (data_imputed['Price'] <= upper_bound)]\n",
    "print(\"\\nData without outliers:\")\n",
    "print(data_no_outliers)\n"
   ]
  },
  {
   "cell_type": "markdown",
   "id": "78f0f48e",
   "metadata": {},
   "source": [
    "### **Capping Outliers**"
   ]
  },
  {
   "cell_type": "code",
   "execution_count": 6,
   "id": "a66e2106",
   "metadata": {},
   "outputs": [
    {
     "name": "stdout",
     "output_type": "stream",
     "text": [
      "\n",
      "Capped outliers:\n",
      "      Product  Rating  Review Count   Price\n",
      "0      Laptop     4.5         120.0  1000.0\n",
      "1  Smartphone     3.9          85.0   800.0\n",
      "2  Headphones     3.0          85.0    50.0\n",
      "3     Monitor     3.9          95.0   300.0\n",
      "4    Keyboard     4.2          40.0   537.5\n"
     ]
    }
   ],
   "source": [
    "\n",
    "# Capping outliers in the Price column\n",
    "data_capped = data_imputed.copy()\n",
    "data_capped['Price'] = np.where(data_capped['Price'] > upper_bound, upper_bound, \n",
    "                                np.where(data_capped['Price'] < lower_bound, lower_bound, data_capped['Price']))\n",
    "\n",
    "print(\"\\nCapped outliers:\")\n",
    "print(data_capped)\n"
   ]
  }
 ],
 "metadata": {
  "kernelspec": {
   "display_name": "Python 3",
   "language": "python",
   "name": "python3"
  },
  "language_info": {
   "codemirror_mode": {
    "name": "ipython",
    "version": 3
   },
   "file_extension": ".py",
   "mimetype": "text/x-python",
   "name": "python",
   "nbconvert_exporter": "python",
   "pygments_lexer": "ipython3",
   "version": "3.12.2"
  }
 },
 "nbformat": 4,
 "nbformat_minor": 5
}
